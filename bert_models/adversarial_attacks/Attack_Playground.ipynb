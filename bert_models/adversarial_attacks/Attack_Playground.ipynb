{
 "cells": [
  {
   "cell_type": "markdown",
   "id": "da2b5699",
   "metadata": {},
   "source": [
    "### Jupyter Notebook to understand TextAttack for Attacking Models "
   ]
  },
  {
   "cell_type": "markdown",
   "id": "22c56c31",
   "metadata": {},
   "source": [
    "We Plan to use 4 different Attack Strategies \n",
    "\n",
    "1) TextFoolerJin2019\n",
    "\n",
    "2) DeepWordBugGao2018\n",
    "\n",
    "3) BAEGarg2019\n",
    "\n",
    "4) FasterGeneticAlgorithmJia2019"
   ]
  },
  {
   "cell_type": "code",
   "execution_count": 1,
   "id": "1334e6ca",
   "metadata": {},
   "outputs": [],
   "source": [
    "%load_ext autoreload\n",
    "%autoreload 2\n",
    "\n",
    "\n",
    "import logging\n",
    "import os\n",
    "\n",
    "os.environ['TF_CPP_MIN_LOG_LEVEL'] = '3'  # FATAL\n",
    "logging.getLogger('tensorflow').setLevel(logging.FATAL)"
   ]
  },
  {
   "cell_type": "code",
   "execution_count": 98,
   "id": "c9c6ec09",
   "metadata": {
    "scrolled": false
   },
   "outputs": [],
   "source": [
    "from ganbert_adversarial_attackutils import *\n",
    "\n",
    "from textattack.attack_recipes import TextFoolerJin2019,DeepWordBugGao2018,BAEGarg2019,FasterGeneticAlgorithmJia2019, MorpheusTan2020, Pruthi2019"
   ]
  },
  {
   "cell_type": "code",
   "execution_count": 3,
   "id": "5fa900eb",
   "metadata": {},
   "outputs": [
    {
     "name": "stderr",
     "output_type": "stream",
     "text": [
      "Some weights of the model checkpoint at bert-base-cased were not used when initializing BertModel: ['cls.predictions.transform.LayerNorm.weight', 'cls.seq_relationship.weight', 'cls.predictions.bias', 'cls.predictions.decoder.weight', 'cls.predictions.transform.dense.bias', 'cls.predictions.transform.LayerNorm.bias', 'cls.seq_relationship.bias', 'cls.predictions.transform.dense.weight']\n",
      "- This IS expected if you are initializing BertModel from the checkpoint of a model trained on another task or with another architecture (e.g. initializing a BertForSequenceClassification model from a BertForPreTraining model).\n",
      "- This IS NOT expected if you are initializing BertModel from the checkpoint of a model that you expect to be exactly identical (initializing a BertForSequenceClassification model from a BertForSequenceClassification model).\n"
     ]
    },
    {
     "name": "stdout",
     "output_type": "stream",
     "text": [
      "type of transformer:  <class 'transformers.models.bert.modeling_bert.BertModel'>\n",
      "hiddensize is:  768\n",
      "hidden_sizes[i] and [i+1] is 768 and 768\n",
      "type of discriminator:  <class 'ganbert_models.Discriminator'>\n",
      "There are 1 GPU(s) available.\n",
      "We will use the GPU: Tesla K80\n",
      "\n",
      "\n",
      "\n"
     ]
    }
   ],
   "source": [
    "model_wrapper = BertModelWrapper(model_path='../gan-bert/gan_bert_fine_tuned_6652.pt')"
   ]
  },
  {
   "cell_type": "code",
   "execution_count": 105,
   "id": "498e3535",
   "metadata": {
    "scrolled": false
   },
   "outputs": [
    {
     "name": "stderr",
     "output_type": "stream",
     "text": [
      "Using custom data configuration default\n",
      "Reusing dataset sst2 (/home/ecbm4040/.cache/huggingface/datasets/sst2/default/0.0.0/90167692658fa4abca2ffa3ede1a43a71e2bf671078c5c275c64c4231d5a62fa)\n",
      "textattack: Loading \u001b[94mdatasets\u001b[0m dataset \u001b[94mgpt3mix/sst2\u001b[0m, split \u001b[94mtrain\u001b[0m.\n"
     ]
    }
   ],
   "source": [
    "sst2_dataset = HuggingFaceDataset(\"gpt3mix/sst2\", split=\"train\")"
   ]
  },
  {
   "cell_type": "code",
   "execution_count": 21,
   "id": "f75728e6",
   "metadata": {
    "scrolled": true
   },
   "outputs": [
    {
     "name": "stderr",
     "output_type": "stream",
     "text": [
      "textattack: Unknown if model of class <class 'ganbert_adversarial_attackutils.InferenceGANBert'> compatible with goal function <class 'textattack.goal_functions.classification.untargeted_classification.UntargetedClassification'>.\n"
     ]
    }
   ],
   "source": [
    "# Create the recipe\n",
    "textfooler_recipe = TextFoolerJin2019.build(model_wrapper)"
   ]
  },
  {
   "cell_type": "code",
   "execution_count": 22,
   "id": "f7db3f08",
   "metadata": {},
   "outputs": [],
   "source": [
    "attacker = Attacker(textfooler_recipe, sst2_dataset, \n",
    "                    AttackArgs(num_examples = 10 ,\n",
    "                                   shuffle = True , # Shuffle Dataset \n",
    "                                   log_to_csv = \"Ganbert_Attack.csv\" , # Log Attack to CSV \n",
    "                                   disable_stdout = True,# Supress individual Attack Results \n",
    "                              ))\n",
    "\n",
    "\n"
   ]
  },
  {
   "cell_type": "code",
   "execution_count": 23,
   "id": "e3bd9f11",
   "metadata": {
    "scrolled": false
   },
   "outputs": [
    {
     "name": "stderr",
     "output_type": "stream",
     "text": [
      "textattack: Logging to CSV at path Ganbert_Attack.csv\n",
      "[Succeeded / Failed / Skipped / Total] 0 / 0 / 2 / 2:  20%|▏| 2/10 [00:00<00:00,"
     ]
    },
    {
     "name": "stdout",
     "output_type": "stream",
     "text": [
      "Attack(\n",
      "  (search_method): GreedyWordSwapWIR(\n",
      "    (wir_method):  delete\n",
      "  )\n",
      "  (goal_function):  UntargetedClassification\n",
      "  (transformation):  WordSwapEmbedding(\n",
      "    (max_candidates):  50\n",
      "    (embedding):  WordEmbedding\n",
      "  )\n",
      "  (constraints): \n",
      "    (0): WordEmbeddingDistance(\n",
      "        (embedding):  WordEmbedding\n",
      "        (min_cos_sim):  0.5\n",
      "        (cased):  False\n",
      "        (include_unknown_words):  True\n",
      "        (compare_against_original):  True\n",
      "      )\n",
      "    (1): PartOfSpeech(\n",
      "        (tagger_type):  nltk\n",
      "        (tagset):  universal\n",
      "        (allow_verb_noun_swap):  True\n",
      "        (compare_against_original):  True\n",
      "      )\n",
      "    (2): UniversalSentenceEncoder(\n",
      "        (metric):  angular\n",
      "        (threshold):  0.840845057\n",
      "        (window_size):  15\n",
      "        (skip_text_shorter_than_window):  True\n",
      "        (compare_against_original):  False\n",
      "      )\n",
      "    (3): RepeatModification\n",
      "    (4): StopwordModification\n",
      "    (5): InputColumnModification(\n",
      "        (matching_column_labels):  ['premise', 'hypothesis']\n",
      "        (columns_to_ignore):  {'premise'}\n",
      "      )\n",
      "  (is_black_box):  True\n",
      ") \n",
      "\n"
     ]
    },
    {
     "name": "stderr",
     "output_type": "stream",
     "text": [
      "Exception ignored in: <function CapturableResourceDeleter.__del__ at 0x7fcbbc0721f0>\n",
      "Traceback (most recent call last):\n",
      "  File \"/home/ecbm4040/climate_change/lib/python3.8/site-packages/tensorflow/python/training/tracking/tracking.py\", line 202, in __del__\n",
      "    self._destroy_resource()\n",
      "  File \"/home/ecbm4040/climate_change/lib/python3.8/site-packages/tensorflow/python/eager/def_function.py\", line 780, in __call__\n",
      "    result = self._call(*args, **kwds)\n",
      "  File \"/home/ecbm4040/climate_change/lib/python3.8/site-packages/tensorflow/python/eager/def_function.py\", line 823, in _call\n",
      "    self._initialize(args, kwds, add_initializers_to=initializers)\n",
      "  File \"/home/ecbm4040/climate_change/lib/python3.8/site-packages/tensorflow/python/eager/def_function.py\", line 696, in _initialize\n",
      "    self._stateful_fn._get_concrete_function_internal_garbage_collected(  # pylint: disable=protected-access\n",
      "  File \"/home/ecbm4040/climate_change/lib/python3.8/site-packages/tensorflow/python/eager/function.py\", line 2855, in _get_concrete_function_internal_garbage_collected\n",
      "    graph_function, _, _ = self._maybe_define_function(args, kwargs)\n",
      "  File \"/home/ecbm4040/climate_change/lib/python3.8/site-packages/tensorflow/python/eager/function.py\", line 3213, in _maybe_define_function\n",
      "    graph_function = self._create_graph_function(args, kwargs)\n",
      "  File \"/home/ecbm4040/climate_change/lib/python3.8/site-packages/tensorflow/python/eager/function.py\", line 3065, in _create_graph_function\n",
      "    func_graph_module.func_graph_from_py_func(\n",
      "  File \"/home/ecbm4040/climate_change/lib/python3.8/site-packages/tensorflow/python/framework/func_graph.py\", line 986, in func_graph_from_py_func\n",
      "    func_outputs = python_func(*func_args, **func_kwargs)\n",
      "  File \"/home/ecbm4040/climate_change/lib/python3.8/site-packages/tensorflow/python/eager/def_function.py\", line 600, in wrapped_fn\n",
      "    return weak_wrapped_fn().__wrapped__(*args, **kwds)\n",
      "  File \"/home/ecbm4040/climate_change/lib/python3.8/site-packages/tensorflow/python/saved_model/function_deserialization.py\", line 237, in restored_function_body\n",
      "    return _call_concrete_function(function, inputs)\n",
      "  File \"/home/ecbm4040/climate_change/lib/python3.8/site-packages/tensorflow/python/saved_model/function_deserialization.py\", line 74, in _call_concrete_function\n",
      "    result = function._call_flat(tensor_inputs, function._captured_inputs)  # pylint: disable=protected-access\n",
      "  File \"/home/ecbm4040/climate_change/lib/python3.8/site-packages/tensorflow/python/saved_model/load.py\", line 105, in _call_flat\n",
      "    return super(_WrapperFunction, self)._call_flat(args, captured_inputs,\n",
      "  File \"/home/ecbm4040/climate_change/lib/python3.8/site-packages/tensorflow/python/eager/function.py\", line 1938, in _call_flat\n",
      "    flat_outputs = forward_function.call(ctx, args_with_tangents)\n",
      "  File \"/home/ecbm4040/climate_change/lib/python3.8/site-packages/tensorflow/python/eager/function.py\", line 573, in call\n",
      "    outputs = functional_ops.partitioned_call(\n",
      "  File \"/home/ecbm4040/climate_change/lib/python3.8/site-packages/tensorflow/python/ops/functional_ops.py\", line 1192, in partitioned_call\n",
      "    f.add_to_graph(graph)\n",
      "  File \"/home/ecbm4040/climate_change/lib/python3.8/site-packages/tensorflow/python/eager/function.py\", line 495, in add_to_graph\n",
      "    g._add_function(self)\n",
      "  File \"/home/ecbm4040/climate_change/lib/python3.8/site-packages/tensorflow/python/framework/ops.py\", line 3344, in _add_function\n",
      "    pywrap_tf_session.TF_GraphCopyFunction(self._c_graph, function._c_func.func,\n",
      "tensorflow.python.framework.errors_impl.InvalidArgumentError: 'func' argument to TF_GraphCopyFunction cannot be null\n",
      "[Succeeded / Failed / Skipped / Total] 0 / 2 / 8 / 10: 100%|█| 10/10 [00:14<00:0"
     ]
    },
    {
     "name": "stdout",
     "output_type": "stream",
     "text": [
      "\n",
      "+-------------------------------+-------+\n",
      "| Attack Results                |       |\n",
      "+-------------------------------+-------+\n",
      "| Number of successful attacks: | 0     |\n",
      "| Number of failed attacks:     | 2     |\n",
      "| Number of skipped attacks:    | 8     |\n",
      "| Original accuracy:            | 20.0% |\n",
      "| Accuracy under attack:        | 20.0% |\n",
      "| Attack success rate:          | 0.0%  |\n",
      "| Average perturbed word %:     | nan%  |\n",
      "| Average num. words per input: | 19.4  |\n",
      "| Avg num queries:              | 191.0 |\n",
      "+-------------------------------+-------+\n"
     ]
    },
    {
     "name": "stderr",
     "output_type": "stream",
     "text": [
      "\n"
     ]
    }
   ],
   "source": [
    "results = attacker.attack_dataset()"
   ]
  },
  {
   "cell_type": "markdown",
   "id": "564dd8df",
   "metadata": {},
   "source": [
    "### DeepWordBugGao2018"
   ]
  },
  {
   "cell_type": "code",
   "execution_count": 24,
   "id": "b8f7cf00",
   "metadata": {
    "scrolled": false
   },
   "outputs": [
    {
     "name": "stderr",
     "output_type": "stream",
     "text": [
      "textattack: Unknown if model of class <class 'ganbert_adversarial_attackutils.InferenceGANBert'> compatible with goal function <class 'textattack.goal_functions.classification.untargeted_classification.UntargetedClassification'>.\n"
     ]
    }
   ],
   "source": [
    "# Create the recipe\n",
    "textfooler_recipe = DeepWordBugGao2018.build(model_wrapper)"
   ]
  },
  {
   "cell_type": "code",
   "execution_count": 25,
   "id": "0b49b816",
   "metadata": {},
   "outputs": [],
   "source": [
    "attacker = Attacker(textfooler_recipe, sst2_dataset, \n",
    "                    AttackArgs(num_examples = 10 ,\n",
    "                                   shuffle = True , # Shuffle Dataset \n",
    "                                   log_to_csv = \"Ganbert_Attack.csv\" , # Log Attack to CSV \n",
    "                                   disable_stdout = True,# Supress individual Attack Results \n",
    "                              ))\n",
    "\n",
    "\n"
   ]
  },
  {
   "cell_type": "code",
   "execution_count": 26,
   "id": "862fffce",
   "metadata": {
    "scrolled": false
   },
   "outputs": [
    {
     "name": "stderr",
     "output_type": "stream",
     "text": [
      "textattack: Logging to CSV at path Ganbert_Attack.csv\n",
      "[Succeeded / Failed / Skipped / Total] 0 / 0 / 2 / 2:  20%|▏| 2/10 [00:00<00:00,"
     ]
    },
    {
     "name": "stdout",
     "output_type": "stream",
     "text": [
      "Attack(\n",
      "  (search_method): GreedyWordSwapWIR(\n",
      "    (wir_method):  unk\n",
      "  )\n",
      "  (goal_function):  UntargetedClassification\n",
      "  (transformation):  CompositeTransformation(\n",
      "    (0): WordSwapNeighboringCharacterSwap(\n",
      "        (random_one):  True\n",
      "      )\n",
      "    (1): WordSwapRandomCharacterSubstitution(\n",
      "        (random_one):  True\n",
      "      )\n",
      "    (2): WordSwapRandomCharacterDeletion(\n",
      "        (random_one):  True\n",
      "      )\n",
      "    (3): WordSwapRandomCharacterInsertion(\n",
      "        (random_one):  True\n",
      "      )\n",
      "    )\n",
      "  (constraints): \n",
      "    (0): LevenshteinEditDistance(\n",
      "        (max_edit_distance):  30\n",
      "        (compare_against_original):  True\n",
      "      )\n",
      "    (1): RepeatModification\n",
      "    (2): StopwordModification\n",
      "  (is_black_box):  True\n",
      ") \n",
      "\n"
     ]
    },
    {
     "name": "stderr",
     "output_type": "stream",
     "text": [
      "[Succeeded / Failed / Skipped / Total] 0 / 2 / 8 / 10: 100%|█| 10/10 [00:01<00:0\n"
     ]
    },
    {
     "name": "stdout",
     "output_type": "stream",
     "text": [
      "\n",
      "+-------------------------------+-------+\n",
      "| Attack Results                |       |\n",
      "+-------------------------------+-------+\n",
      "| Number of successful attacks: | 0     |\n",
      "| Number of failed attacks:     | 2     |\n",
      "| Number of skipped attacks:    | 8     |\n",
      "| Original accuracy:            | 20.0% |\n",
      "| Accuracy under attack:        | 20.0% |\n",
      "| Attack success rate:          | 0.0%  |\n",
      "| Average perturbed word %:     | nan%  |\n",
      "| Average num. words per input: | 19.4  |\n",
      "| Avg num queries:              | 57.5  |\n",
      "+-------------------------------+-------+\n"
     ]
    }
   ],
   "source": [
    "results = attacker.attack_dataset()"
   ]
  },
  {
   "cell_type": "markdown",
   "id": "7e406d47",
   "metadata": {},
   "source": [
    "### BAEGarg2019"
   ]
  },
  {
   "cell_type": "code",
   "execution_count": 27,
   "id": "2beb9ceb",
   "metadata": {
    "scrolled": false
   },
   "outputs": [
    {
     "name": "stderr",
     "output_type": "stream",
     "text": [
      "Some weights of the model checkpoint at bert-base-uncased were not used when initializing BertForMaskedLM: ['cls.seq_relationship.weight', 'cls.seq_relationship.bias']\n",
      "- This IS expected if you are initializing BertForMaskedLM from the checkpoint of a model trained on another task or with another architecture (e.g. initializing a BertForSequenceClassification model from a BertForPreTraining model).\n",
      "- This IS NOT expected if you are initializing BertForMaskedLM from the checkpoint of a model that you expect to be exactly identical (initializing a BertForSequenceClassification model from a BertForSequenceClassification model).\n",
      "textattack: Unknown if model of class <class 'ganbert_adversarial_attackutils.InferenceGANBert'> compatible with goal function <class 'textattack.goal_functions.classification.untargeted_classification.UntargetedClassification'>.\n"
     ]
    }
   ],
   "source": [
    "# Create the recipe\n",
    "textfooler_recipe = BAEGarg2019.build(model_wrapper)"
   ]
  },
  {
   "cell_type": "code",
   "execution_count": 28,
   "id": "ae0a642a",
   "metadata": {},
   "outputs": [],
   "source": [
    "attacker = Attacker(textfooler_recipe, sst2_dataset, \n",
    "                    AttackArgs(num_examples = 10 ,\n",
    "                                   shuffle = True , # Shuffle Dataset \n",
    "                                   log_to_csv = \"Ganbert_Attack.csv\" , # Log Attack to CSV \n",
    "                                   disable_stdout = True,# Supress individual Attack Results \n",
    "                              ))\n",
    "\n",
    "\n"
   ]
  },
  {
   "cell_type": "code",
   "execution_count": 29,
   "id": "ef369d7c",
   "metadata": {
    "scrolled": false
   },
   "outputs": [
    {
     "name": "stderr",
     "output_type": "stream",
     "text": [
      "textattack: Logging to CSV at path Ganbert_Attack.csv\n",
      "[Succeeded / Failed / Skipped / Total] 0 / 0 / 2 / 2:  20%|▏| 2/10 [00:00<00:00,"
     ]
    },
    {
     "name": "stdout",
     "output_type": "stream",
     "text": [
      "Attack(\n",
      "  (search_method): GreedyWordSwapWIR(\n",
      "    (wir_method):  delete\n",
      "  )\n",
      "  (goal_function):  UntargetedClassification\n",
      "  (transformation):  WordSwapMaskedLM(\n",
      "    (method):  bae\n",
      "    (masked_lm_name):  BertForMaskedLM\n",
      "    (max_length):  512\n",
      "    (max_candidates):  50\n",
      "    (min_confidence):  0.0\n",
      "  )\n",
      "  (constraints): \n",
      "    (0): PartOfSpeech(\n",
      "        (tagger_type):  nltk\n",
      "        (tagset):  universal\n",
      "        (allow_verb_noun_swap):  True\n",
      "        (compare_against_original):  True\n",
      "      )\n",
      "    (1): UniversalSentenceEncoder(\n",
      "        (metric):  cosine\n",
      "        (threshold):  0.936338023\n",
      "        (window_size):  15\n",
      "        (skip_text_shorter_than_window):  True\n",
      "        (compare_against_original):  True\n",
      "      )\n",
      "    (2): RepeatModification\n",
      "    (3): StopwordModification\n",
      "  (is_black_box):  True\n",
      ") \n",
      "\n"
     ]
    },
    {
     "name": "stderr",
     "output_type": "stream",
     "text": [
      "Exception ignored in: <function CapturableResourceDeleter.__del__ at 0x7fcbbc0721f0>\n",
      "Traceback (most recent call last):\n",
      "  File \"/home/ecbm4040/climate_change/lib/python3.8/site-packages/tensorflow/python/training/tracking/tracking.py\", line 202, in __del__\n",
      "    self._destroy_resource()\n",
      "  File \"/home/ecbm4040/climate_change/lib/python3.8/site-packages/tensorflow/python/eager/def_function.py\", line 780, in __call__\n",
      "    result = self._call(*args, **kwds)\n",
      "  File \"/home/ecbm4040/climate_change/lib/python3.8/site-packages/tensorflow/python/eager/def_function.py\", line 823, in _call\n",
      "    self._initialize(args, kwds, add_initializers_to=initializers)\n",
      "  File \"/home/ecbm4040/climate_change/lib/python3.8/site-packages/tensorflow/python/eager/def_function.py\", line 696, in _initialize\n",
      "    self._stateful_fn._get_concrete_function_internal_garbage_collected(  # pylint: disable=protected-access\n",
      "  File \"/home/ecbm4040/climate_change/lib/python3.8/site-packages/tensorflow/python/eager/function.py\", line 2855, in _get_concrete_function_internal_garbage_collected\n",
      "    graph_function, _, _ = self._maybe_define_function(args, kwargs)\n",
      "  File \"/home/ecbm4040/climate_change/lib/python3.8/site-packages/tensorflow/python/eager/function.py\", line 3213, in _maybe_define_function\n",
      "    graph_function = self._create_graph_function(args, kwargs)\n",
      "  File \"/home/ecbm4040/climate_change/lib/python3.8/site-packages/tensorflow/python/eager/function.py\", line 3065, in _create_graph_function\n",
      "    func_graph_module.func_graph_from_py_func(\n",
      "  File \"/home/ecbm4040/climate_change/lib/python3.8/site-packages/tensorflow/python/framework/func_graph.py\", line 986, in func_graph_from_py_func\n",
      "    func_outputs = python_func(*func_args, **func_kwargs)\n",
      "  File \"/home/ecbm4040/climate_change/lib/python3.8/site-packages/tensorflow/python/eager/def_function.py\", line 600, in wrapped_fn\n",
      "    return weak_wrapped_fn().__wrapped__(*args, **kwds)\n",
      "  File \"/home/ecbm4040/climate_change/lib/python3.8/site-packages/tensorflow/python/saved_model/function_deserialization.py\", line 237, in restored_function_body\n",
      "    return _call_concrete_function(function, inputs)\n",
      "  File \"/home/ecbm4040/climate_change/lib/python3.8/site-packages/tensorflow/python/saved_model/function_deserialization.py\", line 74, in _call_concrete_function\n",
      "    result = function._call_flat(tensor_inputs, function._captured_inputs)  # pylint: disable=protected-access\n",
      "  File \"/home/ecbm4040/climate_change/lib/python3.8/site-packages/tensorflow/python/saved_model/load.py\", line 105, in _call_flat\n",
      "    return super(_WrapperFunction, self)._call_flat(args, captured_inputs,\n",
      "  File \"/home/ecbm4040/climate_change/lib/python3.8/site-packages/tensorflow/python/eager/function.py\", line 1938, in _call_flat\n",
      "    flat_outputs = forward_function.call(ctx, args_with_tangents)\n",
      "  File \"/home/ecbm4040/climate_change/lib/python3.8/site-packages/tensorflow/python/eager/function.py\", line 573, in call\n",
      "    outputs = functional_ops.partitioned_call(\n",
      "  File \"/home/ecbm4040/climate_change/lib/python3.8/site-packages/tensorflow/python/ops/functional_ops.py\", line 1192, in partitioned_call\n",
      "    f.add_to_graph(graph)\n",
      "  File \"/home/ecbm4040/climate_change/lib/python3.8/site-packages/tensorflow/python/eager/function.py\", line 495, in add_to_graph\n",
      "    g._add_function(self)\n",
      "  File \"/home/ecbm4040/climate_change/lib/python3.8/site-packages/tensorflow/python/framework/ops.py\", line 3344, in _add_function\n",
      "    pywrap_tf_session.TF_GraphCopyFunction(self._c_graph, function._c_func.func,\n",
      "tensorflow.python.framework.errors_impl.InvalidArgumentError: 'func' argument to TF_GraphCopyFunction cannot be null\n",
      "[Succeeded / Failed / Skipped / Total] 1 / 1 / 8 / 10: 100%|█| 10/10 [00:17<00:0"
     ]
    },
    {
     "name": "stdout",
     "output_type": "stream",
     "text": [
      "\n",
      "+-------------------------------+--------+\n",
      "| Attack Results                |        |\n",
      "+-------------------------------+--------+\n",
      "| Number of successful attacks: | 1      |\n",
      "| Number of failed attacks:     | 1      |\n",
      "| Number of skipped attacks:    | 8      |\n",
      "| Original accuracy:            | 20.0%  |\n",
      "| Accuracy under attack:        | 10.0%  |\n",
      "| Attack success rate:          | 50.0%  |\n",
      "| Average perturbed word %:     | 45.45% |\n",
      "| Average num. words per input: | 19.4   |\n",
      "| Avg num queries:              | 198.0  |\n",
      "+-------------------------------+--------+\n"
     ]
    },
    {
     "name": "stderr",
     "output_type": "stream",
     "text": [
      "\n"
     ]
    }
   ],
   "source": [
    "results = attacker.attack_dataset()"
   ]
  },
  {
   "cell_type": "code",
   "execution_count": 70,
   "id": "1932de36",
   "metadata": {},
   "outputs": [
    {
     "data": {
      "text/plain": [
       "'Positive (86%) --> [SKIPPED]'"
      ]
     },
     "execution_count": 70,
     "metadata": {},
     "output_type": "execute_result"
    }
   ],
   "source": [
    "results[3].goal_function_result_str()"
   ]
  },
  {
   "cell_type": "code",
   "execution_count": 72,
   "id": "41e1f93f",
   "metadata": {},
   "outputs": [
    {
     "data": {
      "text/plain": [
       "1"
      ]
     },
     "execution_count": 72,
     "metadata": {},
     "output_type": "execute_result"
    }
   ],
   "source": [
    "results[3].num_queries"
   ]
  },
  {
   "cell_type": "code",
   "execution_count": 74,
   "id": "25d59d93",
   "metadata": {},
   "outputs": [
    {
     "data": {
      "text/plain": [
       "\"Francophiles will snicker knowingly and you 'll want to slap them .\""
      ]
     },
     "execution_count": 74,
     "metadata": {},
     "output_type": "execute_result"
    }
   ],
   "source": [
    "results[3].original_text()"
   ]
  },
  {
   "cell_type": "code",
   "execution_count": 73,
   "id": "b653d9b3",
   "metadata": {},
   "outputs": [
    {
     "data": {
      "text/plain": [
       "\"Francophiles will snicker knowingly and you 'll want to slap them .\""
      ]
     },
     "execution_count": 73,
     "metadata": {},
     "output_type": "execute_result"
    }
   ],
   "source": [
    "results[3].perturbed_text()"
   ]
  },
  {
   "cell_type": "code",
   "execution_count": 50,
   "id": "b329063f",
   "metadata": {},
   "outputs": [
    {
     "data": {
      "text/plain": [
       "3"
      ]
     },
     "execution_count": 50,
     "metadata": {},
     "output_type": "execute_result"
    }
   ],
   "source": [
    "results[0].perturbed_result.goal_status"
   ]
  },
  {
   "cell_type": "code",
   "execution_count": 51,
   "id": "6d8f4ecd",
   "metadata": {},
   "outputs": [
    {
     "data": {
      "text/plain": [
       "0.8515492081642151"
      ]
     },
     "execution_count": 51,
     "metadata": {},
     "output_type": "execute_result"
    }
   ],
   "source": [
    "results[0].perturbed_result.score"
   ]
  },
  {
   "cell_type": "code",
   "execution_count": 53,
   "id": "0a001d2b",
   "metadata": {},
   "outputs": [
    {
     "data": {
      "text/plain": [
       "0.8515492081642151"
      ]
     },
     "execution_count": 53,
     "metadata": {},
     "output_type": "execute_result"
    }
   ],
   "source": [
    "results[0].original_result.score"
   ]
  },
  {
   "cell_type": "code",
   "execution_count": 55,
   "id": "bd9fe746",
   "metadata": {},
   "outputs": [
    {
     "data": {
      "text/plain": [
       "('These spiders can outrun a motorcycle and wrap a person in a sticky cocoon in seconds , but they fall short of being interesting or entertaining .',\n",
       " 'These spiders can outrun a motorcycle and wrap a person in a sticky cocoon in seconds , but they fall short of being interesting or entertaining .')"
      ]
     },
     "execution_count": 55,
     "metadata": {},
     "output_type": "execute_result"
    }
   ],
   "source": [
    "results[0].diff_color()"
   ]
  },
  {
   "cell_type": "code",
   "execution_count": 57,
   "id": "83e43260",
   "metadata": {},
   "outputs": [
    {
     "data": {
      "text/plain": [
       "('Positive (84%) --> [SKIPPED]',\n",
       " 'These spiders can outrun a motorcycle and wrap a person in a sticky cocoon in seconds , but they fall short of being interesting or entertaining .')"
      ]
     },
     "execution_count": 57,
     "metadata": {},
     "output_type": "execute_result"
    }
   ],
   "source": [
    "results[0].str_lines()"
   ]
  },
  {
   "cell_type": "markdown",
   "id": "1dea3c46",
   "metadata": {
    "scrolled": false
   },
   "source": [
    "### FasterGeneticAlgorithmJia2019"
   ]
  },
  {
   "cell_type": "code",
   "execution_count": 33,
   "id": "c9de65a1",
   "metadata": {
    "scrolled": false
   },
   "outputs": [
    {
     "name": "stderr",
     "output_type": "stream",
     "text": [
      "/home/ecbm4040/climate_change/lib/python3.8/site-packages/torch/nn/modules/rnn.py:62: UserWarning: dropout option adds dropout after all but last recurrent layer, so non-zero dropout expects num_layers greater than 1, but got dropout=0.01 and num_layers=1\n",
      "  warnings.warn(\"dropout option adds dropout after all but last \"\n",
      "textattack: Unknown if model of class <class 'ganbert_adversarial_attackutils.InferenceGANBert'> compatible with goal function <class 'textattack.goal_functions.classification.untargeted_classification.UntargetedClassification'>.\n"
     ]
    }
   ],
   "source": [
    "# Create the recipe\n",
    "textfooler_recipe = FasterGeneticAlgorithmJia2019.build(model_wrapper)"
   ]
  },
  {
   "cell_type": "code",
   "execution_count": 34,
   "id": "5607989c",
   "metadata": {},
   "outputs": [],
   "source": [
    "attacker = Attacker(textfooler_recipe, sst2_dataset, \n",
    "                    AttackArgs(num_examples = 10 ,\n",
    "                                   shuffle = True , # Shuffle Dataset \n",
    "                                   log_to_csv = \"Ganbert_Attack.csv\" , # Log Attack to CSV \n",
    "                                   disable_stdout = True,# Supress individual Attack Results \n",
    "                              ))\n",
    "\n",
    "\n"
   ]
  },
  {
   "cell_type": "code",
   "execution_count": 75,
   "id": "87214322",
   "metadata": {
    "scrolled": false
   },
   "outputs": [
    {
     "name": "stderr",
     "output_type": "stream",
     "text": [
      "[Succeeded / Failed / Skipped / Total] 0 / 0 / 2 / 2:  20%|▏| 2/10 [00:00<00:00,"
     ]
    },
    {
     "name": "stdout",
     "output_type": "stream",
     "text": [
      "Attack(\n",
      "  (search_method): AlzantotGeneticAlgorithm(\n",
      "    (pop_size):  60\n",
      "    (max_iters):  20\n",
      "    (temp):  0.3\n",
      "    (give_up_if_no_improvement):  False\n",
      "    (post_crossover_check):  False\n",
      "    (max_crossover_retries):  20\n",
      "  )\n",
      "  (goal_function):  UntargetedClassification\n",
      "  (transformation):  WordSwapEmbedding(\n",
      "    (max_candidates):  8\n",
      "    (embedding):  WordEmbedding\n",
      "  )\n",
      "  (constraints): \n",
      "    (0): MaxWordsPerturbed(\n",
      "        (max_percent):  0.2\n",
      "        (compare_against_original):  True\n",
      "      )\n",
      "    (1): WordEmbeddingDistance(\n",
      "        (embedding):  WordEmbedding\n",
      "        (max_mse_dist):  0.5\n",
      "        (cased):  False\n",
      "        (include_unknown_words):  True\n",
      "        (compare_against_original):  True\n",
      "      )\n",
      "    (2): LearningToWriteLanguageModel(\n",
      "        (max_log_prob_diff):  5.0\n",
      "        (compare_against_original):  True\n",
      "      )\n",
      "    (3): RepeatModification\n",
      "    (4): StopwordModification\n",
      "  (is_black_box):  True\n",
      ") \n",
      "\n"
     ]
    },
    {
     "name": "stderr",
     "output_type": "stream",
     "text": [
      "[Succeeded / Failed / Skipped / Total] 0 / 2 / 8 / 10: 100%|█| 10/10 [08:02<00:0\n",
      "/home/ecbm4040/climate_change/lib/python3.8/site-packages/textattack/metrics/attack_metrics/words_perturbed.py:83: RuntimeWarning: Mean of empty slice.\n",
      "  average_perc_words_perturbed = self.perturbed_word_percentages.mean()\n",
      "/home/ecbm4040/climate_change/lib/python3.8/site-packages/numpy/core/_methods.py:189: RuntimeWarning: invalid value encountered in double_scalars\n",
      "  ret = ret.dtype.type(ret / rcount)\n"
     ]
    },
    {
     "name": "stdout",
     "output_type": "stream",
     "text": [
      "\n",
      "+-------------------------------+---------+\n",
      "| Attack Results                |         |\n",
      "+-------------------------------+---------+\n",
      "| Number of successful attacks: | 0       |\n",
      "| Number of failed attacks:     | 2       |\n",
      "| Number of skipped attacks:    | 10      |\n",
      "| Original accuracy:            | 16.67%  |\n",
      "| Accuracy under attack:        | 16.67%  |\n",
      "| Attack success rate:          | 0.0%    |\n",
      "| Average perturbed word %:     | nan%    |\n",
      "| Average num. words per input: | 19.75   |\n",
      "| Avg num queries:              | 10507.5 |\n",
      "+-------------------------------+---------+\n"
     ]
    }
   ],
   "source": [
    "results = attacker.attack_dataset()"
   ]
  },
  {
   "cell_type": "code",
   "execution_count": 81,
   "id": "4e66da1c",
   "metadata": {},
   "outputs": [
    {
     "data": {
      "text/plain": [
       "('Positive (84%) --> [SKIPPED]',\n",
       " 'These spiders can outrun a motorcycle and wrap a person in a sticky cocoon in seconds , but they fall short of being interesting or entertaining .')"
      ]
     },
     "execution_count": 81,
     "metadata": {},
     "output_type": "execute_result"
    }
   ],
   "source": [
    "results[2].str_lines()"
   ]
  },
  {
   "cell_type": "markdown",
   "id": "7d0d20ba",
   "metadata": {},
   "source": [
    "### Morpheus"
   ]
  },
  {
   "cell_type": "code",
   "execution_count": 101,
   "id": "98663f16",
   "metadata": {},
   "outputs": [
    {
     "name": "stderr",
     "output_type": "stream",
     "text": [
      "textattack: Unknown if model of class <class 'ganbert_adversarial_attackutils.InferenceGANBert'> compatible with goal function <class 'textattack.goal_functions.text.minimize_bleu.MinimizeBleu'>.\n"
     ]
    }
   ],
   "source": [
    "textattack_recipe = MorpheusTan2020.build(model_wrapper)\n",
    "\n",
    "attacker = Attacker(textattack_recipe, sst2_dataset, \n",
    "                    AttackArgs(num_examples = 10 ,\n",
    "                                   shuffle = True , # Shuffle Dataset \n",
    "                                   log_to_csv = \"Ganbert_Attack.csv\" , # Log Attack to CSV \n",
    "                                   disable_stdout = True,# Supress individual Attack Results \n",
    "                              ))"
   ]
  },
  {
   "cell_type": "code",
   "execution_count": 102,
   "id": "46bedbdc",
   "metadata": {},
   "outputs": [
    {
     "name": "stderr",
     "output_type": "stream",
     "text": [
      "textattack: Logging to CSV at path Ganbert_Attack.csv\n",
      "\n",
      "  0%|                                                    | 0/10 [00:00<?, ?it/s]\u001b[A"
     ]
    },
    {
     "name": "stdout",
     "output_type": "stream",
     "text": [
      "Attack(\n",
      "  (search_method): GreedySearch\n",
      "  (goal_function):  MinimizeBleu(\n",
      "    (maximizable):  False\n",
      "    (target_bleu):  0.0\n",
      "  )\n",
      "  (transformation):  WordSwapInflections\n",
      "  (constraints): \n",
      "    (0): RepeatModification\n",
      "    (1): StopwordModification\n",
      "  (is_black_box):  True\n",
      ") \n",
      "\n"
     ]
    },
    {
     "ename": "TypeError",
     "evalue": "Invalid text_input type <class 'torch.Tensor'> (required str or OrderedDict)",
     "output_type": "error",
     "traceback": [
      "\u001b[0;31m---------------------------------------------------------------------------\u001b[0m",
      "\u001b[0;31mTypeError\u001b[0m                                 Traceback (most recent call last)",
      "Input \u001b[0;32mIn [102]\u001b[0m, in \u001b[0;36m<cell line: 1>\u001b[0;34m()\u001b[0m\n\u001b[0;32m----> 1\u001b[0m results \u001b[38;5;241m=\u001b[39m \u001b[43mattacker\u001b[49m\u001b[38;5;241;43m.\u001b[39;49m\u001b[43mattack_dataset\u001b[49m\u001b[43m(\u001b[49m\u001b[43m)\u001b[49m\n",
      "File \u001b[0;32m~/climate_change/lib/python3.8/site-packages/textattack/attacker.py:441\u001b[0m, in \u001b[0;36mAttacker.attack_dataset\u001b[0;34m(self)\u001b[0m\n\u001b[1;32m    439\u001b[0m     \u001b[38;5;28mself\u001b[39m\u001b[38;5;241m.\u001b[39m_attack_parallel()\n\u001b[1;32m    440\u001b[0m \u001b[38;5;28;01melse\u001b[39;00m:\n\u001b[0;32m--> 441\u001b[0m     \u001b[38;5;28;43mself\u001b[39;49m\u001b[38;5;241;43m.\u001b[39;49m\u001b[43m_attack\u001b[49m\u001b[43m(\u001b[49m\u001b[43m)\u001b[49m\n\u001b[1;32m    443\u001b[0m \u001b[38;5;28;01mif\u001b[39;00m \u001b[38;5;28mself\u001b[39m\u001b[38;5;241m.\u001b[39mattack_args\u001b[38;5;241m.\u001b[39msilent:\n\u001b[1;32m    444\u001b[0m     logger\u001b[38;5;241m.\u001b[39msetLevel(logging\u001b[38;5;241m.\u001b[39mINFO)\n",
      "File \u001b[0;32m~/climate_change/lib/python3.8/site-packages/textattack/attacker.py:170\u001b[0m, in \u001b[0;36mAttacker._attack\u001b[0;34m(self)\u001b[0m\n\u001b[1;32m    168\u001b[0m     result \u001b[38;5;241m=\u001b[39m \u001b[38;5;28mself\u001b[39m\u001b[38;5;241m.\u001b[39mattack\u001b[38;5;241m.\u001b[39mattack(example, ground_truth_output)\n\u001b[1;32m    169\u001b[0m \u001b[38;5;28;01mexcept\u001b[39;00m \u001b[38;5;167;01mException\u001b[39;00m \u001b[38;5;28;01mas\u001b[39;00m e:\n\u001b[0;32m--> 170\u001b[0m     \u001b[38;5;28;01mraise\u001b[39;00m e\n\u001b[1;32m    171\u001b[0m \u001b[38;5;28;01mif\u001b[39;00m (\n\u001b[1;32m    172\u001b[0m     \u001b[38;5;28misinstance\u001b[39m(result, SkippedAttackResult) \u001b[38;5;129;01mand\u001b[39;00m \u001b[38;5;28mself\u001b[39m\u001b[38;5;241m.\u001b[39mattack_args\u001b[38;5;241m.\u001b[39mattack_n\n\u001b[1;32m    173\u001b[0m ) \u001b[38;5;129;01mor\u001b[39;00m (\n\u001b[1;32m    174\u001b[0m     \u001b[38;5;129;01mnot\u001b[39;00m \u001b[38;5;28misinstance\u001b[39m(result, SuccessfulAttackResult)\n\u001b[1;32m    175\u001b[0m     \u001b[38;5;129;01mand\u001b[39;00m \u001b[38;5;28mself\u001b[39m\u001b[38;5;241m.\u001b[39mattack_args\u001b[38;5;241m.\u001b[39mnum_successful_examples\n\u001b[1;32m    176\u001b[0m ):\n\u001b[1;32m    177\u001b[0m     \u001b[38;5;28;01mif\u001b[39;00m worklist_candidates:\n",
      "File \u001b[0;32m~/climate_change/lib/python3.8/site-packages/textattack/attacker.py:168\u001b[0m, in \u001b[0;36mAttacker._attack\u001b[0;34m(self)\u001b[0m\n\u001b[1;32m    166\u001b[0m     example\u001b[38;5;241m.\u001b[39mattack_attrs[\u001b[38;5;124m\"\u001b[39m\u001b[38;5;124mlabel_names\u001b[39m\u001b[38;5;124m\"\u001b[39m] \u001b[38;5;241m=\u001b[39m \u001b[38;5;28mself\u001b[39m\u001b[38;5;241m.\u001b[39mdataset\u001b[38;5;241m.\u001b[39mlabel_names\n\u001b[1;32m    167\u001b[0m \u001b[38;5;28;01mtry\u001b[39;00m:\n\u001b[0;32m--> 168\u001b[0m     result \u001b[38;5;241m=\u001b[39m \u001b[38;5;28;43mself\u001b[39;49m\u001b[38;5;241;43m.\u001b[39;49m\u001b[43mattack\u001b[49m\u001b[38;5;241;43m.\u001b[39;49m\u001b[43mattack\u001b[49m\u001b[43m(\u001b[49m\u001b[43mexample\u001b[49m\u001b[43m,\u001b[49m\u001b[43m \u001b[49m\u001b[43mground_truth_output\u001b[49m\u001b[43m)\u001b[49m\n\u001b[1;32m    169\u001b[0m \u001b[38;5;28;01mexcept\u001b[39;00m \u001b[38;5;167;01mException\u001b[39;00m \u001b[38;5;28;01mas\u001b[39;00m e:\n\u001b[1;32m    170\u001b[0m     \u001b[38;5;28;01mraise\u001b[39;00m e\n",
      "File \u001b[0;32m~/climate_change/lib/python3.8/site-packages/textattack/attack.py:416\u001b[0m, in \u001b[0;36mAttack.attack\u001b[0;34m(self, example, ground_truth_output)\u001b[0m\n\u001b[1;32m    411\u001b[0m     example \u001b[38;5;241m=\u001b[39m AttackedText(example)\n\u001b[1;32m    413\u001b[0m \u001b[38;5;28;01massert\u001b[39;00m \u001b[38;5;28misinstance\u001b[39m(\n\u001b[1;32m    414\u001b[0m     ground_truth_output, (\u001b[38;5;28mint\u001b[39m, \u001b[38;5;28mstr\u001b[39m)\n\u001b[1;32m    415\u001b[0m ), \u001b[38;5;124m\"\u001b[39m\u001b[38;5;124m`ground_truth_output` must either be `str` or `int`.\u001b[39m\u001b[38;5;124m\"\u001b[39m\n\u001b[0;32m--> 416\u001b[0m goal_function_result, _ \u001b[38;5;241m=\u001b[39m \u001b[38;5;28;43mself\u001b[39;49m\u001b[38;5;241;43m.\u001b[39;49m\u001b[43mgoal_function\u001b[49m\u001b[38;5;241;43m.\u001b[39;49m\u001b[43minit_attack_example\u001b[49m\u001b[43m(\u001b[49m\n\u001b[1;32m    417\u001b[0m \u001b[43m    \u001b[49m\u001b[43mexample\u001b[49m\u001b[43m,\u001b[49m\u001b[43m \u001b[49m\u001b[43mground_truth_output\u001b[49m\n\u001b[1;32m    418\u001b[0m \u001b[43m\u001b[49m\u001b[43m)\u001b[49m\n\u001b[1;32m    419\u001b[0m \u001b[38;5;28;01mif\u001b[39;00m goal_function_result\u001b[38;5;241m.\u001b[39mgoal_status \u001b[38;5;241m==\u001b[39m GoalFunctionResultStatus\u001b[38;5;241m.\u001b[39mSKIPPED:\n\u001b[1;32m    420\u001b[0m     \u001b[38;5;28;01mreturn\u001b[39;00m SkippedAttackResult(goal_function_result)\n",
      "File \u001b[0;32m~/climate_change/lib/python3.8/site-packages/textattack/goal_functions/goal_function.py:68\u001b[0m, in \u001b[0;36mGoalFunction.init_attack_example\u001b[0;34m(self, attacked_text, ground_truth_output)\u001b[0m\n\u001b[1;32m     66\u001b[0m \u001b[38;5;28mself\u001b[39m\u001b[38;5;241m.\u001b[39mground_truth_output \u001b[38;5;241m=\u001b[39m ground_truth_output\n\u001b[1;32m     67\u001b[0m \u001b[38;5;28mself\u001b[39m\u001b[38;5;241m.\u001b[39mnum_queries \u001b[38;5;241m=\u001b[39m \u001b[38;5;241m0\u001b[39m\n\u001b[0;32m---> 68\u001b[0m result, _ \u001b[38;5;241m=\u001b[39m \u001b[38;5;28;43mself\u001b[39;49m\u001b[38;5;241;43m.\u001b[39;49m\u001b[43mget_result\u001b[49m\u001b[43m(\u001b[49m\u001b[43mattacked_text\u001b[49m\u001b[43m,\u001b[49m\u001b[43m \u001b[49m\u001b[43mcheck_skip\u001b[49m\u001b[38;5;241;43m=\u001b[39;49m\u001b[38;5;28;43;01mTrue\u001b[39;49;00m\u001b[43m)\u001b[49m\n\u001b[1;32m     69\u001b[0m \u001b[38;5;28;01mreturn\u001b[39;00m result, _\n",
      "File \u001b[0;32m~/climate_change/lib/python3.8/site-packages/textattack/goal_functions/goal_function.py:79\u001b[0m, in \u001b[0;36mGoalFunction.get_result\u001b[0;34m(self, attacked_text, **kwargs)\u001b[0m\n\u001b[1;32m     76\u001b[0m \u001b[38;5;28;01mdef\u001b[39;00m \u001b[38;5;21mget_result\u001b[39m(\u001b[38;5;28mself\u001b[39m, attacked_text, \u001b[38;5;241m*\u001b[39m\u001b[38;5;241m*\u001b[39mkwargs):\n\u001b[1;32m     77\u001b[0m     \u001b[38;5;124;03m\"\"\"A helper method that queries ``self.get_results`` with a single\u001b[39;00m\n\u001b[1;32m     78\u001b[0m \u001b[38;5;124;03m    ``AttackedText`` object.\"\"\"\u001b[39;00m\n\u001b[0;32m---> 79\u001b[0m     results, search_over \u001b[38;5;241m=\u001b[39m \u001b[38;5;28;43mself\u001b[39;49m\u001b[38;5;241;43m.\u001b[39;49m\u001b[43mget_results\u001b[49m\u001b[43m(\u001b[49m\u001b[43m[\u001b[49m\u001b[43mattacked_text\u001b[49m\u001b[43m]\u001b[49m\u001b[43m,\u001b[49m\u001b[43m \u001b[49m\u001b[38;5;241;43m*\u001b[39;49m\u001b[38;5;241;43m*\u001b[39;49m\u001b[43mkwargs\u001b[49m\u001b[43m)\u001b[49m\n\u001b[1;32m     80\u001b[0m     result \u001b[38;5;241m=\u001b[39m results[\u001b[38;5;241m0\u001b[39m] \u001b[38;5;28;01mif\u001b[39;00m \u001b[38;5;28mlen\u001b[39m(results) \u001b[38;5;28;01melse\u001b[39;00m \u001b[38;5;28;01mNone\u001b[39;00m\n\u001b[1;32m     81\u001b[0m     \u001b[38;5;28;01mreturn\u001b[39;00m result, search_over\n",
      "File \u001b[0;32m~/climate_change/lib/python3.8/site-packages/textattack/goal_functions/goal_function.py:99\u001b[0m, in \u001b[0;36mGoalFunction.get_results\u001b[0;34m(self, attacked_text_list, check_skip)\u001b[0m\n\u001b[1;32m     97\u001b[0m \u001b[38;5;28;01mfor\u001b[39;00m attacked_text, raw_output \u001b[38;5;129;01min\u001b[39;00m \u001b[38;5;28mzip\u001b[39m(attacked_text_list, model_outputs):\n\u001b[1;32m     98\u001b[0m     displayed_output \u001b[38;5;241m=\u001b[39m \u001b[38;5;28mself\u001b[39m\u001b[38;5;241m.\u001b[39m_get_displayed_output(raw_output)\n\u001b[0;32m---> 99\u001b[0m     goal_status \u001b[38;5;241m=\u001b[39m \u001b[38;5;28;43mself\u001b[39;49m\u001b[38;5;241;43m.\u001b[39;49m\u001b[43m_get_goal_status\u001b[49m\u001b[43m(\u001b[49m\n\u001b[1;32m    100\u001b[0m \u001b[43m        \u001b[49m\u001b[43mraw_output\u001b[49m\u001b[43m,\u001b[49m\u001b[43m \u001b[49m\u001b[43mattacked_text\u001b[49m\u001b[43m,\u001b[49m\u001b[43m \u001b[49m\u001b[43mcheck_skip\u001b[49m\u001b[38;5;241;43m=\u001b[39;49m\u001b[43mcheck_skip\u001b[49m\n\u001b[1;32m    101\u001b[0m \u001b[43m    \u001b[49m\u001b[43m)\u001b[49m\n\u001b[1;32m    102\u001b[0m     goal_function_score \u001b[38;5;241m=\u001b[39m \u001b[38;5;28mself\u001b[39m\u001b[38;5;241m.\u001b[39m_get_score(raw_output, attacked_text)\n\u001b[1;32m    103\u001b[0m     results\u001b[38;5;241m.\u001b[39mappend(\n\u001b[1;32m    104\u001b[0m         \u001b[38;5;28mself\u001b[39m\u001b[38;5;241m.\u001b[39m_goal_function_result_type()(\n\u001b[1;32m    105\u001b[0m             attacked_text,\n\u001b[0;32m   (...)\u001b[0m\n\u001b[1;32m    112\u001b[0m         )\n\u001b[1;32m    113\u001b[0m     )\n",
      "File \u001b[0;32m~/climate_change/lib/python3.8/site-packages/textattack/goal_functions/goal_function.py:117\u001b[0m, in \u001b[0;36mGoalFunction._get_goal_status\u001b[0;34m(self, model_output, attacked_text, check_skip)\u001b[0m\n\u001b[1;32m    116\u001b[0m \u001b[38;5;28;01mdef\u001b[39;00m \u001b[38;5;21m_get_goal_status\u001b[39m(\u001b[38;5;28mself\u001b[39m, model_output, attacked_text, check_skip\u001b[38;5;241m=\u001b[39m\u001b[38;5;28;01mFalse\u001b[39;00m):\n\u001b[0;32m--> 117\u001b[0m     should_skip \u001b[38;5;241m=\u001b[39m check_skip \u001b[38;5;129;01mand\u001b[39;00m \u001b[38;5;28;43mself\u001b[39;49m\u001b[38;5;241;43m.\u001b[39;49m\u001b[43m_should_skip\u001b[49m\u001b[43m(\u001b[49m\u001b[43mmodel_output\u001b[49m\u001b[43m,\u001b[49m\u001b[43m \u001b[49m\u001b[43mattacked_text\u001b[49m\u001b[43m)\u001b[49m\n\u001b[1;32m    118\u001b[0m     \u001b[38;5;28;01mif\u001b[39;00m should_skip:\n\u001b[1;32m    119\u001b[0m         \u001b[38;5;28;01mreturn\u001b[39;00m GoalFunctionResultStatus\u001b[38;5;241m.\u001b[39mSKIPPED\n",
      "File \u001b[0;32m~/climate_change/lib/python3.8/site-packages/textattack/goal_functions/goal_function.py:131\u001b[0m, in \u001b[0;36mGoalFunction._should_skip\u001b[0;34m(self, model_output, attacked_text)\u001b[0m\n\u001b[1;32m    130\u001b[0m \u001b[38;5;28;01mdef\u001b[39;00m \u001b[38;5;21m_should_skip\u001b[39m(\u001b[38;5;28mself\u001b[39m, model_output, attacked_text):\n\u001b[0;32m--> 131\u001b[0m     \u001b[38;5;28;01mreturn\u001b[39;00m \u001b[38;5;28;43mself\u001b[39;49m\u001b[38;5;241;43m.\u001b[39;49m\u001b[43m_is_goal_complete\u001b[49m\u001b[43m(\u001b[49m\u001b[43mmodel_output\u001b[49m\u001b[43m,\u001b[49m\u001b[43m \u001b[49m\u001b[43mattacked_text\u001b[49m\u001b[43m)\u001b[49m\n",
      "File \u001b[0;32m~/climate_change/lib/python3.8/site-packages/textattack/goal_functions/text/minimize_bleu.py:46\u001b[0m, in \u001b[0;36mMinimizeBleu._is_goal_complete\u001b[0;34m(self, model_output, _)\u001b[0m\n\u001b[1;32m     45\u001b[0m \u001b[38;5;28;01mdef\u001b[39;00m \u001b[38;5;21m_is_goal_complete\u001b[39m(\u001b[38;5;28mself\u001b[39m, model_output, _):\n\u001b[0;32m---> 46\u001b[0m     bleu_score \u001b[38;5;241m=\u001b[39m \u001b[38;5;241m1.0\u001b[39m \u001b[38;5;241m-\u001b[39m \u001b[38;5;28;43mself\u001b[39;49m\u001b[38;5;241;43m.\u001b[39;49m\u001b[43m_get_score\u001b[49m\u001b[43m(\u001b[49m\u001b[43mmodel_output\u001b[49m\u001b[43m,\u001b[49m\u001b[43m \u001b[49m\u001b[43m_\u001b[49m\u001b[43m)\u001b[49m\n\u001b[1;32m     47\u001b[0m     \u001b[38;5;28;01mreturn\u001b[39;00m bleu_score \u001b[38;5;241m<\u001b[39m\u001b[38;5;241m=\u001b[39m (\u001b[38;5;28mself\u001b[39m\u001b[38;5;241m.\u001b[39mtarget_bleu \u001b[38;5;241m+\u001b[39m MinimizeBleu\u001b[38;5;241m.\u001b[39mEPS)\n",
      "File \u001b[0;32m~/climate_change/lib/python3.8/site-packages/textattack/goal_functions/text/minimize_bleu.py:50\u001b[0m, in \u001b[0;36mMinimizeBleu._get_score\u001b[0;34m(self, model_output, _)\u001b[0m\n\u001b[1;32m     49\u001b[0m \u001b[38;5;28;01mdef\u001b[39;00m \u001b[38;5;21m_get_score\u001b[39m(\u001b[38;5;28mself\u001b[39m, model_output, _):\n\u001b[0;32m---> 50\u001b[0m     model_output_at \u001b[38;5;241m=\u001b[39m \u001b[43mtextattack\u001b[49m\u001b[38;5;241;43m.\u001b[39;49m\u001b[43mshared\u001b[49m\u001b[38;5;241;43m.\u001b[39;49m\u001b[43mAttackedText\u001b[49m\u001b[43m(\u001b[49m\u001b[43mmodel_output\u001b[49m\u001b[43m)\u001b[49m\n\u001b[1;32m     51\u001b[0m     ground_truth_at \u001b[38;5;241m=\u001b[39m textattack\u001b[38;5;241m.\u001b[39mshared\u001b[38;5;241m.\u001b[39mAttackedText(\u001b[38;5;28mself\u001b[39m\u001b[38;5;241m.\u001b[39mground_truth_output)\n\u001b[1;32m     52\u001b[0m     bleu_score \u001b[38;5;241m=\u001b[39m get_bleu(model_output_at, ground_truth_at)\n",
      "File \u001b[0;32m~/climate_change/lib/python3.8/site-packages/textattack/shared/attacked_text.py:52\u001b[0m, in \u001b[0;36mAttackedText.__init__\u001b[0;34m(self, text_input, attack_attrs)\u001b[0m\n\u001b[1;32m     50\u001b[0m     \u001b[38;5;28mself\u001b[39m\u001b[38;5;241m.\u001b[39m_text_input \u001b[38;5;241m=\u001b[39m text_input\n\u001b[1;32m     51\u001b[0m \u001b[38;5;28;01melse\u001b[39;00m:\n\u001b[0;32m---> 52\u001b[0m     \u001b[38;5;28;01mraise\u001b[39;00m \u001b[38;5;167;01mTypeError\u001b[39;00m(\n\u001b[1;32m     53\u001b[0m         \u001b[38;5;124mf\u001b[39m\u001b[38;5;124m\"\u001b[39m\u001b[38;5;124mInvalid text_input type \u001b[39m\u001b[38;5;132;01m{\u001b[39;00m\u001b[38;5;28mtype\u001b[39m(text_input)\u001b[38;5;132;01m}\u001b[39;00m\u001b[38;5;124m (required str or OrderedDict)\u001b[39m\u001b[38;5;124m\"\u001b[39m\n\u001b[1;32m     54\u001b[0m     )\n\u001b[1;32m     55\u001b[0m \u001b[38;5;66;03m# Process input lazily.\u001b[39;00m\n\u001b[1;32m     56\u001b[0m \u001b[38;5;28mself\u001b[39m\u001b[38;5;241m.\u001b[39m_words \u001b[38;5;241m=\u001b[39m \u001b[38;5;28;01mNone\u001b[39;00m\n",
      "\u001b[0;31mTypeError\u001b[0m: Invalid text_input type <class 'torch.Tensor'> (required str or OrderedDict)"
     ]
    }
   ],
   "source": [
    "results = attacker.attack_dataset()"
   ]
  },
  {
   "cell_type": "code",
   "execution_count": 91,
   "id": "e61b9cdd",
   "metadata": {},
   "outputs": [
    {
     "data": {
      "text/plain": [
       "'Positive (69%) --> [FAILED]'"
      ]
     },
     "execution_count": 91,
     "metadata": {},
     "output_type": "execute_result"
    }
   ],
   "source": [
    "results[4].goal_function_result_str()"
   ]
  },
  {
   "cell_type": "code",
   "execution_count": 93,
   "id": "b2002019",
   "metadata": {},
   "outputs": [
    {
     "data": {
      "text/plain": [
       "'Engagingly captures the maddening and magnetic ebb and flows of friendship .'"
      ]
     },
     "execution_count": 93,
     "metadata": {},
     "output_type": "execute_result"
    }
   ],
   "source": [
    "results[4].perturbed_text()"
   ]
  },
  {
   "cell_type": "code",
   "execution_count": 94,
   "id": "2b82383f",
   "metadata": {},
   "outputs": [
    {
     "data": {
      "text/plain": [
       "'Engagingly captures the maddening and magnetic ebb and flow of friendship .'"
      ]
     },
     "execution_count": 94,
     "metadata": {},
     "output_type": "execute_result"
    }
   ],
   "source": [
    "results[4].original_text()"
   ]
  },
  {
   "cell_type": "markdown",
   "id": "cc57970b",
   "metadata": {},
   "source": [
    "### HotFlip"
   ]
  },
  {
   "cell_type": "code",
   "execution_count": 106,
   "id": "ce723bdd",
   "metadata": {
    "scrolled": true
   },
   "outputs": [
    {
     "name": "stderr",
     "output_type": "stream",
     "text": [
      "textattack: Unknown if model of class <class 'ganbert_adversarial_attackutils.InferenceGANBert'> compatible with goal function <class 'textattack.goal_functions.classification.untargeted_classification.UntargetedClassification'>.\n"
     ]
    }
   ],
   "source": [
    "textattack_recipe = Pruthi2019.build(model_wrapper)\n",
    "\n",
    "attacker = Attacker(textattack_recipe, sst2_dataset, \n",
    "                    AttackArgs(num_examples = 10 ,\n",
    "                                   shuffle = True , # Shuffle Dataset \n",
    "                                   log_to_csv = \"Ganbert_Attack.csv\" , # Log Attack to CSV \n",
    "                                   disable_stdout = True,# Supress individual Attack Results \n",
    "                              ))"
   ]
  },
  {
   "cell_type": "code",
   "execution_count": 107,
   "id": "61508ac0",
   "metadata": {},
   "outputs": [
    {
     "name": "stderr",
     "output_type": "stream",
     "text": [
      "textattack: Logging to CSV at path Ganbert_Attack.csv\n",
      "\n",
      "\n",
      "  0%|                                                    | 0/10 [00:00<?, ?it/s]\u001b[A\u001b[A\n",
      "\n",
      "[Succeeded / Failed / Skipped / Total] 0 / 0 / 1 / 1:  10%| | 1/10 [00:00<00:00,\u001b[A\u001b[A"
     ]
    },
    {
     "name": "stdout",
     "output_type": "stream",
     "text": [
      "Attack(\n",
      "  (search_method): GreedySearch\n",
      "  (goal_function):  UntargetedClassification\n",
      "  (transformation):  CompositeTransformation(\n",
      "    (0): WordSwapNeighboringCharacterSwap(\n",
      "        (random_one):  False\n",
      "      )\n",
      "    (1): WordSwapRandomCharacterDeletion(\n",
      "        (random_one):  False\n",
      "      )\n",
      "    (2): WordSwapRandomCharacterInsertion(\n",
      "        (random_one):  False\n",
      "      )\n",
      "    (3): WordSwapQWERTY\n",
      "    )\n",
      "  (constraints): \n",
      "    (0): MaxWordsPerturbed(\n",
      "        (max_num_words):  1\n",
      "        (compare_against_original):  True\n",
      "      )\n",
      "    (1): MinWordLength\n",
      "    (2): StopwordModification\n",
      "    (3): RepeatModification\n",
      "  (is_black_box):  True\n",
      ") \n",
      "\n"
     ]
    },
    {
     "name": "stderr",
     "output_type": "stream",
     "text": [
      "\n",
      "\n",
      "[Succeeded / Failed / Skipped / Total] 0 / 0 / 1 / 1:  20%|▏| 2/10 [00:01<00:07,\u001b[A\u001b[A\n",
      "\n",
      "[Succeeded / Failed / Skipped / Total] 0 / 1 / 1 / 2:  20%|▏| 2/10 [00:01<00:07,\u001b[A\u001b[A\n",
      "\n",
      "[Succeeded / Failed / Skipped / Total] 0 / 2 / 1 / 3:  30%|▎| 3/10 [00:04<00:09,\u001b[A\u001b[A\n",
      "\n",
      "[Succeeded / Failed / Skipped / Total] 0 / 2 / 1 / 3:  40%|▍| 4/10 [00:04<00:06,\u001b[A\u001b[A\n",
      "\n",
      "[Succeeded / Failed / Skipped / Total] 0 / 2 / 2 / 4:  40%|▍| 4/10 [00:04<00:06,\u001b[A\u001b[A\n",
      "\n",
      "[Succeeded / Failed / Skipped / Total] 1 / 2 / 2 / 5:  50%|▌| 5/10 [00:08<00:08,\u001b[A\u001b[A\n",
      "\n",
      "[Succeeded / Failed / Skipped / Total] 1 / 2 / 2 / 5:  60%|▌| 6/10 [00:10<00:06,\u001b[A\u001b[A\n",
      "\n",
      "[Succeeded / Failed / Skipped / Total] 1 / 3 / 2 / 6:  60%|▌| 6/10 [00:10<00:06,\u001b[A\u001b[A\n",
      "\n",
      "[Succeeded / Failed / Skipped / Total] 1 / 3 / 3 / 7:  70%|▋| 7/10 [00:10<00:04,\u001b[A\u001b[A\n",
      "\n",
      "[Succeeded / Failed / Skipped / Total] 1 / 3 / 3 / 7:  80%|▊| 8/10 [00:11<00:02,\u001b[A\u001b[A\n",
      "\n",
      "[Succeeded / Failed / Skipped / Total] 1 / 4 / 3 / 8:  80%|▊| 8/10 [00:11<00:02,\u001b[A\u001b[A\n",
      "\n",
      "  0%|                                                    | 0/10 [02:46<?, ?it/s]\u001b[A\u001b[A\n",
      "\n",
      "\n",
      "[Succeeded / Failed / Skipped / Total] 1 / 4 / 4 / 9: 100%|█| 10/10 [00:14<00:00\u001b[A\u001b[A\n",
      "\n",
      "[Succeeded / Failed / Skipped / Total] 1 / 5 / 4 / 10: 100%|█| 10/10 [00:14<00:0\u001b[A\u001b[A"
     ]
    },
    {
     "name": "stdout",
     "output_type": "stream",
     "text": [
      "\n",
      "+-------------------------------+--------+\n",
      "| Attack Results                |        |\n",
      "+-------------------------------+--------+\n",
      "| Number of successful attacks: | 1      |\n",
      "| Number of failed attacks:     | 5      |\n",
      "| Number of skipped attacks:    | 4      |\n",
      "| Original accuracy:            | 60.0%  |\n",
      "| Accuracy under attack:        | 50.0%  |\n",
      "| Attack success rate:          | 16.67% |\n",
      "| Average perturbed word %:     | 4.0%   |\n",
      "| Average num. words per input: | 14.2   |\n",
      "| Avg num queries:              | 263.67 |\n",
      "+-------------------------------+--------+\n"
     ]
    },
    {
     "name": "stderr",
     "output_type": "stream",
     "text": [
      "\n"
     ]
    }
   ],
   "source": [
    "results = attacker.attack_dataset()"
   ]
  },
  {
   "cell_type": "code",
   "execution_count": 109,
   "id": "96f4982b",
   "metadata": {},
   "outputs": [
    {
     "data": {
      "text/plain": [
       "'This version does justice both to Stevenson and to the sci-fi genre .'"
      ]
     },
     "execution_count": 109,
     "metadata": {},
     "output_type": "execute_result"
    }
   ],
   "source": [
    "results[1].original_text()"
   ]
  },
  {
   "cell_type": "code",
   "execution_count": null,
   "id": "be9e2c6f",
   "metadata": {},
   "outputs": [],
   "source": []
  }
 ],
 "metadata": {
  "kernelspec": {
   "display_name": "Python 3 (ipykernel)",
   "language": "python",
   "name": "python3"
  },
  "language_info": {
   "codemirror_mode": {
    "name": "ipython",
    "version": 3
   },
   "file_extension": ".py",
   "mimetype": "text/x-python",
   "name": "python",
   "nbconvert_exporter": "python",
   "pygments_lexer": "ipython3",
   "version": "3.8.0"
  }
 },
 "nbformat": 4,
 "nbformat_minor": 5
}

{
 "cells": [
  {
   "cell_type": "markdown",
   "id": "da2b5699",
   "metadata": {},
   "source": [
    "### Jupyter Notebook to understand TextAttack for Attacking Models "
   ]
  },
  {
   "cell_type": "markdown",
   "id": "22c56c31",
   "metadata": {},
   "source": [
    "We Plan to use 4 different Attack Strategies \n",
    "\n",
    "1) TextFoolerJin2019\n",
    "\n",
    "2) DeepWordBugGao2018\n",
    "\n",
    "3) BAEGarg2019\n",
    "\n",
    "4) FasterGeneticAlgorithmJia2019"
   ]
  },
  {
   "cell_type": "code",
   "execution_count": 1,
   "id": "1334e6ca",
   "metadata": {},
   "outputs": [],
   "source": [
    "%load_ext autoreload\n",
    "%autoreload 2\n",
    "\n",
    "\n",
    "import logging\n",
    "import os\n",
    "\n",
    "os.environ['TF_CPP_MIN_LOG_LEVEL'] = '3'  # FATAL\n",
    "logging.getLogger('tensorflow').setLevel(logging.FATAL)"
   ]
  },
  {
   "cell_type": "code",
   "execution_count": 2,
   "id": "c9c6ec09",
   "metadata": {
    "scrolled": false
   },
   "outputs": [],
   "source": [
    "from distilbert_adversarial_attackutils import *\n",
    "\n",
    "from textattack.attack_recipes import TextFoolerJin2019,DeepWordBugGao2018,BAEGarg2019,FasterGeneticAlgorithmJia2019, MorpheusTan2020, Pruthi2019"
   ]
  },
  {
   "cell_type": "code",
   "execution_count": 3,
   "id": "5fa900eb",
   "metadata": {},
   "outputs": [
    {
     "name": "stdout",
     "output_type": "stream",
     "text": [
      "There are 1 GPU(s) available.\n",
      "We will use the GPU: Tesla V100-SXM2-16GB\n",
      "\n",
      "\n",
      "\n"
     ]
    },
    {
     "name": "stderr",
     "output_type": "stream",
     "text": [
      "Some weights of the model checkpoint at distilbert-base-cased were not used when initializing DistilBertForSequenceClassification: ['vocab_layer_norm.weight', 'vocab_projector.weight', 'vocab_layer_norm.bias', 'vocab_projector.bias', 'vocab_transform.weight', 'vocab_transform.bias']\n",
      "- This IS expected if you are initializing DistilBertForSequenceClassification from the checkpoint of a model trained on another task or with another architecture (e.g. initializing a BertForSequenceClassification model from a BertForPreTraining model).\n",
      "- This IS NOT expected if you are initializing DistilBertForSequenceClassification from the checkpoint of a model that you expect to be exactly identical (initializing a BertForSequenceClassification model from a BertForSequenceClassification model).\n",
      "Some weights of DistilBertForSequenceClassification were not initialized from the model checkpoint at distilbert-base-cased and are newly initialized: ['classifier.bias', 'pre_classifier.weight', 'pre_classifier.bias', 'classifier.weight']\n",
      "You should probably TRAIN this model on a down-stream task to be able to use it for predictions and inference.\n"
     ]
    }
   ],
   "source": [
    "model_wrapper = DistilBertModelWrapper(model_path='../distilbert/distill_bert_finetuned_sst2_67349_samples_2022-05-03_21-30-41.pt')"
   ]
  },
  {
   "cell_type": "code",
   "execution_count": 4,
   "id": "62ea078c",
   "metadata": {},
   "outputs": [],
   "source": [
    "from textattack.datasets import Dataset \n",
    "\n",
    "def get_sst_examples(input_file, test=False, discard_values = 0.5):\n",
    "\n",
    "    train_examples = []\n",
    "    test_examples = []\n",
    "\n",
    "    with open(input_file, 'r') as f:\n",
    "\n",
    "        contents = f.read()\n",
    "        file_as_list = contents.splitlines()\n",
    "        for line in file_as_list[1:]:\n",
    "            \n",
    "            # random drop 90% of examples for checking\n",
    "            is_dropped = np.random.binomial(1, discard_values, 1)[0]\n",
    "            \n",
    "            if not test and is_dropped == 1:\n",
    "                continue\n",
    "                \n",
    "                \n",
    "            text, label = line.split(\"\\t\") \n",
    "            if test:\n",
    "                test_examples.append((text, int(label)))\n",
    "            else : \n",
    "                train_examples.append((text, int(label)))\n",
    "        f.close()\n",
    "\n",
    "    return train_examples, test_examples\n",
    "\n",
    "\n",
    "_, test_examples = get_sst_examples('./../../data/SST-2/dev.tsv', test=True,discard_values = 0)    \n",
    "    \n",
    "sst2_dataset = Dataset(test_examples)"
   ]
  },
  {
   "cell_type": "code",
   "execution_count": 5,
   "id": "f75728e6",
   "metadata": {
    "scrolled": true
   },
   "outputs": [
    {
     "name": "stderr",
     "output_type": "stream",
     "text": [
      "textattack: Unknown if model of class <class 'torch.nn.parallel.data_parallel.DataParallel'> compatible with goal function <class 'textattack.goal_functions.classification.untargeted_classification.UntargetedClassification'>.\n"
     ]
    }
   ],
   "source": [
    "# Create the recipe\n",
    "textfooler_recipe = TextFoolerJin2019.build(model_wrapper)"
   ]
  },
  {
   "cell_type": "code",
   "execution_count": 14,
   "id": "f7db3f08",
   "metadata": {},
   "outputs": [],
   "source": [
    "attacker = Attacker(textfooler_recipe, sst2_dataset, \n",
    "                    AttackArgs(num_examples = 10 ,\n",
    "                                   shuffle = True , # Shuffle Dataset \n",
    "                                   disable_stdout = True,# Supress individual Attack Results\n",
    "                              ))\n",
    "\n",
    "\n"
   ]
  },
  {
   "cell_type": "code",
   "execution_count": 15,
   "id": "64bd820f",
   "metadata": {},
   "outputs": [
    {
     "ename": "TypeError",
     "evalue": "enable_wandb() takes 1 positional argument but 2 were given",
     "output_type": "error",
     "traceback": [
      "\u001b[0;31m---------------------------------------------------------------------------\u001b[0m",
      "\u001b[0;31mTypeError\u001b[0m                                 Traceback (most recent call last)",
      "Input \u001b[0;32mIn [15]\u001b[0m, in \u001b[0;36m<cell line: 3>\u001b[0;34m()\u001b[0m\n\u001b[1;32m      1\u001b[0m \u001b[38;5;28;01mfrom\u001b[39;00m \u001b[38;5;21;01mtextattack\u001b[39;00m\u001b[38;5;21;01m.\u001b[39;00m\u001b[38;5;21;01mloggers\u001b[39;00m\u001b[38;5;21;01m.\u001b[39;00m\u001b[38;5;21;01mattack_log_manager\u001b[39;00m \u001b[38;5;28;01mimport\u001b[39;00m AttackLogManager\n\u001b[0;32m----> 3\u001b[0m \u001b[43mAttackLogManager\u001b[49m\u001b[43m(\u001b[49m\u001b[43m)\u001b[49m\u001b[38;5;241;43m.\u001b[39;49m\u001b[43menable_wandb\u001b[49m\u001b[43m(\u001b[49m\u001b[43m{\u001b[49m\u001b[38;5;124;43m'\u001b[39;49m\u001b[38;5;124;43mproject_name\u001b[39;49m\u001b[38;5;124;43m'\u001b[39;49m\u001b[43m:\u001b[49m\u001b[43m \u001b[49m\u001b[38;5;124;43m'\u001b[39;49m\u001b[38;5;124;43mtest\u001b[39;49m\u001b[38;5;124;43m'\u001b[39;49m\u001b[43m}\u001b[49m\u001b[43m)\u001b[49m\n",
      "\u001b[0;31mTypeError\u001b[0m: enable_wandb() takes 1 positional argument but 2 were given"
     ]
    }
   ],
   "source": [
    "from textattack.loggers.attack_log_manager import AttackLogManager\n",
    "\n",
    "AttackLogManager().enable_wandb({'project_name': 'test'})"
   ]
  },
  {
   "cell_type": "code",
   "execution_count": 16,
   "id": "e3bd9f11",
   "metadata": {
    "scrolled": false
   },
   "outputs": [
    {
     "name": "stderr",
     "output_type": "stream",
     "text": [
      "\r",
      "  0%|                                                    | 0/10 [00:00<?, ?it/s]"
     ]
    },
    {
     "name": "stdout",
     "output_type": "stream",
     "text": [
      "Attack(\n",
      "  (search_method): GreedyWordSwapWIR(\n",
      "    (wir_method):  delete\n",
      "  )\n",
      "  (goal_function):  UntargetedClassification\n",
      "  (transformation):  WordSwapEmbedding(\n",
      "    (max_candidates):  50\n",
      "    (embedding):  WordEmbedding\n",
      "  )\n",
      "  (constraints): \n",
      "    (0): WordEmbeddingDistance(\n",
      "        (embedding):  WordEmbedding\n",
      "        (min_cos_sim):  0.5\n",
      "        (cased):  False\n",
      "        (include_unknown_words):  True\n",
      "        (compare_against_original):  True\n",
      "      )\n",
      "    (1): PartOfSpeech(\n",
      "        (tagger_type):  nltk\n",
      "        (tagset):  universal\n",
      "        (allow_verb_noun_swap):  True\n",
      "        (compare_against_original):  True\n",
      "      )\n",
      "    (2): UniversalSentenceEncoder(\n",
      "        (metric):  angular\n",
      "        (threshold):  0.840845057\n",
      "        (window_size):  15\n",
      "        (skip_text_shorter_than_window):  True\n",
      "        (compare_against_original):  False\n",
      "      )\n",
      "    (3): RepeatModification\n",
      "    (4): StopwordModification\n",
      "    (5): InputColumnModification(\n",
      "        (matching_column_labels):  ['premise', 'hypothesis']\n",
      "        (columns_to_ignore):  {'premise'}\n",
      "      )\n",
      "  (is_black_box):  True\n",
      ") \n",
      "\n"
     ]
    },
    {
     "name": "stderr",
     "output_type": "stream",
     "text": [
      "[Succeeded / Failed / Skipped / Total] 10 / 0 / 0 / 10: 100%|█| 10/10 [00:02<00:"
     ]
    },
    {
     "name": "stdout",
     "output_type": "stream",
     "text": [
      "\n",
      "+-------------------------------+--------+\n",
      "| Attack Results                |        |\n",
      "+-------------------------------+--------+\n",
      "| Number of successful attacks: | 10     |\n",
      "| Number of failed attacks:     | 0      |\n",
      "| Number of skipped attacks:    | 0      |\n",
      "| Original accuracy:            | 100.0% |\n",
      "| Accuracy under attack:        | 0.0%   |\n",
      "| Attack success rate:          | 100.0% |\n",
      "| Average perturbed word %:     | 16.08% |\n",
      "| Average num. words per input: | 20.9   |\n",
      "| Avg num queries:              | 94.4   |\n",
      "+-------------------------------+--------+"
     ]
    },
    {
     "name": "stderr",
     "output_type": "stream",
     "text": [
      "\n"
     ]
    },
    {
     "name": "stdout",
     "output_type": "stream",
     "text": [
      "\n"
     ]
    }
   ],
   "source": [
    "results = attacker.attack_dataset()"
   ]
  },
  {
   "cell_type": "markdown",
   "id": "564dd8df",
   "metadata": {},
   "source": [
    "### DeepWordBugGao2018"
   ]
  },
  {
   "cell_type": "code",
   "execution_count": null,
   "id": "b8f7cf00",
   "metadata": {
    "scrolled": false
   },
   "outputs": [],
   "source": [
    "# Create the recipe\n",
    "textfooler_recipe = DeepWordBugGao2018.build(model_wrapper)"
   ]
  },
  {
   "cell_type": "code",
   "execution_count": null,
   "id": "0b49b816",
   "metadata": {},
   "outputs": [],
   "source": [
    "attacker = Attacker(textfooler_recipe, sst2_dataset, \n",
    "                    AttackArgs(num_examples = 10 ,\n",
    "                                   shuffle = True , # Shuffle Dataset \n",
    "                                   log_to_csv = \"Ganbert_Attack.csv\" , # Log Attack to CSV \n",
    "                                   disable_stdout = True,# Supress individual Attack Results \n",
    "                              ))\n",
    "\n",
    "\n"
   ]
  },
  {
   "cell_type": "code",
   "execution_count": null,
   "id": "862fffce",
   "metadata": {
    "scrolled": false
   },
   "outputs": [],
   "source": [
    "results = attacker.attack_dataset()"
   ]
  },
  {
   "cell_type": "markdown",
   "id": "7e406d47",
   "metadata": {},
   "source": [
    "### BAEGarg2019"
   ]
  },
  {
   "cell_type": "code",
   "execution_count": null,
   "id": "2beb9ceb",
   "metadata": {
    "scrolled": false
   },
   "outputs": [],
   "source": [
    "# Create the recipe\n",
    "textfooler_recipe = BAEGarg2019.build(model_wrapper)"
   ]
  },
  {
   "cell_type": "code",
   "execution_count": null,
   "id": "ae0a642a",
   "metadata": {},
   "outputs": [],
   "source": [
    "attacker = Attacker(textfooler_recipe, sst2_dataset, \n",
    "                    AttackArgs(num_examples = 10 ,\n",
    "                                   shuffle = True , # Shuffle Dataset \n",
    "                                   log_to_csv = \"Ganbert_Attack.csv\" , # Log Attack to CSV \n",
    "                                   disable_stdout = True,# Supress individual Attack Results \n",
    "                              ))\n",
    "\n",
    "\n"
   ]
  },
  {
   "cell_type": "code",
   "execution_count": null,
   "id": "ef369d7c",
   "metadata": {
    "scrolled": false
   },
   "outputs": [],
   "source": [
    "results = attacker.attack_dataset()"
   ]
  },
  {
   "cell_type": "code",
   "execution_count": null,
   "id": "1932de36",
   "metadata": {},
   "outputs": [],
   "source": [
    "results[3].goal_function_result_str()"
   ]
  },
  {
   "cell_type": "code",
   "execution_count": null,
   "id": "41e1f93f",
   "metadata": {},
   "outputs": [],
   "source": [
    "results[3].num_queries"
   ]
  },
  {
   "cell_type": "code",
   "execution_count": null,
   "id": "25d59d93",
   "metadata": {},
   "outputs": [],
   "source": [
    "results[3].original_text()"
   ]
  },
  {
   "cell_type": "code",
   "execution_count": null,
   "id": "b653d9b3",
   "metadata": {},
   "outputs": [],
   "source": [
    "results[3].perturbed_text()"
   ]
  },
  {
   "cell_type": "code",
   "execution_count": null,
   "id": "b329063f",
   "metadata": {},
   "outputs": [],
   "source": [
    "results[0].perturbed_result.goal_status"
   ]
  },
  {
   "cell_type": "code",
   "execution_count": null,
   "id": "6d8f4ecd",
   "metadata": {},
   "outputs": [],
   "source": [
    "results[0].perturbed_result.score"
   ]
  },
  {
   "cell_type": "code",
   "execution_count": null,
   "id": "0a001d2b",
   "metadata": {},
   "outputs": [],
   "source": [
    "results[0].original_result.score"
   ]
  },
  {
   "cell_type": "code",
   "execution_count": null,
   "id": "bd9fe746",
   "metadata": {},
   "outputs": [],
   "source": [
    "results[0].diff_color()"
   ]
  },
  {
   "cell_type": "code",
   "execution_count": null,
   "id": "83e43260",
   "metadata": {},
   "outputs": [],
   "source": [
    "results[0].str_lines()"
   ]
  },
  {
   "cell_type": "markdown",
   "id": "1dea3c46",
   "metadata": {
    "scrolled": false
   },
   "source": [
    "### FasterGeneticAlgorithmJia2019"
   ]
  },
  {
   "cell_type": "code",
   "execution_count": null,
   "id": "c9de65a1",
   "metadata": {
    "scrolled": false
   },
   "outputs": [],
   "source": [
    "# Create the recipe\n",
    "textfooler_recipe = FasterGeneticAlgorithmJia2019.build(model_wrapper)"
   ]
  },
  {
   "cell_type": "code",
   "execution_count": null,
   "id": "5607989c",
   "metadata": {},
   "outputs": [],
   "source": [
    "attacker = Attacker(textfooler_recipe, sst2_dataset, \n",
    "                    AttackArgs(num_examples = 10 ,\n",
    "                                   shuffle = True , # Shuffle Dataset \n",
    "                                   log_to_csv = \"Ganbert_Attack.csv\" , # Log Attack to CSV \n",
    "                                   disable_stdout = True,# Supress individual Attack Results \n",
    "                              ))\n",
    "\n",
    "\n"
   ]
  },
  {
   "cell_type": "code",
   "execution_count": null,
   "id": "87214322",
   "metadata": {
    "scrolled": false
   },
   "outputs": [],
   "source": [
    "results = attacker.attack_dataset()"
   ]
  },
  {
   "cell_type": "code",
   "execution_count": null,
   "id": "4e66da1c",
   "metadata": {},
   "outputs": [],
   "source": [
    "results[2].str_lines()"
   ]
  },
  {
   "cell_type": "markdown",
   "id": "7d0d20ba",
   "metadata": {},
   "source": [
    "### Morpheus"
   ]
  },
  {
   "cell_type": "code",
   "execution_count": null,
   "id": "98663f16",
   "metadata": {},
   "outputs": [],
   "source": [
    "textattack_recipe = MorpheusTan2020.build(model_wrapper)\n",
    "\n",
    "attacker = Attacker(textattack_recipe, sst2_dataset, \n",
    "                    AttackArgs(num_examples = 10 ,\n",
    "                                   shuffle = True , # Shuffle Dataset \n",
    "                                   log_to_csv = \"Ganbert_Attack.csv\" , # Log Attack to CSV \n",
    "                                   disable_stdout = True,# Supress individual Attack Results \n",
    "                              ))"
   ]
  },
  {
   "cell_type": "code",
   "execution_count": null,
   "id": "46bedbdc",
   "metadata": {},
   "outputs": [],
   "source": [
    "results = attacker.attack_dataset()"
   ]
  },
  {
   "cell_type": "code",
   "execution_count": null,
   "id": "e61b9cdd",
   "metadata": {},
   "outputs": [],
   "source": [
    "results[4].goal_function_result_str()"
   ]
  },
  {
   "cell_type": "code",
   "execution_count": null,
   "id": "b2002019",
   "metadata": {},
   "outputs": [],
   "source": [
    "results[4].perturbed_text()"
   ]
  },
  {
   "cell_type": "code",
   "execution_count": null,
   "id": "2b82383f",
   "metadata": {},
   "outputs": [],
   "source": [
    "results[4].original_text()"
   ]
  },
  {
   "cell_type": "markdown",
   "id": "cc57970b",
   "metadata": {},
   "source": [
    "### HotFlip"
   ]
  },
  {
   "cell_type": "code",
   "execution_count": null,
   "id": "ce723bdd",
   "metadata": {
    "scrolled": true
   },
   "outputs": [],
   "source": [
    "textattack_recipe = Pruthi2019.build(model_wrapper)\n",
    "\n",
    "attacker = Attacker(textattack_recipe, sst2_dataset, \n",
    "                    AttackArgs(num_examples = 10 ,\n",
    "                                   shuffle = True , # Shuffle Dataset \n",
    "                                   log_to_csv = \"Ganbert_Attack.csv\" , # Log Attack to CSV \n",
    "                                   disable_stdout = True,# Supress individual Attack Results \n",
    "                              ))"
   ]
  },
  {
   "cell_type": "code",
   "execution_count": null,
   "id": "61508ac0",
   "metadata": {},
   "outputs": [],
   "source": [
    "results = attacker.attack_dataset()"
   ]
  },
  {
   "cell_type": "code",
   "execution_count": null,
   "id": "96f4982b",
   "metadata": {},
   "outputs": [],
   "source": [
    "results[1].original_text()"
   ]
  },
  {
   "cell_type": "code",
   "execution_count": null,
   "id": "be9e2c6f",
   "metadata": {},
   "outputs": [],
   "source": []
  }
 ],
 "metadata": {
  "kernelspec": {
   "display_name": "Python 3 (ipykernel)",
   "language": "python",
   "name": "python3"
  },
  "language_info": {
   "codemirror_mode": {
    "name": "ipython",
    "version": 3
   },
   "file_extension": ".py",
   "mimetype": "text/x-python",
   "name": "python",
   "nbconvert_exporter": "python",
   "pygments_lexer": "ipython3",
   "version": "3.8.0"
  }
 },
 "nbformat": 4,
 "nbformat_minor": 5
}

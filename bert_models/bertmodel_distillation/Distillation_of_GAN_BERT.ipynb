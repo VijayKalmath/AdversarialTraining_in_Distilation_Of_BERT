{
 "cells": [
  {
   "cell_type": "code",
   "execution_count": 1,
   "id": "87273e53",
   "metadata": {},
   "outputs": [
    {
     "name": "stderr",
     "output_type": "stream",
     "text": [
      "2022-05-08 03:41:35.645004: W tensorflow/stream_executor/platform/default/dso_loader.cc:59] Could not load dynamic library 'libcudart.so.10.1'; dlerror: libcudart.so.10.1: cannot open shared object file: No such file or directory; LD_LIBRARY_PATH: /usr/local/cuda-11.0/lib64\n",
      "2022-05-08 03:41:35.645046: I tensorflow/stream_executor/cuda/cudart_stub.cc:29] Ignore above cudart dlerror if you do not have a GPU set up on your machine.\n"
     ]
    }
   ],
   "source": [
    "## All the Imports used\n",
    "\n",
    "from datetime import datetime\n",
    "\n",
    "from typing import Tuple\n",
    "import torch\n",
    "from torch.nn import Module\n",
    "from torch.nn import CrossEntropyLoss, CosineEmbeddingLoss\n",
    "\n",
    "\n",
    "import os\n",
    "\n",
    "# Append Utils to System Path \n",
    "import sys\n",
    "sys.path.append('../utils')\n",
    "\n",
    "from collections import OrderedDict\n",
    "\n",
    "# Call Our Model's Utility Function \n",
    "from distilbert_utils import *\n",
    "from distilbert_finetuning import *\n",
    "\n",
    "from ganbert_models import *\n",
    "from ganbert_utils import *\n",
    "\n",
    "import numpy as np\n",
    "\n",
    "# Call Hugging Face Functions \n",
    "from transformers import AutoTokenizer, DistilBertTokenizer, DistilBertForSequenceClassification, AutoConfig, DistilBertConfig"
   ]
  },
  {
   "cell_type": "code",
   "execution_count": 2,
   "id": "88cbfadc",
   "metadata": {},
   "outputs": [
    {
     "name": "stderr",
     "output_type": "stream",
     "text": [
      "Some weights of the model checkpoint at distilbert-base-cased were not used when initializing DistilBertForSequenceClassification: ['vocab_layer_norm.bias', 'vocab_projector.weight', 'vocab_transform.weight', 'vocab_layer_norm.weight', 'vocab_transform.bias', 'vocab_projector.bias']\n",
      "- This IS expected if you are initializing DistilBertForSequenceClassification from the checkpoint of a model trained on another task or with another architecture (e.g. initializing a BertForSequenceClassification model from a BertForPreTraining model).\n",
      "- This IS NOT expected if you are initializing DistilBertForSequenceClassification from the checkpoint of a model that you expect to be exactly identical (initializing a BertForSequenceClassification model from a BertForSequenceClassification model).\n",
      "Some weights of DistilBertForSequenceClassification were not initialized from the model checkpoint at distilbert-base-cased and are newly initialized: ['pre_classifier.bias', 'pre_classifier.weight', 'classifier.weight', 'classifier.bias']\n",
      "You should probably TRAIN this model on a down-stream task to be able to use it for predictions and inference.\n"
     ]
    },
    {
     "data": {
      "text/plain": [
       "<All keys matched successfully>"
      ]
     },
     "execution_count": 2,
     "metadata": {},
     "output_type": "execute_result"
    }
   ],
   "source": [
    "# Using DistilBert FineTuned Model has starting values. \n",
    "\n",
    "model_path = '../distilbert/finetuned_models/distill_bert_finetuned_sst2_67349_samples_2022-05-03_21-30-41.pt'\n",
    "\n",
    "model_dict = torch.load(model_path)\n",
    "        \n",
    "model_name = 'distilbert-base-cased'\n",
    "\n",
    "\n",
    "# Load Model from saved File\n",
    "model = DistilBertForSequenceClassification.from_pretrained(model_name)\n",
    "\n",
    "model.load_state_dict(model_dict['distilbert'])"
   ]
  },
  {
   "cell_type": "code",
   "execution_count": 3,
   "id": "d52406af",
   "metadata": {
    "scrolled": true
   },
   "outputs": [
    {
     "name": "stdout",
     "output_type": "stream",
     "text": [
      "DistilBertForSequenceClassification(\n",
      "  (distilbert): DistilBertModel(\n",
      "    (embeddings): Embeddings(\n",
      "      (word_embeddings): Embedding(28996, 768, padding_idx=0)\n",
      "      (position_embeddings): Embedding(512, 768)\n",
      "      (LayerNorm): LayerNorm((768,), eps=1e-12, elementwise_affine=True)\n",
      "      (dropout): Dropout(p=0.1, inplace=False)\n",
      "    )\n",
      "    (transformer): Transformer(\n",
      "      (layer): ModuleList(\n",
      "        (0): TransformerBlock(\n",
      "          (attention): MultiHeadSelfAttention(\n",
      "            (dropout): Dropout(p=0.1, inplace=False)\n",
      "            (q_lin): Linear(in_features=768, out_features=768, bias=True)\n",
      "            (k_lin): Linear(in_features=768, out_features=768, bias=True)\n",
      "            (v_lin): Linear(in_features=768, out_features=768, bias=True)\n",
      "            (out_lin): Linear(in_features=768, out_features=768, bias=True)\n",
      "          )\n",
      "          (sa_layer_norm): LayerNorm((768,), eps=1e-12, elementwise_affine=True)\n",
      "          (ffn): FFN(\n",
      "            (dropout): Dropout(p=0.1, inplace=False)\n",
      "            (lin1): Linear(in_features=768, out_features=3072, bias=True)\n",
      "            (lin2): Linear(in_features=3072, out_features=768, bias=True)\n",
      "          )\n",
      "          (output_layer_norm): LayerNorm((768,), eps=1e-12, elementwise_affine=True)\n",
      "        )\n",
      "        (1): TransformerBlock(\n",
      "          (attention): MultiHeadSelfAttention(\n",
      "            (dropout): Dropout(p=0.1, inplace=False)\n",
      "            (q_lin): Linear(in_features=768, out_features=768, bias=True)\n",
      "            (k_lin): Linear(in_features=768, out_features=768, bias=True)\n",
      "            (v_lin): Linear(in_features=768, out_features=768, bias=True)\n",
      "            (out_lin): Linear(in_features=768, out_features=768, bias=True)\n",
      "          )\n",
      "          (sa_layer_norm): LayerNorm((768,), eps=1e-12, elementwise_affine=True)\n",
      "          (ffn): FFN(\n",
      "            (dropout): Dropout(p=0.1, inplace=False)\n",
      "            (lin1): Linear(in_features=768, out_features=3072, bias=True)\n",
      "            (lin2): Linear(in_features=3072, out_features=768, bias=True)\n",
      "          )\n",
      "          (output_layer_norm): LayerNorm((768,), eps=1e-12, elementwise_affine=True)\n",
      "        )\n",
      "        (2): TransformerBlock(\n",
      "          (attention): MultiHeadSelfAttention(\n",
      "            (dropout): Dropout(p=0.1, inplace=False)\n",
      "            (q_lin): Linear(in_features=768, out_features=768, bias=True)\n",
      "            (k_lin): Linear(in_features=768, out_features=768, bias=True)\n",
      "            (v_lin): Linear(in_features=768, out_features=768, bias=True)\n",
      "            (out_lin): Linear(in_features=768, out_features=768, bias=True)\n",
      "          )\n",
      "          (sa_layer_norm): LayerNorm((768,), eps=1e-12, elementwise_affine=True)\n",
      "          (ffn): FFN(\n",
      "            (dropout): Dropout(p=0.1, inplace=False)\n",
      "            (lin1): Linear(in_features=768, out_features=3072, bias=True)\n",
      "            (lin2): Linear(in_features=3072, out_features=768, bias=True)\n",
      "          )\n",
      "          (output_layer_norm): LayerNorm((768,), eps=1e-12, elementwise_affine=True)\n",
      "        )\n",
      "        (3): TransformerBlock(\n",
      "          (attention): MultiHeadSelfAttention(\n",
      "            (dropout): Dropout(p=0.1, inplace=False)\n",
      "            (q_lin): Linear(in_features=768, out_features=768, bias=True)\n",
      "            (k_lin): Linear(in_features=768, out_features=768, bias=True)\n",
      "            (v_lin): Linear(in_features=768, out_features=768, bias=True)\n",
      "            (out_lin): Linear(in_features=768, out_features=768, bias=True)\n",
      "          )\n",
      "          (sa_layer_norm): LayerNorm((768,), eps=1e-12, elementwise_affine=True)\n",
      "          (ffn): FFN(\n",
      "            (dropout): Dropout(p=0.1, inplace=False)\n",
      "            (lin1): Linear(in_features=768, out_features=3072, bias=True)\n",
      "            (lin2): Linear(in_features=3072, out_features=768, bias=True)\n",
      "          )\n",
      "          (output_layer_norm): LayerNorm((768,), eps=1e-12, elementwise_affine=True)\n",
      "        )\n",
      "        (4): TransformerBlock(\n",
      "          (attention): MultiHeadSelfAttention(\n",
      "            (dropout): Dropout(p=0.1, inplace=False)\n",
      "            (q_lin): Linear(in_features=768, out_features=768, bias=True)\n",
      "            (k_lin): Linear(in_features=768, out_features=768, bias=True)\n",
      "            (v_lin): Linear(in_features=768, out_features=768, bias=True)\n",
      "            (out_lin): Linear(in_features=768, out_features=768, bias=True)\n",
      "          )\n",
      "          (sa_layer_norm): LayerNorm((768,), eps=1e-12, elementwise_affine=True)\n",
      "          (ffn): FFN(\n",
      "            (dropout): Dropout(p=0.1, inplace=False)\n",
      "            (lin1): Linear(in_features=768, out_features=3072, bias=True)\n",
      "            (lin2): Linear(in_features=3072, out_features=768, bias=True)\n",
      "          )\n",
      "          (output_layer_norm): LayerNorm((768,), eps=1e-12, elementwise_affine=True)\n",
      "        )\n",
      "        (5): TransformerBlock(\n",
      "          (attention): MultiHeadSelfAttention(\n",
      "            (dropout): Dropout(p=0.1, inplace=False)\n",
      "            (q_lin): Linear(in_features=768, out_features=768, bias=True)\n",
      "            (k_lin): Linear(in_features=768, out_features=768, bias=True)\n",
      "            (v_lin): Linear(in_features=768, out_features=768, bias=True)\n",
      "            (out_lin): Linear(in_features=768, out_features=768, bias=True)\n",
      "          )\n",
      "          (sa_layer_norm): LayerNorm((768,), eps=1e-12, elementwise_affine=True)\n",
      "          (ffn): FFN(\n",
      "            (dropout): Dropout(p=0.1, inplace=False)\n",
      "            (lin1): Linear(in_features=768, out_features=3072, bias=True)\n",
      "            (lin2): Linear(in_features=3072, out_features=768, bias=True)\n",
      "          )\n",
      "          (output_layer_norm): LayerNorm((768,), eps=1e-12, elementwise_affine=True)\n",
      "        )\n",
      "      )\n",
      "    )\n",
      "  )\n",
      "  (pre_classifier): Linear(in_features=768, out_features=768, bias=True)\n",
      "  (classifier): Linear(in_features=768, out_features=2, bias=True)\n",
      "  (dropout): Dropout(p=0.2, inplace=False)\n",
      ")\n"
     ]
    }
   ],
   "source": [
    "print(model)"
   ]
  },
  {
   "cell_type": "code",
   "execution_count": 4,
   "id": "6b2310eb",
   "metadata": {},
   "outputs": [],
   "source": [
    "def visualize_children(\n",
    "    object,\n",
    "    level=0,\n",
    "):\n",
    "    \"\"\"\n",
    "    Prints the children of (object) and their children too, if there are any.\n",
    "    Uses the current depth (level) to print things in a ordonnate manner.\n",
    "    \"\"\"\n",
    "    print(f\"{'   ' * level}{level}- {type(object).__name__} - {type(object)}\")\n",
    "    try:\n",
    "        for child in object.children():\n",
    "            visualize_children(child, level + 1)\n",
    "    except:\n",
    "        pass"
   ]
  },
  {
   "cell_type": "code",
   "execution_count": 5,
   "id": "34a8d2bc",
   "metadata": {
    "scrolled": true
   },
   "outputs": [
    {
     "name": "stdout",
     "output_type": "stream",
     "text": [
      "0- DistilBertForSequenceClassification - <class 'transformers.models.distilbert.modeling_distilbert.DistilBertForSequenceClassification'>\n",
      "   1- DistilBertModel - <class 'transformers.models.distilbert.modeling_distilbert.DistilBertModel'>\n",
      "      2- Embeddings - <class 'transformers.models.distilbert.modeling_distilbert.Embeddings'>\n",
      "         3- Embedding - <class 'torch.nn.modules.sparse.Embedding'>\n",
      "         3- Embedding - <class 'torch.nn.modules.sparse.Embedding'>\n",
      "         3- LayerNorm - <class 'torch.nn.modules.normalization.LayerNorm'>\n",
      "         3- Dropout - <class 'torch.nn.modules.dropout.Dropout'>\n",
      "      2- Transformer - <class 'transformers.models.distilbert.modeling_distilbert.Transformer'>\n",
      "         3- ModuleList - <class 'torch.nn.modules.container.ModuleList'>\n",
      "            4- TransformerBlock - <class 'transformers.models.distilbert.modeling_distilbert.TransformerBlock'>\n",
      "               5- MultiHeadSelfAttention - <class 'transformers.models.distilbert.modeling_distilbert.MultiHeadSelfAttention'>\n",
      "                  6- Dropout - <class 'torch.nn.modules.dropout.Dropout'>\n",
      "                  6- Linear - <class 'torch.nn.modules.linear.Linear'>\n",
      "                  6- Linear - <class 'torch.nn.modules.linear.Linear'>\n",
      "                  6- Linear - <class 'torch.nn.modules.linear.Linear'>\n",
      "                  6- Linear - <class 'torch.nn.modules.linear.Linear'>\n",
      "               5- LayerNorm - <class 'torch.nn.modules.normalization.LayerNorm'>\n",
      "               5- FFN - <class 'transformers.models.distilbert.modeling_distilbert.FFN'>\n",
      "                  6- Dropout - <class 'torch.nn.modules.dropout.Dropout'>\n",
      "                  6- Linear - <class 'torch.nn.modules.linear.Linear'>\n",
      "                  6- Linear - <class 'torch.nn.modules.linear.Linear'>\n",
      "               5- LayerNorm - <class 'torch.nn.modules.normalization.LayerNorm'>\n",
      "            4- TransformerBlock - <class 'transformers.models.distilbert.modeling_distilbert.TransformerBlock'>\n",
      "               5- MultiHeadSelfAttention - <class 'transformers.models.distilbert.modeling_distilbert.MultiHeadSelfAttention'>\n",
      "                  6- Dropout - <class 'torch.nn.modules.dropout.Dropout'>\n",
      "                  6- Linear - <class 'torch.nn.modules.linear.Linear'>\n",
      "                  6- Linear - <class 'torch.nn.modules.linear.Linear'>\n",
      "                  6- Linear - <class 'torch.nn.modules.linear.Linear'>\n",
      "                  6- Linear - <class 'torch.nn.modules.linear.Linear'>\n",
      "               5- LayerNorm - <class 'torch.nn.modules.normalization.LayerNorm'>\n",
      "               5- FFN - <class 'transformers.models.distilbert.modeling_distilbert.FFN'>\n",
      "                  6- Dropout - <class 'torch.nn.modules.dropout.Dropout'>\n",
      "                  6- Linear - <class 'torch.nn.modules.linear.Linear'>\n",
      "                  6- Linear - <class 'torch.nn.modules.linear.Linear'>\n",
      "               5- LayerNorm - <class 'torch.nn.modules.normalization.LayerNorm'>\n",
      "            4- TransformerBlock - <class 'transformers.models.distilbert.modeling_distilbert.TransformerBlock'>\n",
      "               5- MultiHeadSelfAttention - <class 'transformers.models.distilbert.modeling_distilbert.MultiHeadSelfAttention'>\n",
      "                  6- Dropout - <class 'torch.nn.modules.dropout.Dropout'>\n",
      "                  6- Linear - <class 'torch.nn.modules.linear.Linear'>\n",
      "                  6- Linear - <class 'torch.nn.modules.linear.Linear'>\n",
      "                  6- Linear - <class 'torch.nn.modules.linear.Linear'>\n",
      "                  6- Linear - <class 'torch.nn.modules.linear.Linear'>\n",
      "               5- LayerNorm - <class 'torch.nn.modules.normalization.LayerNorm'>\n",
      "               5- FFN - <class 'transformers.models.distilbert.modeling_distilbert.FFN'>\n",
      "                  6- Dropout - <class 'torch.nn.modules.dropout.Dropout'>\n",
      "                  6- Linear - <class 'torch.nn.modules.linear.Linear'>\n",
      "                  6- Linear - <class 'torch.nn.modules.linear.Linear'>\n",
      "               5- LayerNorm - <class 'torch.nn.modules.normalization.LayerNorm'>\n",
      "            4- TransformerBlock - <class 'transformers.models.distilbert.modeling_distilbert.TransformerBlock'>\n",
      "               5- MultiHeadSelfAttention - <class 'transformers.models.distilbert.modeling_distilbert.MultiHeadSelfAttention'>\n",
      "                  6- Dropout - <class 'torch.nn.modules.dropout.Dropout'>\n",
      "                  6- Linear - <class 'torch.nn.modules.linear.Linear'>\n",
      "                  6- Linear - <class 'torch.nn.modules.linear.Linear'>\n",
      "                  6- Linear - <class 'torch.nn.modules.linear.Linear'>\n",
      "                  6- Linear - <class 'torch.nn.modules.linear.Linear'>\n",
      "               5- LayerNorm - <class 'torch.nn.modules.normalization.LayerNorm'>\n",
      "               5- FFN - <class 'transformers.models.distilbert.modeling_distilbert.FFN'>\n",
      "                  6- Dropout - <class 'torch.nn.modules.dropout.Dropout'>\n",
      "                  6- Linear - <class 'torch.nn.modules.linear.Linear'>\n",
      "                  6- Linear - <class 'torch.nn.modules.linear.Linear'>\n",
      "               5- LayerNorm - <class 'torch.nn.modules.normalization.LayerNorm'>\n",
      "            4- TransformerBlock - <class 'transformers.models.distilbert.modeling_distilbert.TransformerBlock'>\n",
      "               5- MultiHeadSelfAttention - <class 'transformers.models.distilbert.modeling_distilbert.MultiHeadSelfAttention'>\n",
      "                  6- Dropout - <class 'torch.nn.modules.dropout.Dropout'>\n",
      "                  6- Linear - <class 'torch.nn.modules.linear.Linear'>\n",
      "                  6- Linear - <class 'torch.nn.modules.linear.Linear'>\n",
      "                  6- Linear - <class 'torch.nn.modules.linear.Linear'>\n",
      "                  6- Linear - <class 'torch.nn.modules.linear.Linear'>\n",
      "               5- LayerNorm - <class 'torch.nn.modules.normalization.LayerNorm'>\n",
      "               5- FFN - <class 'transformers.models.distilbert.modeling_distilbert.FFN'>\n",
      "                  6- Dropout - <class 'torch.nn.modules.dropout.Dropout'>\n",
      "                  6- Linear - <class 'torch.nn.modules.linear.Linear'>\n",
      "                  6- Linear - <class 'torch.nn.modules.linear.Linear'>\n",
      "               5- LayerNorm - <class 'torch.nn.modules.normalization.LayerNorm'>\n",
      "            4- TransformerBlock - <class 'transformers.models.distilbert.modeling_distilbert.TransformerBlock'>\n",
      "               5- MultiHeadSelfAttention - <class 'transformers.models.distilbert.modeling_distilbert.MultiHeadSelfAttention'>\n",
      "                  6- Dropout - <class 'torch.nn.modules.dropout.Dropout'>\n",
      "                  6- Linear - <class 'torch.nn.modules.linear.Linear'>\n",
      "                  6- Linear - <class 'torch.nn.modules.linear.Linear'>\n",
      "                  6- Linear - <class 'torch.nn.modules.linear.Linear'>\n",
      "                  6- Linear - <class 'torch.nn.modules.linear.Linear'>\n",
      "               5- LayerNorm - <class 'torch.nn.modules.normalization.LayerNorm'>\n",
      "               5- FFN - <class 'transformers.models.distilbert.modeling_distilbert.FFN'>\n",
      "                  6- Dropout - <class 'torch.nn.modules.dropout.Dropout'>\n",
      "                  6- Linear - <class 'torch.nn.modules.linear.Linear'>\n",
      "                  6- Linear - <class 'torch.nn.modules.linear.Linear'>\n",
      "               5- LayerNorm - <class 'torch.nn.modules.normalization.LayerNorm'>\n",
      "   1- Linear - <class 'torch.nn.modules.linear.Linear'>\n",
      "   1- Linear - <class 'torch.nn.modules.linear.Linear'>\n",
      "   1- Dropout - <class 'torch.nn.modules.dropout.Dropout'>\n"
     ]
    }
   ],
   "source": [
    "\n",
    "visualize_children(model)"
   ]
  },
  {
   "cell_type": "code",
   "execution_count": 6,
   "id": "cd7bfc43",
   "metadata": {},
   "outputs": [],
   "source": [
    "from transformers import DistilBertModel\n",
    "from  transformers.models.distilbert.modeling_distilbert import Transformer\n",
    "\n",
    "def distill_finetune_weights(teacher, student):\n",
    "    \"\"\"\n",
    "    Recursively copies the weights of the (teacher) to the (student).\n",
    "    This function is meant to be first called on a RobertaFor... model, but is then called on every children of that model recursively.\n",
    "    The only part that's not fully copied is the encoder, of which only half is copied.\n",
    "    \"\"\"\n",
    "\n",
    "    if isinstance(teacher, DistilBertModel) or type(teacher).__name__.startswith('DistilBertForSequenceClassification'):\n",
    "\n",
    "        for teacher_part, student_part in zip(teacher.children(), student.children()):\n",
    "            distill_finetune_weights(teacher_part, student_part)\n",
    "\n",
    "    # Else if the part is an encoder, copy one out of every layer\n",
    "    elif isinstance(teacher, Transformer):\n",
    "\n",
    "            teacher_encoding_layers = [layer for layer in next(teacher.children())]\n",
    "            student_encoding_layers = [layer for layer in next(student.children())]\n",
    "\n",
    "            for i in range(len(student_encoding_layers)):\n",
    "                student_encoding_layers[i].load_state_dict(teacher_encoding_layers[2*i].state_dict())\n",
    "    # Else the part is a head or something else, copy the state_dict\n",
    "    else:\n",
    "\n",
    "        student.load_state_dict(teacher.state_dict())"
   ]
  },
  {
   "cell_type": "code",
   "execution_count": 7,
   "id": "74309b1b",
   "metadata": {},
   "outputs": [],
   "source": [
    "## Function\n",
    "def distill_distilbert(teacher_model):\n",
    "    \"\"\"\n",
    "    Distilates a RoBERTa (teacher_model) like would DistilBERT for a BERT model.\n",
    "    The student model has the same configuration, except for the number of hidden layers, which is // by 2.\n",
    "    The student layers are initilized by copying one out of two layers of the teacher, starting with layer 0.\n",
    "    The head of the teacher is also copied.\n",
    "    \"\"\"\n",
    "    # Get teacher configuration as a dictionary\n",
    "    configuration = teacher_model.config.to_dict()\n",
    "#     print(configuration)\n",
    "    # Half the number of hidden layer\n",
    "    configuration['n_layers'] //= 2\n",
    "    # Convert the dictionnary to the student configuration\n",
    "    configuration = DistilBertConfig.from_dict(configuration)\n",
    "    # Create uninitialized student model\n",
    "    student_model = type(teacher_model)(configuration)\n",
    "    # Initialize the student's weights\n",
    "    distill_finetune_weights(teacher=teacher_model, student=student_model)\n",
    "\n",
    "    # Return the student model\n",
    "    return student_model"
   ]
  },
  {
   "cell_type": "code",
   "execution_count": 8,
   "id": "64742747",
   "metadata": {
    "scrolled": false
   },
   "outputs": [],
   "source": [
    "student_distil_bert = distill_distilbert(model)"
   ]
  },
  {
   "cell_type": "code",
   "execution_count": 9,
   "id": "7dfc9827",
   "metadata": {
    "scrolled": true
   },
   "outputs": [
    {
     "name": "stdout",
     "output_type": "stream",
     "text": [
      "0- DistilBertForSequenceClassification - <class 'transformers.models.distilbert.modeling_distilbert.DistilBertForSequenceClassification'>\n",
      "   1- DistilBertModel - <class 'transformers.models.distilbert.modeling_distilbert.DistilBertModel'>\n",
      "      2- Embeddings - <class 'transformers.models.distilbert.modeling_distilbert.Embeddings'>\n",
      "         3- Embedding - <class 'torch.nn.modules.sparse.Embedding'>\n",
      "         3- Embedding - <class 'torch.nn.modules.sparse.Embedding'>\n",
      "         3- LayerNorm - <class 'torch.nn.modules.normalization.LayerNorm'>\n",
      "         3- Dropout - <class 'torch.nn.modules.dropout.Dropout'>\n",
      "      2- Transformer - <class 'transformers.models.distilbert.modeling_distilbert.Transformer'>\n",
      "         3- ModuleList - <class 'torch.nn.modules.container.ModuleList'>\n",
      "            4- TransformerBlock - <class 'transformers.models.distilbert.modeling_distilbert.TransformerBlock'>\n",
      "               5- MultiHeadSelfAttention - <class 'transformers.models.distilbert.modeling_distilbert.MultiHeadSelfAttention'>\n",
      "                  6- Dropout - <class 'torch.nn.modules.dropout.Dropout'>\n",
      "                  6- Linear - <class 'torch.nn.modules.linear.Linear'>\n",
      "                  6- Linear - <class 'torch.nn.modules.linear.Linear'>\n",
      "                  6- Linear - <class 'torch.nn.modules.linear.Linear'>\n",
      "                  6- Linear - <class 'torch.nn.modules.linear.Linear'>\n",
      "               5- LayerNorm - <class 'torch.nn.modules.normalization.LayerNorm'>\n",
      "               5- FFN - <class 'transformers.models.distilbert.modeling_distilbert.FFN'>\n",
      "                  6- Dropout - <class 'torch.nn.modules.dropout.Dropout'>\n",
      "                  6- Linear - <class 'torch.nn.modules.linear.Linear'>\n",
      "                  6- Linear - <class 'torch.nn.modules.linear.Linear'>\n",
      "               5- LayerNorm - <class 'torch.nn.modules.normalization.LayerNorm'>\n",
      "            4- TransformerBlock - <class 'transformers.models.distilbert.modeling_distilbert.TransformerBlock'>\n",
      "               5- MultiHeadSelfAttention - <class 'transformers.models.distilbert.modeling_distilbert.MultiHeadSelfAttention'>\n",
      "                  6- Dropout - <class 'torch.nn.modules.dropout.Dropout'>\n",
      "                  6- Linear - <class 'torch.nn.modules.linear.Linear'>\n",
      "                  6- Linear - <class 'torch.nn.modules.linear.Linear'>\n",
      "                  6- Linear - <class 'torch.nn.modules.linear.Linear'>\n",
      "                  6- Linear - <class 'torch.nn.modules.linear.Linear'>\n",
      "               5- LayerNorm - <class 'torch.nn.modules.normalization.LayerNorm'>\n",
      "               5- FFN - <class 'transformers.models.distilbert.modeling_distilbert.FFN'>\n",
      "                  6- Dropout - <class 'torch.nn.modules.dropout.Dropout'>\n",
      "                  6- Linear - <class 'torch.nn.modules.linear.Linear'>\n",
      "                  6- Linear - <class 'torch.nn.modules.linear.Linear'>\n",
      "               5- LayerNorm - <class 'torch.nn.modules.normalization.LayerNorm'>\n",
      "            4- TransformerBlock - <class 'transformers.models.distilbert.modeling_distilbert.TransformerBlock'>\n",
      "               5- MultiHeadSelfAttention - <class 'transformers.models.distilbert.modeling_distilbert.MultiHeadSelfAttention'>\n",
      "                  6- Dropout - <class 'torch.nn.modules.dropout.Dropout'>\n",
      "                  6- Linear - <class 'torch.nn.modules.linear.Linear'>\n",
      "                  6- Linear - <class 'torch.nn.modules.linear.Linear'>\n",
      "                  6- Linear - <class 'torch.nn.modules.linear.Linear'>\n",
      "                  6- Linear - <class 'torch.nn.modules.linear.Linear'>\n",
      "               5- LayerNorm - <class 'torch.nn.modules.normalization.LayerNorm'>\n",
      "               5- FFN - <class 'transformers.models.distilbert.modeling_distilbert.FFN'>\n",
      "                  6- Dropout - <class 'torch.nn.modules.dropout.Dropout'>\n",
      "                  6- Linear - <class 'torch.nn.modules.linear.Linear'>\n",
      "                  6- Linear - <class 'torch.nn.modules.linear.Linear'>\n",
      "               5- LayerNorm - <class 'torch.nn.modules.normalization.LayerNorm'>\n",
      "   1- Linear - <class 'torch.nn.modules.linear.Linear'>\n",
      "   1- Linear - <class 'torch.nn.modules.linear.Linear'>\n",
      "   1- Dropout - <class 'torch.nn.modules.dropout.Dropout'>\n"
     ]
    }
   ],
   "source": [
    "visualize_children(student_distil_bert)"
   ]
  },
  {
   "cell_type": "code",
   "execution_count": 10,
   "id": "6b88f3c1",
   "metadata": {},
   "outputs": [],
   "source": [
    "def get_logits(model, input_ids, attention_mask):\n",
    "    \n",
    "    \"\"\"\n",
    "    Given a RoBERTa (model) for classification and the couple of (input_ids) and (attention_mask),\n",
    "    returns the logits corresponding to the prediction.\n",
    "    \"\"\"\n",
    "    return model(input_ids, attention_mask)['logits']"
   ]
  },
  {
   "cell_type": "code",
   "execution_count": 11,
   "id": "7a810d37",
   "metadata": {},
   "outputs": [],
   "source": [
    "def distillation_loss(teacher_logits, student_logits, labels, temperature= 1.0):\n",
    "    \"\"\"\n",
    "    The distillation loss for distilating a BERT-like model.\n",
    "    The loss takes the (teacher_logits), (student_logits) and (labels) for various losses.\n",
    "    The (temperature) can be given, otherwise it's set to 1 by default.\n",
    "    \"\"\"\n",
    "    # Temperature and sotfmax\n",
    "    student_logits, teacher_logits = (student_logits / temperature).softmax(1), (teacher_logits / temperature).softmax(1)\n",
    "    # Classification loss (problem-specific loss)\n",
    "    loss = CrossEntropyLoss()(student_logits, labels)\n",
    "    # CrossEntropy teacher-student loss\n",
    "    loss = loss + CrossEntropyLoss()(student_logits, teacher_logits)\n",
    "    # Cosine loss\n",
    "    loss = loss + CosineEmbeddingLoss()(teacher_logits, student_logits, torch.ones(teacher_logits.size()[0]))\n",
    "    # Average the loss and return it\n",
    "    loss = loss / 3\n",
    "    return loss"
   ]
  },
  {
   "cell_type": "code",
   "execution_count": 12,
   "id": "3aa0bf24",
   "metadata": {},
   "outputs": [
    {
     "name": "stderr",
     "output_type": "stream",
     "text": [
      "Reusing dataset glue (/home/ecbm4040/.cache/huggingface/datasets/glue/sst2/1.0.0/dacbe3125aa31d7f70367a07a8a9e72a5a0bfeb5fc42e75c9db75b96da6053ad)\n"
     ]
    },
    {
     "data": {
      "application/vnd.jupyter.widget-view+json": {
       "model_id": "92a3a7855daa4f0db8f6f11d9938ae07",
       "version_major": 2,
       "version_minor": 0
      },
      "text/plain": [
       "HBox(children=(FloatProgress(value=0.0, max=68.0), HTML(value='')))"
      ]
     },
     "metadata": {},
     "output_type": "display_data"
    },
    {
     "name": "stdout",
     "output_type": "stream",
     "text": [
      "\n"
     ]
    },
    {
     "data": {
      "application/vnd.jupyter.widget-view+json": {
       "model_id": "dabc939f1a234d308cf58882e75ad652",
       "version_major": 2,
       "version_minor": 0
      },
      "text/plain": [
       "HBox(children=(FloatProgress(value=0.0, max=1.0), HTML(value='')))"
      ]
     },
     "metadata": {},
     "output_type": "display_data"
    },
    {
     "name": "stdout",
     "output_type": "stream",
     "text": [
      "\n"
     ]
    },
    {
     "data": {
      "application/vnd.jupyter.widget-view+json": {
       "model_id": "00360b44769849cf90e91927ac70f4f4",
       "version_major": 2,
       "version_minor": 0
      },
      "text/plain": [
       "HBox(children=(FloatProgress(value=0.0, max=2.0), HTML(value='')))"
      ]
     },
     "metadata": {},
     "output_type": "display_data"
    },
    {
     "name": "stdout",
     "output_type": "stream",
     "text": [
      "\n"
     ]
    },
    {
     "data": {
      "text/plain": [
       "{'attention_mask': Sequence(feature=Value(dtype='int8', id=None), length=-1, id=None),\n",
       " 'idx': Value(dtype='int32', id=None),\n",
       " 'input_ids': Sequence(feature=Value(dtype='int32', id=None), length=-1, id=None),\n",
       " 'labels': ClassLabel(num_classes=2, names=['negative', 'positive'], names_file=None, id=None),\n",
       " 'sentence': Value(dtype='string', id=None)}"
      ]
     },
     "execution_count": 12,
     "metadata": {},
     "output_type": "execute_result"
    }
   ],
   "source": [
    "from datasets import load_dataset\n",
    "\n",
    "dataset_id=\"glue\"\n",
    "dataset_config=\"sst2\"\n",
    "\n",
    "\n",
    "dataset = load_dataset(dataset_id,dataset_config)\n",
    "\n",
    "from transformers import AutoTokenizer\n",
    " \n",
    "tokenizer = AutoTokenizer.from_pretrained(model_name)\n",
    "\n",
    "def process(examples):\n",
    "    tokenized_inputs = tokenizer(\n",
    "         examples[\"sentence\"], truncation=True, max_length=512\n",
    "     )\n",
    "    return tokenized_inputs\n",
    " \n",
    "tokenized_datasets = dataset.map(process, batched=True)\n",
    "tokenized_datasets = tokenized_datasets.rename_column(\"label\",\"labels\")\n",
    " \n",
    "tokenized_datasets[\"test\"].features"
   ]
  },
  {
   "cell_type": "code",
   "execution_count": 13,
   "id": "4ad22994",
   "metadata": {},
   "outputs": [
    {
     "data": {
      "text/plain": [
       "DatasetDict({\n",
       "    train: Dataset({\n",
       "        features: ['attention_mask', 'idx', 'input_ids', 'labels', 'sentence'],\n",
       "        num_rows: 67349\n",
       "    })\n",
       "    validation: Dataset({\n",
       "        features: ['attention_mask', 'idx', 'input_ids', 'labels', 'sentence'],\n",
       "        num_rows: 872\n",
       "    })\n",
       "    test: Dataset({\n",
       "        features: ['attention_mask', 'idx', 'input_ids', 'labels', 'sentence'],\n",
       "        num_rows: 1821\n",
       "    })\n",
       "})"
      ]
     },
     "execution_count": 13,
     "metadata": {},
     "output_type": "execute_result"
    }
   ],
   "source": [
    "tokenized_datasets"
   ]
  },
  {
   "cell_type": "code",
   "execution_count": 14,
   "id": "609fd86d",
   "metadata": {},
   "outputs": [],
   "source": [
    "from transformers import TrainingArguments, Trainer\n",
    "import torch\n",
    "import torch.nn as nn\n",
    "import torch.nn.functional as F\n",
    "\n",
    "class DistillationTrainingArguments(TrainingArguments):\n",
    "     def __init__(self, *args, alpha=0.5, temperature=2.0, **kwargs):\n",
    "        super().__init__(*args, **kwargs)\n",
    "         \n",
    "        self.alpha = alpha\n",
    "        self.temperature = temperature\n",
    "         \n",
    "class DistillationTrainer(Trainer):\n",
    "     def __init__(self, *args, teacher_model=None, **kwargs):\n",
    "        super().__init__(*args, **kwargs)\n",
    "        self.teacher = teacher_model\n",
    "        # place teacher on same device as student\n",
    "        self._move_model_to_device(self.teacher,self.model.device)\n",
    "        \n",
    "        self.teacher.eval()\n",
    " \n",
    "     def compute_loss(self, model, inputs, return_outputs=False):\n",
    "        self._move_model_to_device(model,self.model.device)\n",
    "        self._move_model_to_device(inputs,self.model.device)\n",
    "        # compute student output\n",
    "        outputs_student = model(**inputs)\n",
    "        student_loss=outputs_student.loss\n",
    "        # compute teacher output\n",
    "        with torch.no_grad():\n",
    "            \n",
    "            outputs_teacher = self.teacher(**inputs)\n",
    "         \n",
    "         # assert size\n",
    "        assert outputs_student.logits.size() == outputs_teacher.logits.size(), f\" Student is {outputs_student.logits.size() } , parent is {outputs_teacher.logits.size() }\"\n",
    "\n",
    "        # Soften probabilities and compute distillation loss\n",
    "        loss_function = nn.KLDivLoss(reduction=\"batchmean\")\n",
    "        loss_logits = (loss_function(\n",
    "             F.log_softmax(outputs_student.logits / self.args.temperature, dim=-1),\n",
    "             F.softmax(outputs_teacher.logits / self.args.temperature, dim=-1)) * (self.args.temperature ** 2))\n",
    "        # Return weighted student loss\n",
    "        loss = self.args.alpha * student_loss + (1. - self.args.alpha) * loss_logits\n",
    "        return (loss, outputs_student) if return_outputs else loss"
   ]
  },
  {
   "cell_type": "code",
   "execution_count": 15,
   "id": "7503b09a",
   "metadata": {},
   "outputs": [],
   "source": [
    "from transformers import AutoModelForSequenceClassification, DataCollatorWithPadding\n",
    "from huggingface_hub import HfFolder\n",
    " \n",
    " # create label2id, id2label dicts for nice outputs for the model\n",
    "labels = tokenized_datasets[\"train\"].features[\"labels\"].names\n",
    "num_labels = len(labels)\n",
    "label2id, id2label = dict(), dict()\n",
    "\n",
    "for i, label in enumerate(labels):\n",
    "    label2id[label] = str(i)\n",
    "    id2label[str(i)] = label\n",
    " \n",
    " # define training args\n",
    "training_args = DistillationTrainingArguments(output_dir = \"Distillation_of_GanBert-May7th-18-30\",\n",
    "     num_train_epochs=7,\n",
    "     per_device_train_batch_size=128,\n",
    "     per_device_eval_batch_size=128,\n",
    "     fp16=True,\n",
    "     learning_rate=6e-5,\n",
    "     seed=33,\n",
    "     # logging & evaluation strategies\n",
    "     evaluation_strategy=\"epoch\",\n",
    "     metric_for_best_model=\"accuracy\",\n",
    "     alpha=0.5,\n",
    "     temperature=4.0\n",
    "     )\n",
    " \n",
    "# define data_collator\n",
    "data_collator = DataCollatorWithPadding(tokenizer=tokenizer)"
   ]
  },
  {
   "cell_type": "code",
   "execution_count": 16,
   "id": "10a1276b",
   "metadata": {},
   "outputs": [],
   "source": [
    "from datasets import load_metric\n",
    "import numpy as np\n",
    " \n",
    " # define metrics and metrics function\n",
    "accuracy_metric = load_metric( \"accuracy\")\n",
    "\n",
    "def compute_metrics(eval_pred):\n",
    "    predictions, labels = eval_pred\n",
    "    predictions = np.argmax(predictions, axis=1)\n",
    "    acc = accuracy_metric.compute(predictions=predictions, references=labels)\n",
    "    return {\"accuracy\": acc[\"accuracy\"]}"
   ]
  },
  {
   "cell_type": "code",
   "execution_count": 17,
   "id": "29ab5cf5",
   "metadata": {},
   "outputs": [],
   "source": [
    "from transformers.modeling_outputs import SequenceClassifierOutput\n",
    "\n",
    "class InferenceGANBert(nn.Module):\n",
    "    \n",
    "    def __init__(self, model_path):\n",
    "        super().__init__()\n",
    "        self.device = get_gpu_details()\n",
    "        model_dict = torch.load(model_path)\n",
    "        model_name = 'bert-base-cased'\n",
    "        self.transformer = AutoModel.from_pretrained(model_name)\n",
    "        \n",
    "        transformer_dict = OrderedDict()\n",
    "        \n",
    "        for key,value in model_dict['bert_encoder'].items():\n",
    "            transformer_dict[key[7:]] = value\n",
    "      \n",
    "        self.transformer.load_state_dict(transformer_dict)\n",
    "        self.transformer.eval()\n",
    "        \n",
    "        hidden_size_bert = AutoConfig.from_pretrained(model_name).hidden_size\n",
    "        hidden_size_bert = int(hidden_size_bert)\n",
    "        \n",
    "        self.discriminator = Discriminator(input_size=hidden_size_bert, hidden_sizes=[hidden_size_bert],\\\n",
    "                                                                                   num_labels=3, dropout_rate=0.1)\n",
    "        self.discriminator.load_state_dict(model_dict['discriminator'])\n",
    "        self.discriminator.eval()\n",
    "        \n",
    "        \n",
    "        self.tokenizer = AutoTokenizer.from_pretrained(model_name)\n",
    "        \n",
    "        if torch.cuda.is_available(): \n",
    "            self.discriminator.cuda()\n",
    "            self.transformer.cuda()\n",
    "    \n",
    "            if True:\n",
    "                self.transformer = torch.nn.DataParallel(self.transformer)\n",
    "        \n",
    "    def forward(self, attention_mask,input_ids,labels):\n",
    "        attention_mask.to(self.device)\n",
    "        input_ids.to(self.device)\n",
    "                \n",
    "        # do the forward pass\n",
    "        with torch.no_grad():        \n",
    "            model_outputs = self.transformer(input_ids, attention_mask)\n",
    "            hidden_states = model_outputs[-1]\n",
    "            features, logits, probs = self.discriminator(hidden_states)\n",
    "            outputs = SequenceClassifierOutput(logits  = logits[:,:2], hidden_states = features)\n",
    "\n",
    "        return outputs"
   ]
  },
  {
   "cell_type": "code",
   "execution_count": 18,
   "id": "c6e350d7",
   "metadata": {
    "scrolled": false
   },
   "outputs": [
    {
     "name": "stdout",
     "output_type": "stream",
     "text": [
      "There are 1 GPU(s) available.\n",
      "We will use the GPU: Tesla V100-SXM2-16GB\n",
      "\n",
      "\n",
      "\n"
     ]
    },
    {
     "name": "stderr",
     "output_type": "stream",
     "text": [
      "Some weights of the model checkpoint at bert-base-cased were not used when initializing BertModel: ['cls.predictions.decoder.weight', 'cls.predictions.transform.LayerNorm.bias', 'cls.predictions.transform.LayerNorm.weight', 'cls.seq_relationship.bias', 'cls.seq_relationship.weight', 'cls.predictions.transform.dense.bias', 'cls.predictions.transform.dense.weight', 'cls.predictions.bias']\n",
      "- This IS expected if you are initializing BertModel from the checkpoint of a model trained on another task or with another architecture (e.g. initializing a BertForSequenceClassification model from a BertForPreTraining model).\n",
      "- This IS NOT expected if you are initializing BertModel from the checkpoint of a model that you expect to be exactly identical (initializing a BertForSequenceClassification model from a BertForSequenceClassification model).\n"
     ]
    },
    {
     "name": "stdout",
     "output_type": "stream",
     "text": [
      "hidden_sizes[i] and [i+1] is 768 and 768\n"
     ]
    },
    {
     "name": "stderr",
     "output_type": "stream",
     "text": [
      "Using amp fp16 backend\n"
     ]
    }
   ],
   "source": [
    "trainer = DistillationTrainer(\n",
    "     student_distil_bert,\n",
    "     training_args,\n",
    "     teacher_model=InferenceGANBert('../gan-bert/finetuned_models/gan_bert_finetuned_sst2_67349_samples_0.2_labelratio_2022-05-04_02-26-06.pt'),\n",
    "     train_dataset=tokenized_datasets[\"train\"],\n",
    "     eval_dataset=tokenized_datasets[\"validation\"],\n",
    "     data_collator=data_collator,\n",
    "     tokenizer=tokenizer,\n",
    "     compute_metrics=compute_metrics,\n",
    " )"
   ]
  },
  {
   "cell_type": "code",
   "execution_count": 19,
   "id": "3f764278",
   "metadata": {},
   "outputs": [],
   "source": [
    "os.environ[\"WANDB_DISABLED\"] = \"false\""
   ]
  },
  {
   "cell_type": "code",
   "execution_count": 20,
   "id": "63c467ea",
   "metadata": {
    "scrolled": false
   },
   "outputs": [
    {
     "name": "stderr",
     "output_type": "stream",
     "text": [
      "The following columns in the training set  don't have a corresponding argument in `DistilBertForSequenceClassification.forward` and have been ignored: sentence, idx.\n",
      "***** Running training *****\n",
      "  Num examples = 67349\n",
      "  Num Epochs = 7\n",
      "  Instantaneous batch size per device = 128\n",
      "  Total train batch size (w. parallel, distributed & accumulation) = 128\n",
      "  Gradient Accumulation steps = 1\n",
      "  Total optimization steps = 3689\n",
      "Automatic Weights & Biases logging enabled, to disable set os.environ[\"WANDB_DISABLED\"] = \"true\"\n",
      "Failed to detect the name of this notebook, you can set it manually with the WANDB_NOTEBOOK_NAME environment variable to enable code saving.\n",
      "\u001b[34m\u001b[1mwandb\u001b[0m: Currently logged in as: \u001b[33mvijaykalmath\u001b[0m. Use \u001b[1m`wandb login --relogin`\u001b[0m to force relogin\n"
     ]
    },
    {
     "name": "stdout",
     "output_type": "stream",
     "text": [
      "huggingface/tokenizers: The current process just got forked, after parallelism has already been used. Disabling parallelism to avoid deadlocks...\n",
      "To disable this warning, you can either:\n",
      "\t- Avoid using `tokenizers` before the fork if possible\n",
      "\t- Explicitly set the environment variable TOKENIZERS_PARALLELISM=(true | false)\n",
      "huggingface/tokenizers: The current process just got forked, after parallelism has already been used. Disabling parallelism to avoid deadlocks...\n",
      "To disable this warning, you can either:\n",
      "\t- Avoid using `tokenizers` before the fork if possible\n",
      "\t- Explicitly set the environment variable TOKENIZERS_PARALLELISM=(true | false)\n",
      "huggingface/tokenizers: The current process just got forked, after parallelism has already been used. Disabling parallelism to avoid deadlocks...\n",
      "To disable this warning, you can either:\n",
      "\t- Avoid using `tokenizers` before the fork if possible\n",
      "\t- Explicitly set the environment variable TOKENIZERS_PARALLELISM=(true | false)\n"
     ]
    },
    {
     "name": "stderr",
     "output_type": "stream",
     "text": [
      "2022-05-08 03:41:50.852998: W tensorflow/stream_executor/platform/default/dso_loader.cc:59] Could not load dynamic library 'libcudart.so.10.1'; dlerror: libcudart.so.10.1: cannot open shared object file: No such file or directory; LD_LIBRARY_PATH: /usr/local/cuda-11.0/lib64\n",
      "2022-05-08 03:41:50.853037: I tensorflow/stream_executor/cuda/cudart_stub.cc:29] Ignore above cudart dlerror if you do not have a GPU set up on your machine.\n"
     ]
    },
    {
     "data": {
      "text/html": [
       "Tracking run with wandb version 0.12.16"
      ],
      "text/plain": [
       "<IPython.core.display.HTML object>"
      ]
     },
     "metadata": {},
     "output_type": "display_data"
    },
    {
     "data": {
      "text/html": [
       "Run data is saved locally in <code>/home/ecbm4040/AdversarialTraining_in_Distillation_Of_BERT/bert_models/bertmodel_distillation/wandb/run-20220508_034149-13fzclwl</code>"
      ],
      "text/plain": [
       "<IPython.core.display.HTML object>"
      ]
     },
     "metadata": {},
     "output_type": "display_data"
    },
    {
     "data": {
      "text/html": [
       "Syncing run <strong><a href=\"https://wandb.ai/vijaykalmath/huggingface/runs/13fzclwl\" target=\"_blank\">Distillation_of_GanBert-May7th-18-30</a></strong> to <a href=\"https://wandb.ai/vijaykalmath/huggingface\" target=\"_blank\">Weights & Biases</a> (<a href=\"https://wandb.me/run\" target=\"_blank\">docs</a>)<br/>"
      ],
      "text/plain": [
       "<IPython.core.display.HTML object>"
      ]
     },
     "metadata": {},
     "output_type": "display_data"
    },
    {
     "data": {
      "text/html": [
       "\n",
       "    <div>\n",
       "      \n",
       "      <progress value='3689' max='3689' style='width:300px; height:20px; vertical-align: middle;'></progress>\n",
       "      [3689/3689 05:17, Epoch 7/7]\n",
       "    </div>\n",
       "    <table border=\"1\" class=\"dataframe\">\n",
       "  <thead>\n",
       "    <tr style=\"text-align: left;\">\n",
       "      <th>Epoch</th>\n",
       "      <th>Training Loss</th>\n",
       "      <th>Validation Loss</th>\n",
       "      <th>Accuracy</th>\n",
       "    </tr>\n",
       "  </thead>\n",
       "  <tbody>\n",
       "    <tr>\n",
       "      <td>1</td>\n",
       "      <td>0.550200</td>\n",
       "      <td>0.721900</td>\n",
       "      <td>0.875000</td>\n",
       "    </tr>\n",
       "    <tr>\n",
       "      <td>2</td>\n",
       "      <td>0.258800</td>\n",
       "      <td>0.678684</td>\n",
       "      <td>0.872706</td>\n",
       "    </tr>\n",
       "    <tr>\n",
       "      <td>3</td>\n",
       "      <td>0.193600</td>\n",
       "      <td>0.629718</td>\n",
       "      <td>0.879587</td>\n",
       "    </tr>\n",
       "    <tr>\n",
       "      <td>4</td>\n",
       "      <td>0.154300</td>\n",
       "      <td>0.609332</td>\n",
       "      <td>0.880734</td>\n",
       "    </tr>\n",
       "    <tr>\n",
       "      <td>5</td>\n",
       "      <td>0.125100</td>\n",
       "      <td>0.563365</td>\n",
       "      <td>0.883028</td>\n",
       "    </tr>\n",
       "    <tr>\n",
       "      <td>6</td>\n",
       "      <td>0.108300</td>\n",
       "      <td>0.571109</td>\n",
       "      <td>0.887615</td>\n",
       "    </tr>\n",
       "    <tr>\n",
       "      <td>7</td>\n",
       "      <td>0.099400</td>\n",
       "      <td>0.563202</td>\n",
       "      <td>0.887615</td>\n",
       "    </tr>\n",
       "  </tbody>\n",
       "</table><p>"
      ],
      "text/plain": [
       "<IPython.core.display.HTML object>"
      ]
     },
     "metadata": {},
     "output_type": "display_data"
    },
    {
     "name": "stderr",
     "output_type": "stream",
     "text": [
      "Saving model checkpoint to Distillation_of_GanBert-May7th-18-30/checkpoint-500\n",
      "Configuration saved in Distillation_of_GanBert-May7th-18-30/checkpoint-500/config.json\n",
      "Model weights saved in Distillation_of_GanBert-May7th-18-30/checkpoint-500/pytorch_model.bin\n",
      "tokenizer config file saved in Distillation_of_GanBert-May7th-18-30/checkpoint-500/tokenizer_config.json\n",
      "Special tokens file saved in Distillation_of_GanBert-May7th-18-30/checkpoint-500/special_tokens_map.json\n",
      "The following columns in the evaluation set  don't have a corresponding argument in `DistilBertForSequenceClassification.forward` and have been ignored: sentence, idx.\n",
      "***** Running Evaluation *****\n",
      "  Num examples = 872\n",
      "  Batch size = 128\n",
      "Saving model checkpoint to Distillation_of_GanBert-May7th-18-30/checkpoint-1000\n",
      "Configuration saved in Distillation_of_GanBert-May7th-18-30/checkpoint-1000/config.json\n",
      "Model weights saved in Distillation_of_GanBert-May7th-18-30/checkpoint-1000/pytorch_model.bin\n",
      "tokenizer config file saved in Distillation_of_GanBert-May7th-18-30/checkpoint-1000/tokenizer_config.json\n",
      "Special tokens file saved in Distillation_of_GanBert-May7th-18-30/checkpoint-1000/special_tokens_map.json\n",
      "The following columns in the evaluation set  don't have a corresponding argument in `DistilBertForSequenceClassification.forward` and have been ignored: sentence, idx.\n",
      "***** Running Evaluation *****\n",
      "  Num examples = 872\n",
      "  Batch size = 128\n",
      "Saving model checkpoint to Distillation_of_GanBert-May7th-18-30/checkpoint-1500\n",
      "Configuration saved in Distillation_of_GanBert-May7th-18-30/checkpoint-1500/config.json\n",
      "Model weights saved in Distillation_of_GanBert-May7th-18-30/checkpoint-1500/pytorch_model.bin\n",
      "tokenizer config file saved in Distillation_of_GanBert-May7th-18-30/checkpoint-1500/tokenizer_config.json\n",
      "Special tokens file saved in Distillation_of_GanBert-May7th-18-30/checkpoint-1500/special_tokens_map.json\n",
      "The following columns in the evaluation set  don't have a corresponding argument in `DistilBertForSequenceClassification.forward` and have been ignored: sentence, idx.\n",
      "***** Running Evaluation *****\n",
      "  Num examples = 872\n",
      "  Batch size = 128\n",
      "Saving model checkpoint to Distillation_of_GanBert-May7th-18-30/checkpoint-2000\n",
      "Configuration saved in Distillation_of_GanBert-May7th-18-30/checkpoint-2000/config.json\n",
      "Model weights saved in Distillation_of_GanBert-May7th-18-30/checkpoint-2000/pytorch_model.bin\n",
      "tokenizer config file saved in Distillation_of_GanBert-May7th-18-30/checkpoint-2000/tokenizer_config.json\n",
      "Special tokens file saved in Distillation_of_GanBert-May7th-18-30/checkpoint-2000/special_tokens_map.json\n",
      "The following columns in the evaluation set  don't have a corresponding argument in `DistilBertForSequenceClassification.forward` and have been ignored: sentence, idx.\n",
      "***** Running Evaluation *****\n",
      "  Num examples = 872\n",
      "  Batch size = 128\n",
      "Saving model checkpoint to Distillation_of_GanBert-May7th-18-30/checkpoint-2500\n",
      "Configuration saved in Distillation_of_GanBert-May7th-18-30/checkpoint-2500/config.json\n",
      "Model weights saved in Distillation_of_GanBert-May7th-18-30/checkpoint-2500/pytorch_model.bin\n",
      "tokenizer config file saved in Distillation_of_GanBert-May7th-18-30/checkpoint-2500/tokenizer_config.json\n",
      "Special tokens file saved in Distillation_of_GanBert-May7th-18-30/checkpoint-2500/special_tokens_map.json\n",
      "The following columns in the evaluation set  don't have a corresponding argument in `DistilBertForSequenceClassification.forward` and have been ignored: sentence, idx.\n",
      "***** Running Evaluation *****\n",
      "  Num examples = 872\n",
      "  Batch size = 128\n",
      "Saving model checkpoint to Distillation_of_GanBert-May7th-18-30/checkpoint-3000\n",
      "Configuration saved in Distillation_of_GanBert-May7th-18-30/checkpoint-3000/config.json\n",
      "Model weights saved in Distillation_of_GanBert-May7th-18-30/checkpoint-3000/pytorch_model.bin\n",
      "tokenizer config file saved in Distillation_of_GanBert-May7th-18-30/checkpoint-3000/tokenizer_config.json\n",
      "Special tokens file saved in Distillation_of_GanBert-May7th-18-30/checkpoint-3000/special_tokens_map.json\n",
      "The following columns in the evaluation set  don't have a corresponding argument in `DistilBertForSequenceClassification.forward` and have been ignored: sentence, idx.\n",
      "***** Running Evaluation *****\n",
      "  Num examples = 872\n",
      "  Batch size = 128\n",
      "Saving model checkpoint to Distillation_of_GanBert-May7th-18-30/checkpoint-3500\n",
      "Configuration saved in Distillation_of_GanBert-May7th-18-30/checkpoint-3500/config.json\n",
      "Model weights saved in Distillation_of_GanBert-May7th-18-30/checkpoint-3500/pytorch_model.bin\n",
      "tokenizer config file saved in Distillation_of_GanBert-May7th-18-30/checkpoint-3500/tokenizer_config.json\n",
      "Special tokens file saved in Distillation_of_GanBert-May7th-18-30/checkpoint-3500/special_tokens_map.json\n",
      "The following columns in the evaluation set  don't have a corresponding argument in `DistilBertForSequenceClassification.forward` and have been ignored: sentence, idx.\n",
      "***** Running Evaluation *****\n",
      "  Num examples = 872\n",
      "  Batch size = 128\n",
      "\n",
      "\n",
      "Training completed. Do not forget to share your model on huggingface.co/models =)\n",
      "\n",
      "\n"
     ]
    },
    {
     "data": {
      "text/plain": [
       "TrainOutput(global_step=3689, training_loss=0.20677563012470299, metrics={'train_runtime': 319.8844, 'train_samples_per_second': 1473.792, 'train_steps_per_second': 11.532, 'total_flos': 3186342286167516.0, 'train_loss': 0.20677563012470299, 'epoch': 7.0})"
      ]
     },
     "execution_count": 20,
     "metadata": {},
     "output_type": "execute_result"
    }
   ],
   "source": [
    "trainer.train()"
   ]
  },
  {
   "cell_type": "code",
   "execution_count": 22,
   "id": "1a3c9953",
   "metadata": {},
   "outputs": [],
   "source": [
    "torch.save(\n",
    "                {\n",
    "                    'distilbert': student_distil_bert.state_dict(),\n",
    "            }, \n",
    "    f\"Gan_distilbert_sst2_{datetime.now():%Y-%m-%d_%H-%M-%S%z}.pt\")\n",
    "\n",
    "\n"
   ]
  },
  {
   "cell_type": "code",
   "execution_count": null,
   "id": "f807c4a2",
   "metadata": {},
   "outputs": [],
   "source": []
  }
 ],
 "metadata": {
  "kernelspec": {
   "display_name": "Python 3 (ipykernel)",
   "language": "python",
   "name": "python3"
  },
  "language_info": {
   "codemirror_mode": {
    "name": "ipython",
    "version": 3
   },
   "file_extension": ".py",
   "mimetype": "text/x-python",
   "name": "python",
   "nbconvert_exporter": "python",
   "pygments_lexer": "ipython3",
   "version": "3.8.0"
  }
 },
 "nbformat": 4,
 "nbformat_minor": 5
}

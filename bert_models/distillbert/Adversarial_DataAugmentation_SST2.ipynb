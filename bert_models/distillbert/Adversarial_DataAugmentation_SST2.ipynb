{
 "cells": [
  {
   "cell_type": "markdown",
   "id": "54d9a853",
   "metadata": {},
   "source": [
    "1) Use TextAttack\n",
    "\n",
    "https://textattack.readthedocs.io/en/latest/2notebook/3_Augmentations.html#\n",
    "https://textattack.readthedocs.io/en/latest/2notebook/3_Augmentations.html#Creating-an-Augmenter\n",
    "https://textattack.readthedocs.io/en/latest/3recipes/augmenter_recipes.html"
   ]
  },
  {
   "cell_type": "code",
   "execution_count": 1,
   "id": "d2fc6e68",
   "metadata": {},
   "outputs": [
    {
     "name": "stderr",
     "output_type": "stream",
     "text": [
      "2022-05-04 02:29:37.782009: W tensorflow/stream_executor/platform/default/dso_loader.cc:59] Could not load dynamic library 'libcudart.so.10.1'; dlerror: libcudart.so.10.1: cannot open shared object file: No such file or directory; LD_LIBRARY_PATH: /usr/local/cuda-11.0/lib64\n",
      "2022-05-04 02:29:37.782054: I tensorflow/stream_executor/cuda/cudart_stub.cc:29] Ignore above cudart dlerror if you do not have a GPU set up on your machine.\n"
     ]
    }
   ],
   "source": [
    "import numpy as np\n",
    "import pandas as pd\n",
    "\n",
    "import torch\n",
    "import transformers\n",
    "\n",
    "import warnings\n",
    "import time\n",
    "\n",
    "\n",
    "def get_sst_examples(input_file, test=False, discard_values = 0.5):\n",
    "\n",
    "    train_examples = []\n",
    "    test_examples = []\n",
    "\n",
    "    with open(input_file, 'r') as f:\n",
    "\n",
    "        contents = f.read()\n",
    "        file_as_list = contents.splitlines()\n",
    "        for line in file_as_list[1:]:\n",
    "            \n",
    "            # random drop 90% of examples for checking\n",
    "            is_dropped = np.random.binomial(1, discard_values, 1)[0]\n",
    "            \n",
    "            if not test and is_dropped == 1:\n",
    "                continue\n",
    "                \n",
    "                \n",
    "            text, label = line.split(\"\\t\") \n",
    "            if test:\n",
    "                test_examples.append((text, label))\n",
    "            else : \n",
    "                train_examples.append((text, label))\n",
    "        f.close()\n",
    "\n",
    "    return train_examples, test_examples\n"
   ]
  },
  {
   "cell_type": "code",
   "execution_count": 15,
   "id": "9cec03cd",
   "metadata": {},
   "outputs": [
    {
     "data": {
      "text/plain": [
       "('equals the original and in some ways even betters it ', '1')"
      ]
     },
     "execution_count": 15,
     "metadata": {},
     "output_type": "execute_result"
    }
   ],
   "source": [
    "labeled_examples, _ = get_sst_examples('./../../data/SST-2/train.tsv',test=False,discard_values = 0)\n",
    "i = 20\n",
    "\n",
    "labeled_examples[i]"
   ]
  },
  {
   "cell_type": "code",
   "execution_count": 29,
   "id": "b0cf441d",
   "metadata": {},
   "outputs": [
    {
     "name": "stdout",
     "output_type": "stream",
     "text": [
      "['And the same, and the same, and the same, and the same, and the same, and the same, and the same, and the same, and the same, and the same, and the same, and the same, and the same, and the same, and the same, and the same, and the same, and the same, and the same, and the same, and the same, and the same, and the same, and the same, and the same, and the same, and the same, and the same, and the same, and the same, and the same, and the same, and the same, and the same, and the same, and the same, and the same, and the same, and the same, and the same, and the same, and the same, and the same, and the same, and the same, and the same, and the same, and the same, and the same, and the same, and the same,', 'equal to the original and somehow amplifies even more', 'equal to the original and, in a similar way,', 'equal to the original and, no doubt, the equivalent', 'equal to the original and, to a certain extent, to the width of the year']\n",
      "1min 19s ± 0 ns per loop (mean ± std. dev. of 1 run, 1 loop each)\n"
     ]
    }
   ],
   "source": [
    "%%timeit -n 1 -r 1 \n",
    "# BackTranslationAugmenter\n",
    "\n",
    "\n",
    "from textattack.augmentation.recipes import BackTranslationAugmenter\n",
    "# Alter default values if desired\n",
    "\n",
    "augmenter = BackTranslationAugmenter(pct_words_to_swap=0.2, transformations_per_example=5)\n",
    "\n",
    "\n",
    "s = labeled_examples[i][0]# Augment\n",
    "\n",
    "\n",
    "print(augmenter.augment(s))"
   ]
  },
  {
   "cell_type": "code",
   "execution_count": 18,
   "id": "a8fc2780",
   "metadata": {},
   "outputs": [
    {
     "name": "stdout",
     "output_type": "stream",
     "text": [
      "['equalQ the original and in some ways even bteters it ', 'equals the original and in some ways evne bAtters it ', 'equals the original and in some ways evne bRtters it ', 'equals the ozriginal and in some ways even better it ', 'equals the riginal and in some ways ven betters it ']\n",
      "23.7 ms ± 0 ns per loop (mean ± std. dev. of 1 run, 1 loop each)\n"
     ]
    }
   ],
   "source": [
    "# %%timeit -n 1 -r 1 \n",
    "\n",
    "\n",
    "# from textattack.augmentation.recipes import CharSwapAugmenter\n",
    "# # Alter default values if desired\n",
    "\n",
    "# augmenter = CharSwapAugmenter(pct_words_to_swap=0.2, transformations_per_example=5)\n",
    "# s = labeled_examples[i][0]# Augment\n",
    "\n",
    "\n",
    "# print(augmenter.augment(s))"
   ]
  },
  {
   "cell_type": "code",
   "execution_count": 21,
   "id": "58a1685e",
   "metadata": {},
   "outputs": [
    {
     "name": "stdout",
     "output_type": "stream",
     "text": [
      "['equals original and in some ways even it ', 'equals original and in ways even betters it ', 'equals the original and in some even it ', 'the original and in some ways even betters ', 'the original and in some ways even it ']\n",
      "14.7 ms ± 0 ns per loop (mean ± std. dev. of 1 run, 1 loop each)\n"
     ]
    }
   ],
   "source": [
    "# %%timeit -n 1 -r 1 \n",
    "# # CheckListAugmenter\n",
    "\n",
    "# from textattack.augmentation.recipes import DeletionAugmenter\n",
    "# # Alter default values if desired\n",
    "\n",
    "# augmenter = DeletionAugmenter(pct_words_to_swap=0.2, transformations_per_example=5)\n",
    "# s = labeled_examples[i][0]# Augment\n",
    "\n",
    "\n",
    "# print(augmenter.augment(s))"
   ]
  },
  {
   "cell_type": "code",
   "execution_count": 22,
   "id": "942ab82f",
   "metadata": {
    "scrolled": false
   },
   "outputs": [
    {
     "name": "stdout",
     "output_type": "stream",
     "text": [
      "['equals the and in some ways betters it ', 'equate the original and in some ways even bettor it ', 'even the original and in some ways equals betters it ', 'equals the original and in some ways even betters path it ']\n",
      "1.05 s ± 0 ns per loop (mean ± std. dev. of 1 run, 1 loop each)\n"
     ]
    }
   ],
   "source": [
    "%%timeit -n 1 -r 1 \n",
    "# CheckListAugmenter\n",
    "\n",
    "from textattack.augmentation.recipes import EasyDataAugmenter\n",
    "# Alter default values if desired\n",
    "\n",
    "augmenter = EasyDataAugmenter(pct_words_to_swap=0.2, transformations_per_example=5)\n",
    "s = labeled_examples[i][0]# Augment\n",
    "\n",
    "\n",
    "print(augmenter.augment(s))"
   ]
  },
  {
   "cell_type": "code",
   "execution_count": 23,
   "id": "6b55b4d4",
   "metadata": {},
   "outputs": [
    {
     "name": "stdout",
     "output_type": "stream",
     "text": [
      "['equal the original and in some avenues even betters it ', 'equal the original and in some shapes even betters it ', 'equals the initial and in some modes even betters it ', 'equals the originals and in some methods even betters it ', 'equals the preliminary and in some methods even betters it ']\n",
      "214 ms ± 0 ns per loop (mean ± std. dev. of 1 run, 1 loop each)\n"
     ]
    }
   ],
   "source": [
    "%%timeit -n 1 -r 1 \n",
    "# EmbeddingAugmenter \n",
    "\n",
    "from textattack.augmentation.recipes import EmbeddingAugmenter\n",
    "# Alter default values if desired\n",
    "\n",
    "augmenter = EmbeddingAugmenter(pct_words_to_swap=0.2, transformations_per_example=5)\n",
    "s = labeled_examples[i][0]# Augment\n",
    "\n",
    "\n",
    "print(augmenter.augment(s))"
   ]
  },
  {
   "cell_type": "code",
   "execution_count": 33,
   "id": "0a700c1a",
   "metadata": {},
   "outputs": [
    {
     "name": "stdout",
     "output_type": "stream",
     "text": [
      "['equals the and original in some ways even betters it ', 'equals the original and in some ways betters even it ', 'equals the original in and some ways even betters it ', 'it the original and in some ways even betters equals ', 'the equals original and in some ways even betters it ']\n"
     ]
    }
   ],
   "source": [
    "# SwapAugmenter\n",
    "\n",
    "from textattack.augmentation.recipes import SwapAugmenter\n",
    "# Alter default values if desired\n",
    "\n",
    "augmenter = SwapAugmenter(pct_words_to_swap=0.2, transformations_per_example=5)\n",
    "s = labeled_examples[i][0]# Augment\n",
    "\n",
    "\n",
    "print(augmenter.augment(s))"
   ]
  },
  {
   "cell_type": "code",
   "execution_count": 25,
   "id": "c6ccc3e0",
   "metadata": {},
   "outputs": [
    {
     "name": "stdout",
     "output_type": "stream",
     "text": [
      "['equals IT the original and in some ways even betters it ', 'equals the original and in some ways even betters IT it ', 'equals the original and in some ways inwards even betters it ', 'equals the original and in some yet ways even betters it ', 'equals the original and master in some ways even betters it ']\n",
      "12 ms ± 0 ns per loop (mean ± std. dev. of 1 run, 1 loop each)\n"
     ]
    }
   ],
   "source": [
    "%%timeit -n 1 -r 1 \n",
    "# SynonymInsertionAugmenter \n",
    "\n",
    "\n",
    "from textattack.augmentation.recipes import SynonymInsertionAugmenter\n",
    "# Alter default values if desired\n",
    "\n",
    "augmenter = SynonymInsertionAugmenter(pct_words_to_swap=0.2, transformations_per_example=5)\n",
    "s = labeled_examples[i][0]# Augment\n",
    "\n",
    "\n",
    "print(augmenter.augment(s))"
   ]
  },
  {
   "cell_type": "code",
   "execution_count": 31,
   "id": "bf28f5d5",
   "metadata": {},
   "outputs": [
    {
     "name": "stdout",
     "output_type": "stream",
     "text": [
      "['equal the original and in some room even betters it ', 'equals the original and in some path fifty-fifty betters it ', 'equals the original and in some ways eventide amend it ', 'equals the pilot and in some ways flush betters it ', 'match the original and in some ways even meliorate it ']\n",
      "44.1 ms ± 0 ns per loop (mean ± std. dev. of 1 run, 1 loop each)\n"
     ]
    }
   ],
   "source": [
    "%%timeit -n 1 -r 1 \n",
    "# WordNetAugmenter \n",
    "\n",
    "from textattack.augmentation.recipes import WordNetAugmenter\n",
    "# Alter default values if desired\n",
    "\n",
    "augmenter = WordNetAugmenter(pct_words_to_swap=0.2, transformations_per_example=5)\n",
    "s = labeled_examples[i][0]# Augment\n",
    "\n",
    "\n",
    "print(augmenter.augment(s))"
   ]
  },
  {
   "cell_type": "markdown",
   "id": "39a00e69",
   "metadata": {},
   "source": [
    "https://towardsdatascience.com/what-are-adversarial-examples-in-nlp-f928c574478e"
   ]
  },
  {
   "cell_type": "code",
   "execution_count": null,
   "id": "b44d1b78",
   "metadata": {},
   "outputs": [],
   "source": []
  }
 ],
 "metadata": {
  "kernelspec": {
   "display_name": "Python 3 (ipykernel)",
   "language": "python",
   "name": "python3"
  },
  "language_info": {
   "codemirror_mode": {
    "name": "ipython",
    "version": 3
   },
   "file_extension": ".py",
   "mimetype": "text/x-python",
   "name": "python",
   "nbconvert_exporter": "python",
   "pygments_lexer": "ipython3",
   "version": "3.8.0"
  }
 },
 "nbformat": 4,
 "nbformat_minor": 5
}

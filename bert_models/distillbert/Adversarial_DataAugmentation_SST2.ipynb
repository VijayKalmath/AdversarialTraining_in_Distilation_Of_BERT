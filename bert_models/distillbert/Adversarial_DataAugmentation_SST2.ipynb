{
 "cells": [
  {
   "cell_type": "markdown",
   "id": "54d9a853",
   "metadata": {},
   "source": [
    "1) Use TextAttack\n",
    "\n",
    "https://textattack.readthedocs.io/en/latest/2notebook/3_Augmentations.html#\n",
    "https://textattack.readthedocs.io/en/latest/2notebook/3_Augmentations.html#Creating-an-Augmenter\n",
    "https://textattack.readthedocs.io/en/latest/3recipes/augmenter_recipes.html"
   ]
  },
  {
   "cell_type": "code",
   "execution_count": null,
   "id": "9545a1b4",
   "metadata": {},
   "outputs": [],
   "source": []
  }
 ],
 "metadata": {
  "kernelspec": {
   "display_name": "Python 3 (ipykernel)",
   "language": "python",
   "name": "python3"
  },
  "language_info": {
   "codemirror_mode": {
    "name": "ipython",
    "version": 3
   },
   "file_extension": ".py",
   "mimetype": "text/x-python",
   "name": "python",
   "nbconvert_exporter": "python",
   "pygments_lexer": "ipython3",
   "version": "3.8.0"
  }
 },
 "nbformat": 4,
 "nbformat_minor": 5
}

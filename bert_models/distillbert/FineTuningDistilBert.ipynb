{
 "cells": [
  {
   "cell_type": "code",
   "execution_count": 1,
   "id": "c1b770cb",
   "metadata": {},
   "outputs": [
    {
     "name": "stderr",
     "output_type": "stream",
     "text": [
      "2022-05-03 20:22:10.331201: W tensorflow/stream_executor/platform/default/dso_loader.cc:59] Could not load dynamic library 'libcudart.so.10.1'; dlerror: libcudart.so.10.1: cannot open shared object file: No such file or directory; LD_LIBRARY_PATH: /usr/local/cuda-11.0/lib64\n",
      "2022-05-03 20:22:10.331248: I tensorflow/stream_executor/cuda/cudart_stub.cc:29] Ignore above cudart dlerror if you do not have a GPU set up on your machine.\n"
     ]
    }
   ],
   "source": [
    "import sys \n",
    "sys.path.append('../utils')\n",
    "\n",
    "from datetime import datetime \n",
    "\n",
    "from distilbert_utils import *\n",
    "\n",
    "from distilbert_finetuning import * \n",
    "\n",
    "warnings.filterwarnings('ignore')"
   ]
  },
  {
   "cell_type": "code",
   "execution_count": 2,
   "id": "41130181",
   "metadata": {},
   "outputs": [
    {
     "name": "stdout",
     "output_type": "stream",
     "text": [
      "Using GPU\n"
     ]
    }
   ],
   "source": [
    "GPU  = get_gpu()"
   ]
  },
  {
   "cell_type": "code",
   "execution_count": 4,
   "id": "309392c2",
   "metadata": {},
   "outputs": [],
   "source": [
    "labeled_examples, _ = get_sst_examples('./../../data/SST-2/train.tsv',test=False,discard_values = 0.92)\n",
    "_, test_examples = get_sst_examples('./../../data/SST-2/dev.tsv', test=True,discard_values=1)"
   ]
  },
  {
   "cell_type": "code",
   "execution_count": 5,
   "id": "13f25e6e",
   "metadata": {},
   "outputs": [
    {
     "data": {
      "text/plain": [
       "(5428, 872)"
      ]
     },
     "execution_count": 5,
     "metadata": {},
     "output_type": "execute_result"
    }
   ],
   "source": [
    "len(labeled_examples), len(test_examples)"
   ]
  },
  {
   "cell_type": "code",
   "execution_count": 6,
   "id": "348ddd78",
   "metadata": {},
   "outputs": [],
   "source": [
    "label_map = {'0': 0, '1': 1}\n",
    "train_examples = labeled_examples"
   ]
  },
  {
   "cell_type": "code",
   "execution_count": 7,
   "id": "338cac63",
   "metadata": {},
   "outputs": [],
   "source": [
    "from transformers import AdamW\n",
    "from transformers import DistilBertTokenizer, DistilBertForSequenceClassification"
   ]
  },
  {
   "cell_type": "code",
   "execution_count": 8,
   "id": "4ede8285",
   "metadata": {
    "scrolled": true
   },
   "outputs": [],
   "source": [
    "transformer_type = 'distilbert-base-cased'\n",
    "\n",
    "tokenizer = DistilBertTokenizer.from_pretrained(transformer_type)\n",
    "\n",
    "train_dataloader = generate_data_loader(train_examples, label_map,tokenizer,batch_size =64, do_shuffle = True)\n",
    "\n",
    "test_dataloader = generate_data_loader(test_examples, label_map,tokenizer)"
   ]
  },
  {
   "cell_type": "code",
   "execution_count": 9,
   "id": "7f9db8c3",
   "metadata": {},
   "outputs": [
    {
     "name": "stderr",
     "output_type": "stream",
     "text": [
      "Some weights of the model checkpoint at distilbert-base-cased were not used when initializing DistilBertForSequenceClassification: ['vocab_projector.weight', 'vocab_layer_norm.bias', 'vocab_transform.bias', 'vocab_projector.bias', 'vocab_transform.weight', 'vocab_layer_norm.weight']\n",
      "- This IS expected if you are initializing DistilBertForSequenceClassification from the checkpoint of a model trained on another task or with another architecture (e.g. initializing a BertForSequenceClassification model from a BertForPreTraining model).\n",
      "- This IS NOT expected if you are initializing DistilBertForSequenceClassification from the checkpoint of a model that you expect to be exactly identical (initializing a BertForSequenceClassification model from a BertForSequenceClassification model).\n",
      "Some weights of DistilBertForSequenceClassification were not initialized from the model checkpoint at distilbert-base-cased and are newly initialized: ['classifier.bias', 'pre_classifier.weight', 'pre_classifier.bias', 'classifier.weight']\n",
      "You should probably TRAIN this model on a down-stream task to be able to use it for predictions and inference.\n"
     ]
    }
   ],
   "source": [
    "#Create the tokenizer, model, optimizer, and criterion\n",
    "model = transfer_device(GPU, DistilBertForSequenceClassification.from_pretrained(transformer_type))"
   ]
  },
  {
   "cell_type": "code",
   "execution_count": 10,
   "id": "29c410be",
   "metadata": {},
   "outputs": [],
   "source": [
    "optimizer = AdamW(model.parameters(), lr=2e-5)\n",
    "criterion = binary_cross_entropy"
   ]
  },
  {
   "cell_type": "code",
   "execution_count": 11,
   "id": "bf4effe3",
   "metadata": {},
   "outputs": [
    {
     "name": "stdout",
     "output_type": "stream",
     "text": [
      "Pre-training validation loss: 0.7004958774362292 --- Accuracy: 0.4908256880733945\n",
      "\n",
      "Epoch: 1on batch index: 13/14 ( 92.85714285714286% )\n",
      "Training loss: 0.48098003794165217 --- Accuracy: 0.7431834929992631\n",
      "Validation loss: 0.3342379001634462 --- Accuracy: 0.8589449541284404\n",
      "\n"
     ]
    }
   ],
   "source": [
    "#Train and save the model\n",
    "model = train_model(GPU, train_dataloader, test_dataloader, tokenizer, model, optimizer, criterion,epochs =1 )"
   ]
  },
  {
   "cell_type": "code",
   "execution_count": 14,
   "id": "834d7fce",
   "metadata": {},
   "outputs": [
    {
     "name": "stdout",
     "output_type": "stream",
     "text": [
      "distill_bert_finetuned_sst2_5428_samples_2022-05-03_20:59:04.pt\n"
     ]
    }
   ],
   "source": [
    "\n",
    "print(f\"distill_bert_finetuned_sst2_{len(train_examples)}_samples_{datetime.now():%Y-%m-%d_%H:%M:%S%z}.pt\"\n",
    "     )"
   ]
  },
  {
   "cell_type": "code",
   "execution_count": 15,
   "id": "0562f3e8",
   "metadata": {},
   "outputs": [],
   "source": [
    "torch.save({\n",
    "    'tokenizer': tokenizer,\n",
    "    'distilbert': model.state_dict(),\n",
    "}, f\"distill_bert_finetuned_sst2_{len(train_examples)}_samples_{datetime.now():%Y-%m-%d_%H-%M-%S%z}.pt\")"
   ]
  },
  {
   "cell_type": "code",
   "execution_count": null,
   "id": "dd08c065",
   "metadata": {},
   "outputs": [],
   "source": []
  }
 ],
 "metadata": {
  "kernelspec": {
   "display_name": "Python 3 (ipykernel)",
   "language": "python",
   "name": "python3"
  },
  "language_info": {
   "codemirror_mode": {
    "name": "ipython",
    "version": 3
   },
   "file_extension": ".py",
   "mimetype": "text/x-python",
   "name": "python",
   "nbconvert_exporter": "python",
   "pygments_lexer": "ipython3",
   "version": "3.8.0"
  }
 },
 "nbformat": 4,
 "nbformat_minor": 5
}

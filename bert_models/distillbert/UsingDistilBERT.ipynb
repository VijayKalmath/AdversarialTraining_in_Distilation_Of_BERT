{
 "cells": [
  {
   "cell_type": "code",
   "execution_count": 1,
   "id": "becf7eea",
   "metadata": {},
   "outputs": [],
   "source": [
    "%%capture\n",
    "!pip install transformers"
   ]
  },
  {
   "cell_type": "code",
   "execution_count": 2,
   "id": "41954dd9",
   "metadata": {},
   "outputs": [],
   "source": [
    "import numpy as np\n",
    "import pandas as pd\n",
    "\n",
    "\n",
    "\n",
    "from sklearn.model_selection import train_test_split\n",
    "from sklearn.linear_model import LogisticRegression\n",
    "from sklearn.model_selection import GridSearchCV\n",
    "from sklearn.model_selection import cross_val_score\n",
    "\n",
    "import torch\n",
    "import transformers\n",
    "\n",
    "\n",
    "import warnings\n",
    "import time\n",
    "warnings.filterwarnings('ignore')\n",
    "\n"
   ]
  },
  {
   "cell_type": "markdown",
   "id": "92acddaa",
   "metadata": {},
   "source": [
    "### Setting Global Options "
   ]
  },
  {
   "cell_type": "code",
   "execution_count": 3,
   "id": "50dcfe44",
   "metadata": {},
   "outputs": [],
   "source": [
    "sst2_path = '../../data/SST-2'\n",
    "\n",
    "pre_trained_weights_type = 'distilbert-base-uncased'"
   ]
  },
  {
   "cell_type": "code",
   "execution_count": 4,
   "id": "d00230a7",
   "metadata": {},
   "outputs": [],
   "source": [
    "# Read SST-2 Training Data \n",
    "\n",
    "sst2_train = pd.read_csv(sst2_path + '/train.tsv', delimiter='\\t')"
   ]
  },
  {
   "cell_type": "code",
   "execution_count": 5,
   "id": "8507836a",
   "metadata": {},
   "outputs": [
    {
     "data": {
      "text/plain": [
       "(67349, 2)"
      ]
     },
     "execution_count": 5,
     "metadata": {},
     "output_type": "execute_result"
    }
   ],
   "source": [
    "sst2_train.shape"
   ]
  },
  {
   "cell_type": "code",
   "execution_count": 6,
   "id": "8b5044a3",
   "metadata": {
    "scrolled": true
   },
   "outputs": [
    {
     "data": {
      "text/html": [
       "<div>\n",
       "<style scoped>\n",
       "    .dataframe tbody tr th:only-of-type {\n",
       "        vertical-align: middle;\n",
       "    }\n",
       "\n",
       "    .dataframe tbody tr th {\n",
       "        vertical-align: top;\n",
       "    }\n",
       "\n",
       "    .dataframe thead th {\n",
       "        text-align: right;\n",
       "    }\n",
       "</style>\n",
       "<table border=\"1\" class=\"dataframe\">\n",
       "  <thead>\n",
       "    <tr style=\"text-align: right;\">\n",
       "      <th></th>\n",
       "      <th>sentence</th>\n",
       "      <th>label</th>\n",
       "    </tr>\n",
       "  </thead>\n",
       "  <tbody>\n",
       "    <tr>\n",
       "      <th>0</th>\n",
       "      <td>hide new secretions from the parental units</td>\n",
       "      <td>0</td>\n",
       "    </tr>\n",
       "    <tr>\n",
       "      <th>1</th>\n",
       "      <td>contains no wit , only labored gags</td>\n",
       "      <td>0</td>\n",
       "    </tr>\n",
       "    <tr>\n",
       "      <th>2</th>\n",
       "      <td>that loves its characters and communicates som...</td>\n",
       "      <td>1</td>\n",
       "    </tr>\n",
       "    <tr>\n",
       "      <th>3</th>\n",
       "      <td>remains utterly satisfied to remain the same t...</td>\n",
       "      <td>0</td>\n",
       "    </tr>\n",
       "    <tr>\n",
       "      <th>4</th>\n",
       "      <td>on the worst revenge-of-the-nerds clichés the ...</td>\n",
       "      <td>0</td>\n",
       "    </tr>\n",
       "    <tr>\n",
       "      <th>5</th>\n",
       "      <td>that 's far too tragic to merit such superfici...</td>\n",
       "      <td>0</td>\n",
       "    </tr>\n",
       "    <tr>\n",
       "      <th>6</th>\n",
       "      <td>demonstrates that the director of such hollywo...</td>\n",
       "      <td>1</td>\n",
       "    </tr>\n",
       "    <tr>\n",
       "      <th>7</th>\n",
       "      <td>of saucy</td>\n",
       "      <td>1</td>\n",
       "    </tr>\n",
       "    <tr>\n",
       "      <th>8</th>\n",
       "      <td>a depressed fifteen-year-old 's suicidal poetry</td>\n",
       "      <td>0</td>\n",
       "    </tr>\n",
       "    <tr>\n",
       "      <th>9</th>\n",
       "      <td>are more deeply thought through than in most `...</td>\n",
       "      <td>1</td>\n",
       "    </tr>\n",
       "  </tbody>\n",
       "</table>\n",
       "</div>"
      ],
      "text/plain": [
       "                                            sentence  label\n",
       "0       hide new secretions from the parental units       0\n",
       "1               contains no wit , only labored gags       0\n",
       "2  that loves its characters and communicates som...      1\n",
       "3  remains utterly satisfied to remain the same t...      0\n",
       "4  on the worst revenge-of-the-nerds clichés the ...      0\n",
       "5  that 's far too tragic to merit such superfici...      0\n",
       "6  demonstrates that the director of such hollywo...      1\n",
       "7                                          of saucy       1\n",
       "8   a depressed fifteen-year-old 's suicidal poetry       0\n",
       "9  are more deeply thought through than in most `...      1"
      ]
     },
     "execution_count": 6,
     "metadata": {},
     "output_type": "execute_result"
    }
   ],
   "source": [
    "sst2_train.head(10)"
   ]
  },
  {
   "cell_type": "code",
   "execution_count": 7,
   "id": "ab8f937a",
   "metadata": {},
   "outputs": [
    {
     "data": {
      "text/plain": [
       "1    37569\n",
       "0    29780\n",
       "Name: label, dtype: int64"
      ]
     },
     "execution_count": 7,
     "metadata": {},
     "output_type": "execute_result"
    }
   ],
   "source": [
    "# Balance of Binary Classification Data \n",
    "sst2_train['label'].value_counts()"
   ]
  },
  {
   "cell_type": "code",
   "execution_count": null,
   "id": "5fbff733",
   "metadata": {},
   "outputs": [],
   "source": []
  },
  {
   "cell_type": "code",
   "execution_count": null,
   "id": "da457829",
   "metadata": {},
   "outputs": [],
   "source": []
  },
  {
   "cell_type": "markdown",
   "id": "cef53df7",
   "metadata": {},
   "source": [
    "### Import Model Class , tokenizer Class and Pretrained Weights for Fine Tuning "
   ]
  },
  {
   "cell_type": "code",
   "execution_count": 8,
   "id": "b1aeca2f",
   "metadata": {},
   "outputs": [],
   "source": [
    "from transformers import DistilBertModel , DistilBertTokenizer"
   ]
  },
  {
   "cell_type": "code",
   "execution_count": 9,
   "id": "76fdcdc0",
   "metadata": {},
   "outputs": [
    {
     "name": "stderr",
     "output_type": "stream",
     "text": [
      "Some weights of the model checkpoint at distilbert-base-uncased were not used when initializing DistilBertModel: ['vocab_layer_norm.bias', 'vocab_layer_norm.weight', 'vocab_transform.bias', 'vocab_projector.weight', 'vocab_projector.bias', 'vocab_transform.weight']\n",
      "- This IS expected if you are initializing DistilBertModel from the checkpoint of a model trained on another task or with another architecture (e.g. initializing a BertForSequenceClassification model from a BertForPreTraining model).\n",
      "- This IS NOT expected if you are initializing DistilBertModel from the checkpoint of a model that you expect to be exactly identical (initializing a BertForSequenceClassification model from a BertForSequenceClassification model).\n"
     ]
    }
   ],
   "source": [
    "# Setting pre_trained weights \n",
    "\n",
    "pre_trained_weights = pre_trained_weights_type \n",
    "\n",
    "# Call the Model \n",
    "distilbert_model = DistilBertModel.from_pretrained(pre_trained_weights)\n",
    "\n",
    "# Call the Tokenizer \n",
    "\n",
    "distilbert_tokenizer = DistilBertTokenizer.from_pretrained(pre_trained_weights)"
   ]
  },
  {
   "cell_type": "code",
   "execution_count": 10,
   "id": "a7c5486e",
   "metadata": {},
   "outputs": [],
   "source": [
    "# Testing Tokenizer \n",
    "\n",
    "\n",
    "inputs_dict  = distilbert_tokenizer(\"Hello, This is advanced deep learning project  dog is cute\")\n",
    "\n",
    "inputs = distilbert_tokenizer(\"Hello, This is advanced deep learning project  dog is cute\",return_tensors=\"pt\")\n"
   ]
  },
  {
   "cell_type": "code",
   "execution_count": 11,
   "id": "b7acad9d",
   "metadata": {},
   "outputs": [
    {
     "data": {
      "text/plain": [
       "'[CLS] hello, this is advanced deep learning project dog is cute [SEP]'"
      ]
     },
     "execution_count": 11,
     "metadata": {},
     "output_type": "execute_result"
    }
   ],
   "source": [
    "# Testing Tokenizer Decoder \n",
    "\n",
    "distilbert_tokenizer.decode(inputs_dict['input_ids'])\n",
    "\n",
    "\n",
    "# [CLS] and [SEP] token automatically by the tokenizer."
   ]
  },
  {
   "cell_type": "code",
   "execution_count": 12,
   "id": "7df862eb",
   "metadata": {},
   "outputs": [
    {
     "data": {
      "text/plain": [
       "BaseModelOutput(last_hidden_state=tensor([[[-0.2510, -0.2709, -0.1863,  ..., -0.1781,  0.5094,  0.4488],\n",
       "         [-0.0467, -0.0613,  0.1825,  ..., -0.1007,  0.6694,  0.1631],\n",
       "         [-0.6046,  0.3725,  0.0982,  ..., -0.6424,  0.3384,  0.3223],\n",
       "         ...,\n",
       "         [-0.4128, -0.1646, -0.0258,  ..., -0.2339,  0.3324,  0.6773],\n",
       "         [-0.6143, -0.2866, -0.0437,  ...,  0.0671,  0.2521, -0.0413],\n",
       "         [ 0.8033,  0.1470, -0.5313,  ...,  0.0929, -0.3844, -0.2817]]],\n",
       "       grad_fn=<NativeLayerNormBackward0>), hidden_states=None, attentions=None)"
      ]
     },
     "execution_count": 12,
     "metadata": {},
     "output_type": "execute_result"
    }
   ],
   "source": [
    "# Testing  Model output \n",
    "\n",
    "output = distilbert_model(**inputs)\n",
    "\n",
    "output"
   ]
  },
  {
   "attachments": {
    "image.png": {
     "image/png": "[encoded data removed]"
    }
   },
   "cell_type": "markdown",
   "id": "c91f734e",
   "metadata": {},
   "source": [
    "![image.png](attachment:image.png)"
   ]
  },
  {
   "cell_type": "code",
   "execution_count": 13,
   "id": "7e4ced2a",
   "metadata": {},
   "outputs": [
    {
     "data": {
      "text/plain": [
       "tensor([[[-0.2510, -0.2709, -0.1863,  ..., -0.1781,  0.5094,  0.4488],\n",
       "         [-0.0467, -0.0613,  0.1825,  ..., -0.1007,  0.6694,  0.1631],\n",
       "         [-0.6046,  0.3725,  0.0982,  ..., -0.6424,  0.3384,  0.3223],\n",
       "         ...,\n",
       "         [-0.4128, -0.1646, -0.0258,  ..., -0.2339,  0.3324,  0.6773],\n",
       "         [-0.6143, -0.2866, -0.0437,  ...,  0.0671,  0.2521, -0.0413],\n",
       "         [ 0.8033,  0.1470, -0.5313,  ...,  0.0929, -0.3844, -0.2817]]],\n",
       "       grad_fn=<NativeLayerNormBackward0>)"
      ]
     },
     "execution_count": 13,
     "metadata": {},
     "output_type": "execute_result"
    }
   ],
   "source": [
    "output.last_hidden_state "
   ]
  },
  {
   "cell_type": "code",
   "execution_count": null,
   "id": "f0e13d06",
   "metadata": {},
   "outputs": [],
   "source": []
  },
  {
   "cell_type": "code",
   "execution_count": null,
   "id": "6eae6849",
   "metadata": {},
   "outputs": [],
   "source": []
  },
  {
   "cell_type": "code",
   "execution_count": null,
   "id": "c96a0e12",
   "metadata": {},
   "outputs": [],
   "source": []
  },
  {
   "cell_type": "markdown",
   "id": "5dddcdf9",
   "metadata": {},
   "source": [
    "### Let us prepare the dataset"
   ]
  },
  {
   "cell_type": "code",
   "execution_count": 14,
   "id": "155e41da",
   "metadata": {},
   "outputs": [],
   "source": [
    "# Apply tokenizer of all the Reviews \n",
    "sst2_train = sst2_train[:10000]\n",
    "\n",
    "\n",
    "sst2_train_tokenized = sst2_train['sentence'].apply(lambda x : distilbert_tokenizer.encode(x, add_special_tokens=True))"
   ]
  },
  {
   "cell_type": "code",
   "execution_count": 15,
   "id": "c02e7aba",
   "metadata": {},
   "outputs": [
    {
     "data": {
      "text/plain": [
       "(10000,)"
      ]
     },
     "execution_count": 15,
     "metadata": {},
     "output_type": "execute_result"
    }
   ],
   "source": [
    "sst2_train_tokenized.shape"
   ]
  },
  {
   "cell_type": "code",
   "execution_count": 16,
   "id": "ae0ce06c",
   "metadata": {},
   "outputs": [],
   "source": [
    "sst2_train_max_tokensize = np.max(sst2_train_tokenized.apply(lambda x : len(x)))"
   ]
  },
  {
   "cell_type": "code",
   "execution_count": 17,
   "id": "f561648b",
   "metadata": {},
   "outputs": [
    {
     "data": {
      "text/plain": [
       "63"
      ]
     },
     "execution_count": 17,
     "metadata": {},
     "output_type": "execute_result"
    }
   ],
   "source": [
    "sst2_train_max_tokensize"
   ]
  },
  {
   "cell_type": "code",
   "execution_count": 18,
   "id": "2d2cfb92",
   "metadata": {},
   "outputs": [],
   "source": [
    "sst2_train_tokenized_padded = np.array([i + [0]*(sst2_train_max_tokensize-len(i)) for i in sst2_train_tokenized.values])"
   ]
  },
  {
   "cell_type": "code",
   "execution_count": 19,
   "id": "463a6e2c",
   "metadata": {},
   "outputs": [
    {
     "data": {
      "text/plain": [
       "(10000, 63)"
      ]
     },
     "execution_count": 19,
     "metadata": {},
     "output_type": "execute_result"
    }
   ],
   "source": [
    "sst2_train_tokenized_padded.shape"
   ]
  },
  {
   "cell_type": "code",
   "execution_count": 20,
   "id": "affcc786",
   "metadata": {},
   "outputs": [
    {
     "data": {
      "text/plain": [
       "(10000, 63)"
      ]
     },
     "execution_count": 20,
     "metadata": {},
     "output_type": "execute_result"
    }
   ],
   "source": [
    "attention_mask = np.where(sst2_train_tokenized_padded != 0, 1, 0)\n",
    "attention_mask.shape"
   ]
  },
  {
   "cell_type": "code",
   "execution_count": 21,
   "id": "aee10a42",
   "metadata": {},
   "outputs": [],
   "source": [
    "sst2_train_model_inputs  = torch.tensor(sst2_train_tokenized_padded)  \n",
    "\n",
    "sst2_train_model_attentionmask = torch.tensor(attention_mask)\n",
    "\n",
    "with torch.no_grad():\n",
    "        last_hidden_states = distilbert_model(sst2_train_model_inputs, \n",
    "                                                  attention_mask=sst2_train_model_attentionmask)\n",
    "    "
   ]
  },
  {
   "cell_type": "code",
   "execution_count": 22,
   "id": "e425907e",
   "metadata": {},
   "outputs": [
    {
     "data": {
      "text/plain": [
       "torch.Size([10000, 63, 768])"
      ]
     },
     "execution_count": 22,
     "metadata": {},
     "output_type": "execute_result"
    }
   ],
   "source": [
    "last_hidden_states[0].shape"
   ]
  },
  {
   "cell_type": "code",
   "execution_count": 23,
   "id": "f15994d7",
   "metadata": {},
   "outputs": [],
   "source": [
    "features = last_hidden_states[0][:,0,:].numpy()"
   ]
  },
  {
   "cell_type": "code",
   "execution_count": 24,
   "id": "0e03eaae",
   "metadata": {},
   "outputs": [],
   "source": [
    "labels = sst2_train['label']"
   ]
  },
  {
   "cell_type": "code",
   "execution_count": 25,
   "id": "323d38fe",
   "metadata": {},
   "outputs": [],
   "source": [
    "train_features, test_features, train_labels, test_labels = train_test_split(features, labels)\n"
   ]
  },
  {
   "cell_type": "code",
   "execution_count": 26,
   "id": "e25b0539",
   "metadata": {},
   "outputs": [
    {
     "data": {
      "text/plain": [
       "LogisticRegression()"
      ]
     },
     "execution_count": 26,
     "metadata": {},
     "output_type": "execute_result"
    }
   ],
   "source": [
    "lr_clf = LogisticRegression()\n",
    "lr_clf.fit(train_features, train_labels)"
   ]
  },
  {
   "cell_type": "code",
   "execution_count": 27,
   "id": "918461b2",
   "metadata": {},
   "outputs": [
    {
     "data": {
      "text/plain": [
       "0.8576"
      ]
     },
     "execution_count": 27,
     "metadata": {},
     "output_type": "execute_result"
    }
   ],
   "source": [
    "lr_clf.score(test_features, test_labels)\n"
   ]
  },
  {
   "cell_type": "code",
   "execution_count": null,
   "id": "f7fa3db0",
   "metadata": {},
   "outputs": [],
   "source": []
  }
 ],
 "metadata": {
  "kernelspec": {
   "display_name": "Python 3 (ipykernel)",
   "language": "python",
   "name": "python3"
  },
  "language_info": {
   "codemirror_mode": {
    "name": "ipython",
    "version": 3
   },
   "file_extension": ".py",
   "mimetype": "text/x-python",
   "name": "python",
   "nbconvert_exporter": "python",
   "pygments_lexer": "ipython3",
   "version": "3.8.0"
  }
 },
 "nbformat": 4,
 "nbformat_minor": 5
}

{
 "cells": [
  {
   "cell_type": "code",
   "execution_count": 1,
   "id": "1334e6ca",
   "metadata": {},
   "outputs": [],
   "source": [
    "%load_ext autoreload\n",
    "%autoreload 2"
   ]
  },
  {
   "cell_type": "code",
   "execution_count": 2,
   "id": "c9c6ec09",
   "metadata": {
    "scrolled": false
   },
   "outputs": [
    {
     "name": "stderr",
     "output_type": "stream",
     "text": [
      "2022-05-04 05:42:39.349456: W tensorflow/stream_executor/platform/default/dso_loader.cc:59] Could not load dynamic library 'libcudart.so.10.1'; dlerror: libcudart.so.10.1: cannot open shared object file: No such file or directory; LD_LIBRARY_PATH: /usr/local/cuda-11.0/lib64\n",
      "2022-05-04 05:42:39.349500: I tensorflow/stream_executor/cuda/cudart_stub.cc:29] Ignore above cudart dlerror if you do not have a GPU set up on your machine.\n"
     ]
    }
   ],
   "source": [
    "from adversarial_attack import *\n",
    "\n",
    "from textattack.attack_recipes import TextFoolerJin2019"
   ]
  },
  {
   "cell_type": "code",
   "execution_count": 3,
   "id": "5fa900eb",
   "metadata": {},
   "outputs": [
    {
     "name": "stderr",
     "output_type": "stream",
     "text": [
      "Some weights of the model checkpoint at bert-base-cased were not used when initializing BertModel: ['cls.predictions.bias', 'cls.predictions.decoder.weight', 'cls.seq_relationship.bias', 'cls.predictions.transform.LayerNorm.bias', 'cls.predictions.transform.dense.bias', 'cls.predictions.transform.dense.weight', 'cls.predictions.transform.LayerNorm.weight', 'cls.seq_relationship.weight']\n",
      "- This IS expected if you are initializing BertModel from the checkpoint of a model trained on another task or with another architecture (e.g. initializing a BertForSequenceClassification model from a BertForPreTraining model).\n",
      "- This IS NOT expected if you are initializing BertModel from the checkpoint of a model that you expect to be exactly identical (initializing a BertForSequenceClassification model from a BertForSequenceClassification model).\n"
     ]
    },
    {
     "name": "stdout",
     "output_type": "stream",
     "text": [
      "type of transformer:  <class 'transformers.models.bert.modeling_bert.BertModel'>\n",
      "hiddensize is:  768\n",
      "hidden_sizes[i] and [i+1] is 768 and 768\n",
      "type of discriminator:  <class 'ganbert_models.Discriminator'>\n",
      "There are 1 GPU(s) available.\n",
      "We will use the GPU: Tesla K80\n",
      "\n",
      "\n",
      "\n"
     ]
    }
   ],
   "source": [
    "model_wrapper = BertModelWrapper(model_path='gan_bert_fine_tuned_6652.pt')"
   ]
  },
  {
   "cell_type": "code",
   "execution_count": 4,
   "id": "f75728e6",
   "metadata": {},
   "outputs": [
    {
     "name": "stderr",
     "output_type": "stream",
     "text": [
      "textattack: Unknown if model of class <class 'adversarial_attack.InferenceGANBert'> compatible with goal function <class 'textattack.goal_functions.classification.untargeted_classification.UntargetedClassification'>.\n"
     ]
    }
   ],
   "source": [
    "# Create the recipe\n",
    "recipe = TextFoolerJin2019.build(model_wrapper)"
   ]
  },
  {
   "cell_type": "code",
   "execution_count": 5,
   "id": "498e3535",
   "metadata": {
    "scrolled": false
   },
   "outputs": [
    {
     "name": "stderr",
     "output_type": "stream",
     "text": [
      "Using custom data configuration default\n",
      "Reusing dataset sst2 (/home/ecbm4040/.cache/huggingface/datasets/sst2/default/0.0.0/90167692658fa4abca2ffa3ede1a43a71e2bf671078c5c275c64c4231d5a62fa)\n",
      "textattack: Loading \u001b[94mdatasets\u001b[0m dataset \u001b[94mgpt3mix/sst2\u001b[0m, split \u001b[94mtest\u001b[0m.\n"
     ]
    }
   ],
   "source": [
    "dataset = HuggingFaceDataset(\"gpt3mix/sst2\", split=\"test\")"
   ]
  },
  {
   "cell_type": "code",
   "execution_count": 6,
   "id": "f7db3f08",
   "metadata": {},
   "outputs": [],
   "source": [
    "attacker = Attacker(recipe, dataset,AttackArgs(num_examples =5,parallel  = True , log_to_csv = \"Ganbert_Attack.csv\" , enable_advance_metrics  = True))\n"
   ]
  },
  {
   "cell_type": "code",
   "execution_count": null,
   "id": "e3bd9f11",
   "metadata": {},
   "outputs": [],
   "source": []
  },
  {
   "cell_type": "code",
   "execution_count": 7,
   "id": "88f9d891",
   "metadata": {
    "scrolled": false
   },
   "outputs": [
    {
     "name": "stderr",
     "output_type": "stream",
     "text": [
      "textattack: Logging to CSV at path Ganbert_Attack.csv\n",
      "textattack: Running 1 worker(s) on 1 GPU(s).\n",
      "2022-05-04 05:43:32.076063: W tensorflow/stream_executor/platform/default/dso_loader.cc:59] Could not load dynamic library 'libcudart.so.10.1'; dlerror: libcudart.so.10.1: cannot open shared object file: No such file or directory; LD_LIBRARY_PATH: /home/ecbm4040/climate_change/lib/python3.8/site-packages/cv2/../../lib64:/usr/local/cuda-11.0/lib64\n",
      "2022-05-04 05:43:32.076123: I tensorflow/stream_executor/cuda/cudart_stub.cc:29] Ignore above cudart dlerror if you do not have a GPU set up on your machine.\n",
      "textattack: Worklist size: 5\n",
      "textattack: Worklist candidate size: 1816\n",
      "  0%|                                                     | 0/5 [00:00<?, ?it/s]2022-05-04 05:43:48.135875: I tensorflow/stream_executor/platform/default/dso_loader.cc:48] Successfully opened dynamic library libcuda.so.1\n",
      "2022-05-04 05:43:48.136087: I tensorflow/stream_executor/cuda/cuda_gpu_executor.cc:982] successful NUMA node read from SysFS had negative value (-1), but there must be at least one NUMA node, so returning NUMA node zero\n",
      "2022-05-04 05:43:48.136790: I tensorflow/core/common_runtime/gpu/gpu_device.cc:1716] Found device 0 with properties: \n",
      "pciBusID: 0000:00:04.0 name: Tesla K80 computeCapability: 3.7\n",
      "coreClock: 0.8235GHz coreCount: 13 deviceMemorySize: 11.17GiB deviceMemoryBandwidth: 223.96GiB/s\n",
      "2022-05-04 05:43:48.137080: W tensorflow/stream_executor/platform/default/dso_loader.cc:59] Could not load dynamic library 'libcudart.so.10.1'; dlerror: libcudart.so.10.1: cannot open shared object file: No such file or directory; LD_LIBRARY_PATH: /home/ecbm4040/climate_change/lib/python3.8/site-packages/cv2/../../lib64:/home/ecbm4040/climate_change/lib/python3.8/site-packages/cv2/../../lib64:/usr/local/cuda-11.0/lib64\n",
      "2022-05-04 05:43:48.137204: W tensorflow/stream_executor/platform/default/dso_loader.cc:59] Could not load dynamic library 'libcublas.so.10'; dlerror: libcublas.so.10: cannot open shared object file: No such file or directory; LD_LIBRARY_PATH: /home/ecbm4040/climate_change/lib/python3.8/site-packages/cv2/../../lib64:/home/ecbm4040/climate_change/lib/python3.8/site-packages/cv2/../../lib64:/usr/local/cuda-11.0/lib64\n",
      "2022-05-04 05:43:48.139463: I tensorflow/stream_executor/platform/default/dso_loader.cc:48] Successfully opened dynamic library libcufft.so.10\n",
      "2022-05-04 05:43:48.139895: I tensorflow/stream_executor/platform/default/dso_loader.cc:48] Successfully opened dynamic library libcurand.so.10\n",
      "2022-05-04 05:43:48.143413: I tensorflow/stream_executor/platform/default/dso_loader.cc:48] Successfully opened dynamic library libcusolver.so.10\n",
      "2022-05-04 05:43:48.143552: W tensorflow/stream_executor/platform/default/dso_loader.cc:59] Could not load dynamic library 'libcusparse.so.10'; dlerror: libcusparse.so.10: cannot open shared object file: No such file or directory; LD_LIBRARY_PATH: /home/ecbm4040/climate_change/lib/python3.8/site-packages/cv2/../../lib64:/home/ecbm4040/climate_change/lib/python3.8/site-packages/cv2/../../lib64:/usr/local/cuda-11.0/lib64\n",
      "2022-05-04 05:43:48.143687: W tensorflow/stream_executor/platform/default/dso_loader.cc:59] Could not load dynamic library 'libcudnn.so.7'; dlerror: libcudnn.so.7: cannot open shared object file: No such file or directory; LD_LIBRARY_PATH: /home/ecbm4040/climate_change/lib/python3.8/site-packages/cv2/../../lib64:/home/ecbm4040/climate_change/lib/python3.8/site-packages/cv2/../../lib64:/usr/local/cuda-11.0/lib64\n",
      "2022-05-04 05:43:48.143710: W tensorflow/core/common_runtime/gpu/gpu_device.cc:1753] Cannot dlopen some GPU libraries. Please make sure the missing libraries mentioned above are installed properly if you would like to use GPU. Follow the guide at https://www.tensorflow.org/install/gpu for how to download and setup the required libraries for your platform.\n",
      "Skipping registering GPU devices...\n",
      "Using /tmp/tfhub_modules to cache modules.\n",
      "2022-05-04 05:43:50.891917: I tensorflow/core/platform/cpu_feature_guard.cc:142] This TensorFlow binary is optimized with oneAPI Deep Neural Network Library (oneDNN)to use the following CPU instructions in performance-critical operations:  AVX2 FMA\n",
      "To enable them in other operations, rebuild TensorFlow with the appropriate compiler flags.\n",
      "2022-05-04 05:43:50.899063: I tensorflow/core/platform/profile_utils/cpu_utils.cc:104] CPU Frequency: 2300000000 Hz\n",
      "2022-05-04 05:43:50.899593: I tensorflow/compiler/xla/service/service.cc:168] XLA service 0x7f5c3bd0 initialized for platform Host (this does not guarantee that XLA will be used). Devices:\n",
      "2022-05-04 05:43:50.899617: I tensorflow/compiler/xla/service/service.cc:176]   StreamExecutor device (0): Host, Default Version\n",
      "2022-05-04 05:43:50.900999: I tensorflow/core/common_runtime/gpu/gpu_device.cc:1257] Device interconnect StreamExecutor with strength 1 edge matrix:\n",
      "2022-05-04 05:43:50.901042: I tensorflow/core/common_runtime/gpu/gpu_device.cc:1263]      \n",
      "[Succeeded / Failed / Skipped / Total] 1 / 0 / 0 / 1:  20%|▏| 1/5 [00:09<00:38, "
     ]
    },
    {
     "name": "stdout",
     "output_type": "stream",
     "text": [
      "--------------------------------------------- Result 1 ---------------------------------------------\n",
      "[[Positive (75%)]] --> [[Negative (49%)]]\n",
      "\n",
      "[[If]] you [[sometimes]] like to go to the movies to have fun , Wasabi is a good place to [[start]] .\n",
      "\n",
      "[[Albeit]] you [[popularly]] like to go to the movies to have fun , Wasabi is a good place to [[inaugurated]] .\n"
     ]
    },
    {
     "name": "stderr",
     "output_type": "stream",
     "text": [
      "[Succeeded / Failed / Skipped / Total] 2 / 0 / 0 / 2:  40%|▍| 2/5 [00:11<00:17, "
     ]
    },
    {
     "name": "stdout",
     "output_type": "stream",
     "text": [
      "--------------------------------------------- Result 2 ---------------------------------------------\n",
      "[[Positive (73%)]] --> [[Negative (54%)]]\n",
      "\n",
      "[[Emerges]] as something [[rare]] , an [[issue]] movie that 's [[so]] honest and [[keenly]] observed that it does n't [[feel]] like one .\n",
      "\n",
      "[[Unfolds]] as something [[sparse]] , an [[issues]] movie that 's [[why]] honest and [[critically]] observed that it does n't [[thinks]] like one .\n"
     ]
    },
    {
     "name": "stderr",
     "output_type": "stream",
     "text": [
      "[Succeeded / Failed / Skipped / Total] 3 / 0 / 0 / 3:  60%|▌| 3/5 [00:12<00:08, "
     ]
    },
    {
     "name": "stdout",
     "output_type": "stream",
     "text": [
      "--------------------------------------------- Result 3 ---------------------------------------------\n",
      "[[Positive (78%)]] --> [[Negative (52%)]]\n",
      "\n",
      "[[Offers]] that [[rare]] combination of entertainment and education .\n",
      "\n",
      "[[Provision]] that [[scarce]] combination of entertainment and education .\n"
     ]
    },
    {
     "name": "stderr",
     "output_type": "stream",
     "text": [
      "[Succeeded / Failed / Skipped / Total] 4 / 0 / 0 / 4:  80%|▊| 4/5 [00:14<00:03, "
     ]
    },
    {
     "name": "stdout",
     "output_type": "stream",
     "text": [
      "--------------------------------------------- Result 4 ---------------------------------------------\n",
      "[[Positive (92%)]] --> [[Negative (49%)]]\n",
      "\n",
      "[[Perhaps]] no [[picture]] ever [[made]] [[has]] more [[literally]] showed that the [[road]] to [[hell]] is [[paved]] with [[good]] [[intentions]] .\n",
      "\n",
      "[[Eventually]] no [[photographed]] ever [[lodged]] [[gets]] more [[basically]] showed that the [[path]] to [[hellfire]] is [[emerged]] with [[alright]] [[motive]] .\n"
     ]
    },
    {
     "name": "stderr",
     "output_type": "stream",
     "text": [
      "[Succeeded / Failed / Skipped / Total] 5 / 0 / 0 / 5: 100%|█| 5/5 [00:16<00:00, "
     ]
    },
    {
     "name": "stdout",
     "output_type": "stream",
     "text": [
      "--------------------------------------------- Result 5 ---------------------------------------------\n",
      "[[Positive (81%)]] --> [[Negative (51%)]]\n",
      "\n",
      "Steers turns in a [[snappy]] screenplay that [[curls]] at the [[edges]] ; it 's [[so]] clever you [[want]] to hate it .\n",
      "\n",
      "Steers turns in a [[pithy]] screenplay that [[buckles]] at the [[frontiers]] ; it 's [[thereafter]] clever you [[would]] to hate it .\n",
      "Attack(\n",
      "  (search_method): GreedyWordSwapWIR(\n",
      "    (wir_method):  delete\n",
      "  )\n",
      "  (goal_function):  UntargetedClassification\n",
      "  (transformation):  WordSwapEmbedding(\n",
      "    (max_candidates):  50\n",
      "    (embedding):  WordEmbedding\n",
      "  )\n",
      "  (constraints): \n",
      "    (0): WordEmbeddingDistance(\n",
      "        (embedding):  WordEmbedding\n",
      "        (min_cos_sim):  0.5\n",
      "        (cased):  False\n",
      "        (include_unknown_words):  True\n",
      "        (compare_against_original):  True\n",
      "      )\n",
      "    (1): PartOfSpeech(\n",
      "        (tagger_type):  nltk\n",
      "        (tagset):  universal\n",
      "        (allow_verb_noun_swap):  True\n",
      "        (compare_against_original):  True\n",
      "      )\n",
      "    (2): UniversalSentenceEncoder(\n",
      "        (metric):  angular\n",
      "        (threshold):  0.840845057\n",
      "        (window_size):  15\n",
      "        (skip_text_shorter_than_window):  True\n",
      "        (compare_against_original):  False\n",
      "      )\n",
      "    (3): RepeatModification\n",
      "    (4): StopwordModification\n",
      "    (5): InputColumnModification(\n",
      "        (matching_column_labels):  ['premise', 'hypothesis']\n",
      "        (columns_to_ignore):  {'premise'}\n",
      "      )\n",
      "  (is_black_box):  True\n",
      ") \n",
      "\n"
     ]
    },
    {
     "name": "stderr",
     "output_type": "stream",
     "text": [
      "[Succeeded / Failed / Skipped / Total] 5 / 0 / 0 / 5: 100%|█| 5/5 [00:17<00:00, \n"
     ]
    },
    {
     "name": "stdout",
     "output_type": "stream",
     "text": [
      "\n"
     ]
    },
    {
     "data": {
      "application/vnd.jupyter.widget-view+json": {
       "model_id": "1eac4229b0644158bcc91d73ccd8b5b6",
       "version_major": 2,
       "version_minor": 0
      },
      "text/plain": [
       "HBox(children=(FloatProgress(value=0.0, description='Downloading', max=665.0, style=ProgressStyle(description_…"
      ]
     },
     "metadata": {},
     "output_type": "display_data"
    },
    {
     "name": "stdout",
     "output_type": "stream",
     "text": [
      "\n"
     ]
    },
    {
     "data": {
      "application/vnd.jupyter.widget-view+json": {
       "model_id": "743948e26d1a4c56b2ef9c0635844845",
       "version_major": 2,
       "version_minor": 0
      },
      "text/plain": [
       "HBox(children=(FloatProgress(value=0.0, description='Downloading', max=548118077.0, style=ProgressStyle(descri…"
      ]
     },
     "metadata": {},
     "output_type": "display_data"
    },
    {
     "name": "stdout",
     "output_type": "stream",
     "text": [
      "\n"
     ]
    },
    {
     "data": {
      "application/vnd.jupyter.widget-view+json": {
       "model_id": "fc3f24485c7043059ba66c3a137effd8",
       "version_major": 2,
       "version_minor": 0
      },
      "text/plain": [
       "HBox(children=(FloatProgress(value=0.0, description='Downloading', max=1042301.0, style=ProgressStyle(descript…"
      ]
     },
     "metadata": {},
     "output_type": "display_data"
    },
    {
     "name": "stdout",
     "output_type": "stream",
     "text": [
      "\n"
     ]
    },
    {
     "data": {
      "application/vnd.jupyter.widget-view+json": {
       "model_id": "e028339a09da44249f6d9df6589eb090",
       "version_major": 2,
       "version_minor": 0
      },
      "text/plain": [
       "HBox(children=(FloatProgress(value=0.0, description='Downloading', max=456318.0, style=ProgressStyle(descripti…"
      ]
     },
     "metadata": {},
     "output_type": "display_data"
    },
    {
     "name": "stdout",
     "output_type": "stream",
     "text": [
      "\n"
     ]
    },
    {
     "data": {
      "application/vnd.jupyter.widget-view+json": {
       "model_id": "69a65ba84f98489ea6381ba920b75602",
       "version_major": 2,
       "version_minor": 0
      },
      "text/plain": [
       "HBox(children=(FloatProgress(value=0.0, description='Downloading', max=1355256.0, style=ProgressStyle(descript…"
      ]
     },
     "metadata": {},
     "output_type": "display_data"
    },
    {
     "name": "stdout",
     "output_type": "stream",
     "text": [
      "\n"
     ]
    },
    {
     "name": "stderr",
     "output_type": "stream",
     "text": [
      "Using /tmp/tfhub_modules to cache modules.\n",
      "2022-05-04 05:44:19.023610: I tensorflow/stream_executor/platform/default/dso_loader.cc:48] Successfully opened dynamic library libcuda.so.1\n",
      "2022-05-04 05:44:19.023873: I tensorflow/stream_executor/cuda/cuda_gpu_executor.cc:982] successful NUMA node read from SysFS had negative value (-1), but there must be at least one NUMA node, so returning NUMA node zero\n",
      "2022-05-04 05:44:19.024560: I tensorflow/core/common_runtime/gpu/gpu_device.cc:1716] Found device 0 with properties: \n",
      "pciBusID: 0000:00:04.0 name: Tesla K80 computeCapability: 3.7\n",
      "coreClock: 0.8235GHz coreCount: 13 deviceMemorySize: 11.17GiB deviceMemoryBandwidth: 223.96GiB/s\n",
      "2022-05-04 05:44:19.024760: W tensorflow/stream_executor/platform/default/dso_loader.cc:59] Could not load dynamic library 'libcudart.so.10.1'; dlerror: libcudart.so.10.1: cannot open shared object file: No such file or directory; LD_LIBRARY_PATH: /home/ecbm4040/climate_change/lib/python3.8/site-packages/cv2/../../lib64:/usr/local/cuda-11.0/lib64\n",
      "2022-05-04 05:44:19.024908: W tensorflow/stream_executor/platform/default/dso_loader.cc:59] Could not load dynamic library 'libcublas.so.10'; dlerror: libcublas.so.10: cannot open shared object file: No such file or directory; LD_LIBRARY_PATH: /home/ecbm4040/climate_change/lib/python3.8/site-packages/cv2/../../lib64:/usr/local/cuda-11.0/lib64\n",
      "2022-05-04 05:44:19.026251: I tensorflow/stream_executor/platform/default/dso_loader.cc:48] Successfully opened dynamic library libcufft.so.10\n",
      "2022-05-04 05:44:19.026562: I tensorflow/stream_executor/platform/default/dso_loader.cc:48] Successfully opened dynamic library libcurand.so.10\n",
      "2022-05-04 05:44:19.029501: I tensorflow/stream_executor/platform/default/dso_loader.cc:48] Successfully opened dynamic library libcusolver.so.10\n",
      "2022-05-04 05:44:19.029647: W tensorflow/stream_executor/platform/default/dso_loader.cc:59] Could not load dynamic library 'libcusparse.so.10'; dlerror: libcusparse.so.10: cannot open shared object file: No such file or directory; LD_LIBRARY_PATH: /home/ecbm4040/climate_change/lib/python3.8/site-packages/cv2/../../lib64:/usr/local/cuda-11.0/lib64\n",
      "2022-05-04 05:44:19.029762: W tensorflow/stream_executor/platform/default/dso_loader.cc:59] Could not load dynamic library 'libcudnn.so.7'; dlerror: libcudnn.so.7: cannot open shared object file: No such file or directory; LD_LIBRARY_PATH: /home/ecbm4040/climate_change/lib/python3.8/site-packages/cv2/../../lib64:/usr/local/cuda-11.0/lib64\n",
      "2022-05-04 05:44:19.029774: W tensorflow/core/common_runtime/gpu/gpu_device.cc:1753] Cannot dlopen some GPU libraries. Please make sure the missing libraries mentioned above are installed properly if you would like to use GPU. Follow the guide at https://www.tensorflow.org/install/gpu for how to download and setup the required libraries for your platform.\n",
      "Skipping registering GPU devices...\n",
      "2022-05-04 05:44:19.030138: I tensorflow/core/platform/cpu_feature_guard.cc:142] This TensorFlow binary is optimized with oneAPI Deep Neural Network Library (oneDNN)to use the following CPU instructions in performance-critical operations:  AVX2 FMA\n",
      "To enable them in other operations, rebuild TensorFlow with the appropriate compiler flags.\n",
      "2022-05-04 05:44:19.037517: I tensorflow/core/platform/profile_utils/cpu_utils.cc:104] CPU Frequency: 2300000000 Hz\n",
      "2022-05-04 05:44:19.038080: I tensorflow/compiler/xla/service/service.cc:168] XLA service 0x6aca9c70 initialized for platform Host (this does not guarantee that XLA will be used). Devices:\n",
      "2022-05-04 05:44:19.038101: I tensorflow/compiler/xla/service/service.cc:176]   StreamExecutor device (0): Host, Default Version\n",
      "2022-05-04 05:44:19.039406: I tensorflow/core/common_runtime/gpu/gpu_device.cc:1257] Device interconnect StreamExecutor with strength 1 edge matrix:\n",
      "2022-05-04 05:44:19.039424: I tensorflow/core/common_runtime/gpu/gpu_device.cc:1263]      \n"
     ]
    },
    {
     "name": "stdout",
     "output_type": "stream",
     "text": [
      "+-------------------------------+--------+\n",
      "| Attack Results                |        |\n",
      "+-------------------------------+--------+\n",
      "| Number of successful attacks: | 5      |\n",
      "| Number of failed attacks:     | 0      |\n",
      "| Number of skipped attacks:    | 0      |\n",
      "| Original accuracy:            | 100.0% |\n",
      "| Accuracy under attack:        | 0.0%   |\n",
      "| Attack success rate:          | 100.0% |\n",
      "| Average perturbed word %:     | 29.4%  |\n",
      "| Average num. words per input: | 17.4   |\n",
      "| Avg num queries:              | 160.4  |\n",
      "| Average Original Perplexity:  | 88.91  |\n",
      "| Average Attack Perplexity:    | 480.64 |\n",
      "| Average Attack USE Score:     | 0.77   |\n",
      "+-------------------------------+--------+\n"
     ]
    }
   ],
   "source": [
    "results = attacker.attack_dataset()"
   ]
  },
  {
   "cell_type": "code",
   "execution_count": null,
   "id": "7b1ddc17",
   "metadata": {},
   "outputs": [],
   "source": []
  }
 ],
 "metadata": {
  "kernelspec": {
   "display_name": "Python 3 (ipykernel)",
   "language": "python",
   "name": "python3"
  },
  "language_info": {
   "codemirror_mode": {
    "name": "ipython",
    "version": 3
   },
   "file_extension": ".py",
   "mimetype": "text/x-python",
   "name": "python",
   "nbconvert_exporter": "python",
   "pygments_lexer": "ipython3",
   "version": "3.8.0"
  }
 },
 "nbformat": 4,
 "nbformat_minor": 5
}

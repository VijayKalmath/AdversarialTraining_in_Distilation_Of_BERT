{
 "cells": [
  {
   "cell_type": "code",
   "execution_count": 1,
   "id": "42fa87c0",
   "metadata": {},
   "outputs": [
    {
     "name": "stderr",
     "output_type": "stream",
     "text": [
      "2022-05-03 19:46:37.707661: W tensorflow/stream_executor/platform/default/dso_loader.cc:59] Could not load dynamic library 'libcudart.so.10.1'; dlerror: libcudart.so.10.1: cannot open shared object file: No such file or directory; LD_LIBRARY_PATH: /usr/local/cuda-11.0/lib64\n",
      "2022-05-03 19:46:37.707706: I tensorflow/stream_executor/cuda/cudart_stub.cc:29] Ignore above cudart dlerror if you do not have a GPU set up on your machine.\n"
     ]
    }
   ],
   "source": [
    "from textattack.datasets import HuggingFaceDataset"
   ]
  },
  {
   "cell_type": "code",
   "execution_count": 3,
   "id": "6ac4579b",
   "metadata": {},
   "outputs": [
    {
     "name": "stderr",
     "output_type": "stream",
     "text": [
      "Using custom data configuration SetFit___sst2-bd20bada2d6a1bbd\n"
     ]
    },
    {
     "name": "stdout",
     "output_type": "stream",
     "text": [
      "Downloading and preparing dataset json/SetFit___sst2 to /home/ecbm4040/.cache/huggingface/datasets/json/SetFit___sst2-bd20bada2d6a1bbd/0.0.0/c2d554c3377ea79c7664b93dc65d0803b45e3279000f993c7bfd18937fd7f426...\n"
     ]
    },
    {
     "data": {
      "application/vnd.jupyter.widget-view+json": {
       "model_id": "e5c0fabdfa0a4fdfa2ac2873626e5fb7",
       "version_major": 2,
       "version_minor": 0
      },
      "text/plain": [
       "  0%|          | 0/1 [00:00<?, ?it/s]"
      ]
     },
     "metadata": {},
     "output_type": "display_data"
    },
    {
     "data": {
      "application/vnd.jupyter.widget-view+json": {
       "model_id": "99a8f0b543b7412cb5608eaa7a612d4b",
       "version_major": 2,
       "version_minor": 0
      },
      "text/plain": [
       "Downloading:   0%|          | 0.00/136k [00:00<?, ?B/s]"
      ]
     },
     "metadata": {},
     "output_type": "display_data"
    },
    {
     "data": {
      "application/vnd.jupyter.widget-view+json": {
       "model_id": "640c5084f617475382db3ed035663eb0",
       "version_major": 2,
       "version_minor": 0
      },
      "text/plain": [
       "Downloading:   0%|          | 0.00/281k [00:00<?, ?B/s]"
      ]
     },
     "metadata": {},
     "output_type": "display_data"
    },
    {
     "data": {
      "application/vnd.jupyter.widget-view+json": {
       "model_id": "cb95a9c859ef40d395101d9b8438c49f",
       "version_major": 2,
       "version_minor": 0
      },
      "text/plain": [
       "Downloading:   0%|          | 0.00/1.07M [00:00<?, ?B/s]"
      ]
     },
     "metadata": {},
     "output_type": "display_data"
    },
    {
     "data": {
      "application/vnd.jupyter.widget-view+json": {
       "model_id": "4e04cd13a61d46c4ae510897f128efe7",
       "version_major": 2,
       "version_minor": 0
      },
      "text/plain": [
       "  0%|          | 0/1 [00:00<?, ?it/s]"
      ]
     },
     "metadata": {},
     "output_type": "display_data"
    },
    {
     "name": "stdout",
     "output_type": "stream",
     "text": [
      "Dataset json downloaded and prepared to /home/ecbm4040/.cache/huggingface/datasets/json/SetFit___sst2-bd20bada2d6a1bbd/0.0.0/c2d554c3377ea79c7664b93dc65d0803b45e3279000f993c7bfd18937fd7f426. Subsequent calls will reuse this data.\n"
     ]
    },
    {
     "data": {
      "application/vnd.jupyter.widget-view+json": {
       "model_id": "06b85c8d84584de1a0e5e9a9467f3898",
       "version_major": 2,
       "version_minor": 0
      },
      "text/plain": [
       "  0%|          | 0/1 [00:00<?, ?it/s]"
      ]
     },
     "metadata": {},
     "output_type": "display_data"
    },
    {
     "name": "stderr",
     "output_type": "stream",
     "text": [
      "textattack: Loading \u001b[94mdatasets\u001b[0m dataset \u001b[94mSetFit/sst2\u001b[0m, split \u001b[94mtrain\u001b[0m.\n"
     ]
    },
    {
     "data": {
      "text/plain": [
       "<textattack.datasets.huggingface_dataset.HuggingFaceDataset at 0x7f3fde6eee50>"
      ]
     },
     "execution_count": 3,
     "metadata": {},
     "output_type": "execute_result"
    }
   ],
   "source": [
    "HuggingFaceDataset('SetFit/sst2')"
   ]
  },
  {
   "cell_type": "code",
   "execution_count": 4,
   "id": "95cb27eb",
   "metadata": {},
   "outputs": [],
   "source": [
    "import textattack"
   ]
  },
  {
   "cell_type": "code",
   "execution_count": null,
   "id": "db333f0b",
   "metadata": {},
   "outputs": [],
   "source": [
    "textattack.attack_recipes.TextFoolerJin2019"
   ]
  },
  {
   "cell_type": "code",
   "execution_count": 6,
   "id": "133e7125",
   "metadata": {},
   "outputs": [],
   "source": [
    "import torch"
   ]
  },
  {
   "cell_type": "code",
   "execution_count": 10,
   "id": "f67a5ff0",
   "metadata": {},
   "outputs": [],
   "source": [
    "gan_model = torch.load('gan_bert_fine_tuned_6652.pt', map_location=torch.device('cpu'))"
   ]
  },
  {
   "cell_type": "code",
   "execution_count": 16,
   "id": "a463be3f",
   "metadata": {},
   "outputs": [
    {
     "data": {
      "text/plain": [
       "dict"
      ]
     },
     "execution_count": 16,
     "metadata": {},
     "output_type": "execute_result"
    }
   ],
   "source": [
    "type(gan_model)"
   ]
  },
  {
   "cell_type": "code",
   "execution_count": 15,
   "id": "6c6ce38a",
   "metadata": {},
   "outputs": [],
   "source": [
    "import transformers"
   ]
  },
  {
   "cell_type": "code",
   "execution_count": null,
   "id": "32002ef3",
   "metadata": {},
   "outputs": [],
   "source": [
    "transformers.pipeline()"
   ]
  },
  {
   "cell_type": "code",
   "execution_count": 19,
   "id": "0f54e978",
   "metadata": {},
   "outputs": [
    {
     "data": {
      "application/vnd.jupyter.widget-view+json": {
       "model_id": "71824fd890e24917b0846d5c68df595a",
       "version_major": 2,
       "version_minor": 0
      },
      "text/plain": [
       "Downloading:   0%|          | 0.00/666 [00:00<?, ?B/s]"
      ]
     },
     "metadata": {},
     "output_type": "display_data"
    },
    {
     "data": {
      "application/vnd.jupyter.widget-view+json": {
       "model_id": "2f2cf10d19134dcfb20c6c9718796d4e",
       "version_major": 2,
       "version_minor": 0
      },
      "text/plain": [
       "Downloading:   0%|          | 0.00/425M [00:00<?, ?B/s]"
      ]
     },
     "metadata": {},
     "output_type": "display_data"
    },
    {
     "name": "stderr",
     "output_type": "stream",
     "text": [
      "2022-05-03 20:58:14.027212: I tensorflow/stream_executor/platform/default/dso_loader.cc:48] Successfully opened dynamic library libcuda.so.1\n",
      "2022-05-03 20:58:14.027444: I tensorflow/stream_executor/cuda/cuda_gpu_executor.cc:982] successful NUMA node read from SysFS had negative value (-1), but there must be at least one NUMA node, so returning NUMA node zero\n",
      "2022-05-03 20:58:14.027916: I tensorflow/core/common_runtime/gpu/gpu_device.cc:1716] Found device 0 with properties: \n",
      "pciBusID: 0000:00:04.0 name: Tesla K80 computeCapability: 3.7\n",
      "coreClock: 0.8235GHz coreCount: 13 deviceMemorySize: 11.17GiB deviceMemoryBandwidth: 223.96GiB/s\n",
      "2022-05-03 20:58:14.028162: W tensorflow/stream_executor/platform/default/dso_loader.cc:59] Could not load dynamic library 'libcudart.so.10.1'; dlerror: libcudart.so.10.1: cannot open shared object file: No such file or directory; LD_LIBRARY_PATH: /home/ecbm4040/climate_change/lib/python3.8/site-packages/cv2/../../lib64:/usr/local/cuda-11.0/lib64\n",
      "2022-05-03 20:58:14.028347: W tensorflow/stream_executor/platform/default/dso_loader.cc:59] Could not load dynamic library 'libcublas.so.10'; dlerror: libcublas.so.10: cannot open shared object file: No such file or directory; LD_LIBRARY_PATH: /home/ecbm4040/climate_change/lib/python3.8/site-packages/cv2/../../lib64:/usr/local/cuda-11.0/lib64\n",
      "2022-05-03 20:58:14.056883: I tensorflow/stream_executor/platform/default/dso_loader.cc:48] Successfully opened dynamic library libcufft.so.10\n",
      "2022-05-03 20:58:14.068077: I tensorflow/stream_executor/platform/default/dso_loader.cc:48] Successfully opened dynamic library libcurand.so.10\n",
      "2022-05-03 20:58:14.100646: I tensorflow/stream_executor/platform/default/dso_loader.cc:48] Successfully opened dynamic library libcusolver.so.10\n",
      "2022-05-03 20:58:14.100879: W tensorflow/stream_executor/platform/default/dso_loader.cc:59] Could not load dynamic library 'libcusparse.so.10'; dlerror: libcusparse.so.10: cannot open shared object file: No such file or directory; LD_LIBRARY_PATH: /home/ecbm4040/climate_change/lib/python3.8/site-packages/cv2/../../lib64:/usr/local/cuda-11.0/lib64\n",
      "2022-05-03 20:58:14.101085: W tensorflow/stream_executor/platform/default/dso_loader.cc:59] Could not load dynamic library 'libcudnn.so.7'; dlerror: libcudnn.so.7: cannot open shared object file: No such file or directory; LD_LIBRARY_PATH: /home/ecbm4040/climate_change/lib/python3.8/site-packages/cv2/../../lib64:/usr/local/cuda-11.0/lib64\n",
      "2022-05-03 20:58:14.101103: W tensorflow/core/common_runtime/gpu/gpu_device.cc:1753] Cannot dlopen some GPU libraries. Please make sure the missing libraries mentioned above are installed properly if you would like to use GPU. Follow the guide at https://www.tensorflow.org/install/gpu for how to download and setup the required libraries for your platform.\n",
      "Skipping registering GPU devices...\n",
      "2022-05-03 20:58:14.101600: I tensorflow/core/platform/cpu_feature_guard.cc:142] This TensorFlow binary is optimized with oneAPI Deep Neural Network Library (oneDNN)to use the following CPU instructions in performance-critical operations:  AVX2 FMA\n",
      "To enable them in other operations, rebuild TensorFlow with the appropriate compiler flags.\n",
      "2022-05-03 20:58:14.108975: I tensorflow/core/platform/profile_utils/cpu_utils.cc:104] CPU Frequency: 2300000000 Hz\n",
      "2022-05-03 20:58:14.109573: I tensorflow/compiler/xla/service/service.cc:168] XLA service 0x3c6b8960 initialized for platform Host (this does not guarantee that XLA will be used). Devices:\n",
      "2022-05-03 20:58:14.109597: I tensorflow/compiler/xla/service/service.cc:176]   StreamExecutor device (0): Host, Default Version\n",
      "2022-05-03 20:58:14.110972: I tensorflow/core/common_runtime/gpu/gpu_device.cc:1257] Device interconnect StreamExecutor with strength 1 edge matrix:\n",
      "2022-05-03 20:58:14.110995: I tensorflow/core/common_runtime/gpu/gpu_device.cc:1263]      \n",
      "All model checkpoint layers were used when initializing TFCamembertForSequenceClassification.\n",
      "\n",
      "All the layers of TFCamembertForSequenceClassification were initialized from the model checkpoint at tblard/tf-allocine.\n",
      "If your task is similar to the task the model of the checkpoint was trained on, you can already use TFCamembertForSequenceClassification for predictions without further training.\n"
     ]
    }
   ],
   "source": [
    "from transformers import AutoTokenizer, TFAutoModelForSequenceClassification, pipeline\n",
    "\n",
    "model = TFAutoModelForSequenceClassification.from_pretrained(\"tblard/tf-allocine\")"
   ]
  },
  {
   "cell_type": "code",
   "execution_count": 20,
   "id": "99fec4af",
   "metadata": {},
   "outputs": [
    {
     "data": {
      "text/plain": [
       "transformers.models.camembert.modeling_tf_camembert.TFCamembertForSequenceClassification"
      ]
     },
     "execution_count": 20,
     "metadata": {},
     "output_type": "execute_result"
    }
   ],
   "source": [
    "type(model)"
   ]
  },
  {
   "cell_type": "markdown",
   "id": "b7f517a4",
   "metadata": {},
   "source": [
    "## Testing the adversarial attack"
   ]
  },
  {
   "cell_type": "code",
   "execution_count": null,
   "id": "e8dede4b",
   "metadata": {},
   "outputs": [
    {
     "name": "stdout",
     "output_type": "stream",
     "text": [
      "ERROR! Session/line number was not unique in database. History logging moved to new session 329\n"
     ]
    }
   ],
   "source": [
    "from adversarial_attack import *"
   ]
  },
  {
   "cell_type": "code",
   "execution_count": 21,
   "id": "c0d8cbbf",
   "metadata": {},
   "outputs": [
    {
     "ename": "NameError",
     "evalue": "name 'BertModelWrapper' is not defined",
     "output_type": "error",
     "traceback": [
      "\u001b[0;31m---------------------------------------------------------------------------\u001b[0m",
      "\u001b[0;31mNameError\u001b[0m                                 Traceback (most recent call last)",
      "Input \u001b[0;32mIn [21]\u001b[0m, in \u001b[0;36m<cell line: 1>\u001b[0;34m()\u001b[0m\n\u001b[0;32m----> 1\u001b[0m model_wrapper \u001b[38;5;241m=\u001b[39m \u001b[43mBertModelWrapper\u001b[49m(model_path\u001b[38;5;241m=\u001b[39m\u001b[38;5;124m'\u001b[39m\u001b[38;5;124mgan_bert_finetuned_sst2_6652.pt\u001b[39m\u001b[38;5;124m'\u001b[39m)\n",
      "\u001b[0;31mNameError\u001b[0m: name 'BertModelWrapper' is not defined"
     ]
    }
   ],
   "source": [
    "model_wrapper = BertModelWrapper(model_path='gan_bert_finetuned_sst2_6652.pt')"
   ]
  },
  {
   "cell_type": "code",
   "execution_count": null,
   "id": "0b5cd83d",
   "metadata": {},
   "outputs": [],
   "source": [
    "# Create the recipe\n",
    "recipe = TextFoolerJin2019.build(model_wrapper)\n",
    "\n",
    "dataset = HuggingFaceDataset(\"SetFit/sst2\", split=\"test\")\n"
   ]
  },
  {
   "cell_type": "code",
   "execution_count": null,
   "id": "bcb3d84d",
   "metadata": {},
   "outputs": [],
   "source": [
    "attacker = Attacker(recipe, dataset)"
   ]
  },
  {
   "cell_type": "code",
   "execution_count": null,
   "id": "d0a12c76",
   "metadata": {},
   "outputs": [],
   "source": [
    "results = attacker.attack_dataset()"
   ]
  }
 ],
 "metadata": {
  "kernelspec": {
   "display_name": "Python 3 (ipykernel)",
   "language": "python",
   "name": "python3"
  },
  "language_info": {
   "codemirror_mode": {
    "name": "ipython",
    "version": 3
   },
   "file_extension": ".py",
   "mimetype": "text/x-python",
   "name": "python",
   "nbconvert_exporter": "python",
   "pygments_lexer": "ipython3",
   "version": "3.8.0"
  }
 },
 "nbformat": 4,
 "nbformat_minor": 5
}

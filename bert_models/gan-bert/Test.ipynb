{
 "cells": [
  {
   "cell_type": "code",
   "execution_count": 1,
   "id": "85df042f",
   "metadata": {},
   "outputs": [],
   "source": [
    "def get_qc_examples(input_file):\n",
    "    \"\"\"Creates examples for the training and dev sets.\"\"\"\n",
    "    examples = []\n",
    "\n",
    "    with open(input_file, 'r') as f:\n",
    "        contents = f.read()\n",
    "        file_as_list = contents.splitlines()\n",
    "        for line in file_as_list[1:]:\n",
    "            split = line.split(\" \")\n",
    "            question = ' '.join(split[1:])\n",
    "\n",
    "            text_a = question\n",
    "            inn_split = split[0].split(\":\")\n",
    "            label = inn_split[0] + \"_\" + inn_split[1]\n",
    "            examples.append((text_a, label))\n",
    "        f.close()\n",
    "\n",
    "    return examples"
   ]
  },
  {
   "cell_type": "code",
   "execution_count": 40,
   "id": "1fb58736",
   "metadata": {},
   "outputs": [],
   "source": [
    "def get_sst_examples(input_file):\n",
    "    \"\"\"Creates examples for the training and dev sets.\"\"\"\n",
    "    labeled_examples = []\n",
    "    unlabeled_examples = []\n",
    "\n",
    "    with open(input_file, 'r') as f:\n",
    "        contents = f.read()\n",
    "        file_as_list = contents.splitlines()\n",
    "        for line in file_as_list[1:]:\n",
    "            text, label = line.split(\"\\t\") \n",
    "            if np.random.binomial(1, 0.01, 1)[0] == 0:\n",
    "                unlabeled_examples.append((text, 'UNK'))\n",
    "            else:\n",
    "                labeled_examples.append((text, label))\n",
    "        f.close()\n",
    "\n",
    "    return labeled_examples, unlabeled_examples"
   ]
  },
  {
   "cell_type": "code",
   "execution_count": 41,
   "id": "27e00cba",
   "metadata": {},
   "outputs": [],
   "source": [
    "sst_label, sst_unlabel = get_sst_examples('./../../data/SST-2/train.tsv')"
   ]
  },
  {
   "cell_type": "code",
   "execution_count": 50,
   "id": "848d1e6a",
   "metadata": {},
   "outputs": [
    {
     "data": {
      "text/plain": [
       "('the mess that is world traveler ', '0')"
      ]
     },
     "execution_count": 50,
     "metadata": {},
     "output_type": "execute_result"
    }
   ],
   "source": [
    "sst_label[90]"
   ]
  },
  {
   "cell_type": "code",
   "execution_count": 51,
   "id": "a0fbdc3b",
   "metadata": {},
   "outputs": [
    {
     "data": {
      "text/plain": [
       "('hide new secretions from the parental units ', 'UNK')"
      ]
     },
     "execution_count": 51,
     "metadata": {},
     "output_type": "execute_result"
    }
   ],
   "source": [
    "sst_unlabel[0]"
   ]
  },
  {
   "cell_type": "code",
   "execution_count": 2,
   "id": "5c434217",
   "metadata": {},
   "outputs": [],
   "source": [
    "#  NOTE: in this setting 50 classes are involved\n",
    "labeled_file = \"./qc_data/labeled.tsv\"\n",
    "unlabeled_file = \"./qc_data/unlabeled.tsv\"\n",
    "test_filename = \"./qc_data/test.tsv\""
   ]
  },
  {
   "cell_type": "code",
   "execution_count": 3,
   "id": "a915c72b",
   "metadata": {},
   "outputs": [],
   "source": [
    "#Load the examples\n",
    "labeled_examples = get_qc_examples(labeled_file)\n",
    "unlabeled_examples = get_qc_examples(unlabeled_file)\n",
    "test_examples = get_qc_examples(test_filename)"
   ]
  },
  {
   "cell_type": "code",
   "execution_count": 19,
   "id": "249fdffa",
   "metadata": {
    "scrolled": false
   },
   "outputs": [
    {
     "data": {
      "text/plain": [
       "(\"How many pitchers occupy the shelf beside the crouching woman in Edgar Degas 's 1886 painting The Tub ?\",\n",
       " 'NUM_count')"
      ]
     },
     "execution_count": 19,
     "metadata": {},
     "output_type": "execute_result"
    }
   ],
   "source": [
    "labeled_examples[0]"
   ]
  },
  {
   "cell_type": "code",
   "execution_count": 22,
   "id": "3cba8063",
   "metadata": {},
   "outputs": [
    {
     "data": {
      "text/plain": [
       "('What is the average salary of a paleontologist ?', 'UNK_UNK')"
      ]
     },
     "execution_count": 22,
     "metadata": {},
     "output_type": "execute_result"
    }
   ],
   "source": [
    "unlabeled_examples[1]"
   ]
  },
  {
   "cell_type": "code",
   "execution_count": 21,
   "id": "e36c76a5",
   "metadata": {},
   "outputs": [
    {
     "data": {
      "text/plain": [
       "('How far is it from Denver to Aspen ?', 'NUM_dist')"
      ]
     },
     "execution_count": 21,
     "metadata": {},
     "output_type": "execute_result"
    }
   ],
   "source": [
    "test_examples[0]"
   ]
  },
  {
   "cell_type": "code",
   "execution_count": 15,
   "id": "9dc35ffd",
   "metadata": {},
   "outputs": [
    {
     "data": {
      "text/plain": [
       "109"
      ]
     },
     "execution_count": 15,
     "metadata": {},
     "output_type": "execute_result"
    }
   ],
   "source": [
    "len(labeled_examples)"
   ]
  },
  {
   "cell_type": "code",
   "execution_count": 17,
   "id": "9810525b",
   "metadata": {},
   "outputs": [
    {
     "data": {
      "text/plain": [
       "67349"
      ]
     },
     "execution_count": 17,
     "metadata": {},
     "output_type": "execute_result"
    }
   ],
   "source": [
    "len(sst_train)"
   ]
  },
  {
   "cell_type": "code",
   "execution_count": 18,
   "id": "60e2d314",
   "metadata": {},
   "outputs": [
    {
     "data": {
      "text/plain": [
       "872"
      ]
     },
     "execution_count": 18,
     "metadata": {},
     "output_type": "execute_result"
    }
   ],
   "source": [
    "len(sst_dev)"
   ]
  },
  {
   "cell_type": "code",
   "execution_count": 29,
   "id": "ec9b8562",
   "metadata": {},
   "outputs": [
    {
     "data": {
      "text/plain": [
       "True"
      ]
     },
     "execution_count": 29,
     "metadata": {},
     "output_type": "execute_result"
    }
   ],
   "source": [
    "import numpy as np\n",
    "\n"
   ]
  },
  {
   "cell_type": "code",
   "execution_count": null,
   "id": "e202245b",
   "metadata": {},
   "outputs": [],
   "source": []
  }
 ],
 "metadata": {
  "kernelspec": {
   "display_name": "Python 3 (ipykernel)",
   "language": "python",
   "name": "python3"
  },
  "language_info": {
   "codemirror_mode": {
    "name": "ipython",
    "version": 3
   },
   "file_extension": ".py",
   "mimetype": "text/x-python",
   "name": "python",
   "nbconvert_exporter": "python",
   "pygments_lexer": "ipython3",
   "version": "3.8.0"
  }
 },
 "nbformat": 4,
 "nbformat_minor": 5
}
